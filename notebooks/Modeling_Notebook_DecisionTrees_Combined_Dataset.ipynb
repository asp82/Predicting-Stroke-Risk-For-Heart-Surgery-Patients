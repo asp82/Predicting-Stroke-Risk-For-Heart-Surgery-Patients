{
 "cells": [
  {
   "cell_type": "markdown",
   "metadata": {},
   "source": [
    "## Capstone Project\n",
    "\n",
    "### Modeling Notebook - `DecisionTrees`  `COMBINED DATASET TREE` from 10/24/19"
   ]
  },
  {
   "cell_type": "markdown",
   "metadata": {},
   "source": [
    "#### Importing Libraries"
   ]
  },
  {
   "cell_type": "code",
   "execution_count": 1,
   "metadata": {},
   "outputs": [
    {
     "name": "stderr",
     "output_type": "stream",
     "text": [
      "/anaconda/lib/python3.6/site-packages/sklearn/externals/joblib/__init__.py:15: DeprecationWarning: sklearn.externals.joblib is deprecated in 0.21 and will be removed in 0.23. Please import this functionality directly from joblib, which can be installed with: pip install joblib. If this warning is raised when loading pickled models, you may need to re-serialize those models with scikit-learn 0.21+.\n",
      "  warnings.warn(msg, category=DeprecationWarning)\n"
     ]
    }
   ],
   "source": [
    "%matplotlib inline\n",
    "\n",
    "# general libraries\n",
    "import re\n",
    "import string\n",
    "import sys\n",
    "import os\n",
    "import math\n",
    "import numpy as np\n",
    "import pandas as pd\n",
    "import matplotlib.pyplot as plt\n",
    "import seaborn as sns\n",
    "\n",
    "# importing date libraries\n",
    "import datetime as dt\n",
    "import dateutil.parser as dparser\n",
    "\n",
    "# scikit-learn libraries for preprocessing\n",
    "import sklearn\n",
    "from sklearn.model_selection import train_test_split\n",
    "from sklearn.preprocessing import LabelBinarizer\n",
    "from sklearn.preprocessing import MultiLabelBinarizer\n",
    "from sklearn.preprocessing import FunctionTransformer\n",
    "from sklearn.preprocessing import LabelEncoder\n",
    "from sklearn.preprocessing import OneHotEncoder\n",
    "from sklearn.preprocessing import StandardScaler\n",
    "from sklearn.preprocessing import MinMaxScaler\n",
    "\n",
    "# scikit-learn libraries for constructing pipelines\n",
    "from sklearn.pipeline import FeatureUnion, Pipeline\n",
    "from sklearn.pipeline import make_pipeline\n",
    "from sklearn.preprocessing import FunctionTransformer\n",
    "from sklearn.base import BaseEstimator, TransformerMixin\n",
    "\n",
    "# scikit-learn libraries for clustering and dimensionality reduction\n",
    "from sklearn.decomposition import PCA\n",
    "from sklearn.cluster import KMeans\n",
    "from sklearn.metrics import silhouette_samples, silhouette_score\n",
    "from sklearn.cluster import DBSCAN\n",
    "from scipy.cluster.hierarchy import dendrogram, linkage, fcluster\n",
    "from sklearn.mixture import GaussianMixture\n",
    "from sklearn.metrics.scorer import make_scorer\n",
    "from sklearn.metrics import classification_report,confusion_matrix,roc_curve,auc,precision_recall_curve,roc_auc_score\n",
    "\n",
    "# scikit-learn libraries for evaluation\n",
    "from sklearn import metrics\n",
    "\n",
    "# scikit-learn libraries for feature selection\n",
    "from sklearn.feature_selection import VarianceThreshold\n",
    "from sklearn.feature_selection import SelectKBest\n",
    "from sklearn.feature_selection import chi2, f_classif\n",
    "from sklearn.feature_selection import SelectPercentile\n",
    "from sklearn.feature_selection import RFECV\n",
    "\n",
    "# scikit-learn libraries for learning\n",
    "from sklearn.model_selection import KFold, StratifiedKFold, GridSearchCV, cross_validate, cross_val_score\n",
    "from sklearn.model_selection import validation_curve\n",
    "from sklearn.model_selection import RandomizedSearchCV\n",
    "from sklearn.neighbors import KNeighborsClassifier\n",
    "from sklearn.linear_model import LogisticRegression\n",
    "from sklearn.naive_bayes import BernoulliNB\n",
    "from sklearn.naive_bayes import MultinomialNB\n",
    "from sklearn.naive_bayes import GaussianNB\n",
    "from sklearn.tree import DecisionTreeClassifier\n",
    "from sklearn.ensemble import RandomForestClassifier\n",
    "from sklearn.ensemble import GradientBoostingClassifier\n",
    "\n",
    "# saving models\n",
    "import pickle\n",
    "from sklearn.externals import joblib\n",
    "\n",
    "# setting pandas display options\n",
    "pd.set_option(\"display.max_columns\", 999)\n",
    "pd.set_option(\"display.max_rows\", 10000)\n",
    "pd.set_option('display.max_colwidth', 100)\n",
    "pd.set_option('precision', 5)\n",
    "pd.options.mode.chained_assignment = None"
   ]
  },
  {
   "cell_type": "markdown",
   "metadata": {},
   "source": [
    "#### Directory/File Structure"
   ]
  },
  {
   "cell_type": "code",
   "execution_count": 2,
   "metadata": {},
   "outputs": [
    {
     "data": {
      "text/plain": [
       "'3.6.9 |Anaconda custom (x86_64)| (default, Jul 30 2019, 13:42:17) \\n[GCC 4.2.1 Compatible Clang 4.0.1 (tags/RELEASE_401/final)]'"
      ]
     },
     "execution_count": 2,
     "metadata": {},
     "output_type": "execute_result"
    }
   ],
   "source": [
    "sys.version"
   ]
  },
  {
   "cell_type": "code",
   "execution_count": 3,
   "metadata": {},
   "outputs": [
    {
     "name": "stdout",
     "output_type": "stream",
     "text": [
      "Running pandas version: 0.25.2\n",
      "Running numpy version: 1.17.2\n",
      "Running sklearn version: 0.21.3\n"
     ]
    }
   ],
   "source": [
    "print ('Running pandas version:', pd.__version__)\n",
    "print ('Running numpy version:', np.__version__)\n",
    "print ('Running sklearn version:', sklearn.__version__)"
   ]
  },
  {
   "cell_type": "code",
   "execution_count": 4,
   "metadata": {},
   "outputs": [
    {
     "data": {
      "text/plain": [
       "'/Users/Shailesh/Desktop/MIDS/Capstone/w210CapstoneProject/notebooks'"
      ]
     },
     "execution_count": 4,
     "metadata": {},
     "output_type": "execute_result"
    }
   ],
   "source": [
    "os.getcwd()"
   ]
  },
  {
   "cell_type": "code",
   "execution_count": 5,
   "metadata": {},
   "outputs": [],
   "source": [
    "os.chdir('../data')"
   ]
  },
  {
   "cell_type": "code",
   "execution_count": 6,
   "metadata": {},
   "outputs": [
    {
     "data": {
      "text/plain": [
       "['.DS_Store',\n",
       " 'Capstone_Fall_Shannon_Sept2019_request.csv',\n",
       " 'POSTOP_ALL_col_names_11_9.pkl',\n",
       " 'POSTOP_TREE_ALL_col_names_11_9.pkl',\n",
       " 'POSTOP_categorical_TREE_col_names_11_14.pkl',\n",
       " 'POSTOP_categorical_TREE_col_names_11_9.pkl',\n",
       " 'POSTOP_categorical_col_names_11_14.pkl',\n",
       " 'POSTOP_categorical_col_names_11_9.pkl',\n",
       " 'POSTOP_numerical_col_names_11_14.pkl',\n",
       " 'POSTOP_numerical_col_names_11_9.pkl',\n",
       " 'PREOP_ALL_col_names_11_9.pkl',\n",
       " 'PREOP_TREE_ALL_col_names_11_9.pkl',\n",
       " 'PREOP_categorical_TREE_col_names_11_14.pkl',\n",
       " 'PREOP_categorical_TREE_col_names_11_9.pkl',\n",
       " 'PREOP_categorical_col_names_11_14.pkl',\n",
       " 'PREOP_categorical_col_names_11_9.pkl',\n",
       " 'PREOP_dataset_10_24.pkl',\n",
       " 'PREOP_dataset_TREE_10_24.pkl',\n",
       " 'PREOP_dataset_TREE_cabg.pkl',\n",
       " 'PREOP_dataset_TREE_cabvalve.pkl',\n",
       " 'PREOP_dataset_TREE_valve.pkl',\n",
       " 'PREOP_dataset_cabg.pkl',\n",
       " 'PREOP_dataset_cabvalve.pkl',\n",
       " 'PREOP_dataset_valve.pkl',\n",
       " 'PREOP_numerical_col_names_11_14.pkl',\n",
       " 'PREOP_numerical_col_names_11_9.pkl',\n",
       " 'PREPOST_dataset_COMBO_11_14.pkl',\n",
       " 'PRE_plus_POST_dataset_11_9.pkl',\n",
       " 'PRE_plus_POST_dataset_TREE_11_9.pkl',\n",
       " 'PRE_plus_POST_dataset_TREE_cabg.pkl',\n",
       " 'PRE_plus_POST_dataset_TREE_cabvalve.pkl',\n",
       " 'PRE_plus_POST_dataset_TREE_valve.pkl',\n",
       " 'PRE_plus_POST_dataset_cabg.pkl',\n",
       " 'PRE_plus_POST_dataset_cabvalve.pkl',\n",
       " 'PRE_plus_POST_dataset_valve.pkl',\n",
       " 'Pre_Op_Features_Matrix_Construction_FINAL.ipynb',\n",
       " 'X_PREOP_10_24.pkl',\n",
       " 'X_PREOP_TREE_10_24.pkl',\n",
       " 'X_PREOP_TREE_10_27.pkl',\n",
       " 'X_dev_PREOP_10_24.pkl',\n",
       " 'X_dev_PREOP_TREE_10_24.pkl',\n",
       " 'X_dev_PREOP_TREE_10_27.pkl',\n",
       " 'X_dev_PREOP_TREE_UNPROC_10_27.pkl',\n",
       " 'X_dev_PREOP_UNPROC_10_31_THRESH.pkl',\n",
       " 'X_dev_PREPOST_UNPROC_11_9.pkl',\n",
       " 'X_test_PREOP_10_24.pkl',\n",
       " 'X_test_PREOP_TREE_10_24.pkl',\n",
       " 'X_test_PREOP_TREE_10_27.pkl',\n",
       " 'X_test_PREOP_TREE_UNPROC_10_27.pkl',\n",
       " 'X_test_PREOP_UNPROC_10_31_THRESH.pkl',\n",
       " 'X_test_PREPOST_UNPROC_11_9.pkl',\n",
       " 'X_train_PREOP_10_24.pkl',\n",
       " 'X_train_PREOP_TREE_10_24.pkl',\n",
       " 'X_train_PREOP_TREE_10_27.pkl',\n",
       " 'X_train_PREOP_TREE_UNPROC_10_27.pkl',\n",
       " 'X_train_PREOP_UNPROC_10_31_THRESH.pkl',\n",
       " 'X_train_PREPOST_UNPROC_11_9.pkl',\n",
       " 'cabg_raw.pkl',\n",
       " 'cabvalve_raw.pkl',\n",
       " 'capstone_cleaned_data.csv',\n",
       " 'capstone_data_binarized_outcome.pkl',\n",
       " 'capstone_data_binarized_outcome.xlsx',\n",
       " 'outcome_other_col_names_11_9.pkl',\n",
       " 'pre_op_X_B_dev.pkl',\n",
       " 'pre_op_X_B_test.pkl',\n",
       " 'pre_op_X_B_train.pkl',\n",
       " 'pre_op_X_tree_A_dev.pkl',\n",
       " 'pre_op_X_tree_A_test.pkl',\n",
       " 'pre_op_X_tree_A_train.pkl',\n",
       " 'pre_op_X_tree_B_dev.pkl',\n",
       " 'pre_op_X_tree_B_test.pkl',\n",
       " 'pre_op_X_tree_B_train.pkl',\n",
       " 'pre_op_features.pkl',\n",
       " 'pre_op_features_A.pkl',\n",
       " 'pre_op_features_A_DREF.pkl',\n",
       " 'pre_op_features_B.pkl',\n",
       " 'pre_op_features_B_DREF.pkl',\n",
       " 'pre_op_features_DREF.pkl',\n",
       " 'pre_op_features_tree.pkl',\n",
       " 'pre_op_features_tree_A.pkl',\n",
       " 'pre_op_features_tree_A_DREF.pkl',\n",
       " 'pre_op_features_tree_B.pkl',\n",
       " 'pre_op_features_tree_B_DREF.pkl',\n",
       " 'pre_op_features_tree_DREF.pkl',\n",
       " 'predstro_dev_10_31.pkl',\n",
       " 'predstro_dev_11_9.pkl',\n",
       " 'predstro_test_10_31.pkl',\n",
       " 'predstro_test_11_9.pkl',\n",
       " 'predstro_train_10_31.pkl',\n",
       " 'predstro_train_11_9.pkl',\n",
       " 'sts_model_evaldata_A.pkl',\n",
       " 'sts_model_evaldata_B.pkl',\n",
       " 'train_numeric_medians_10_27.pkl',\n",
       " 'valve_raw.pkl',\n",
       " 'y_PREOP_10_24.pkl',\n",
       " 'y_PREOP_TREE_10_24.pkl',\n",
       " 'y_PREOP_TREE_10_27.pkl',\n",
       " 'y_dev_PREOP_10_24.pkl',\n",
       " 'y_dev_PREOP_TREE_10_24.pkl',\n",
       " 'y_dev_PREOP_TREE_10_27.pkl',\n",
       " 'y_dev_PREOP_TREE_UNPROC_10_27.pkl',\n",
       " 'y_dev_PREOP_UNPROC_10_31_THRESH.pkl',\n",
       " 'y_dev_PREPOST_UNPROC_11_9.pkl',\n",
       " 'y_test_PREOP_10_24.pkl',\n",
       " 'y_test_PREOP_TREE_10_24.pkl',\n",
       " 'y_test_PREOP_TREE_10_27.pkl',\n",
       " 'y_test_PREOP_TREE_UNPROC_10_27.pkl',\n",
       " 'y_test_PREOP_UNPROC_10_31_THRESH.pkl',\n",
       " 'y_test_PREPOST_UNPROC_11_9.pkl',\n",
       " 'y_train_PREOP_10_24.pkl',\n",
       " 'y_train_PREOP_TREE_10_24.pkl',\n",
       " 'y_train_PREOP_TREE_10_27.pkl',\n",
       " 'y_train_PREOP_TREE_UNPROC_10_27.pkl',\n",
       " 'y_train_PREOP_UNPROC_10_31_THRESH.pkl',\n",
       " 'y_train_PREPOST_UNPROC_11_9.pkl']"
      ]
     },
     "execution_count": 6,
     "metadata": {},
     "output_type": "execute_result"
    }
   ],
   "source": [
    "sorted(os.listdir())"
   ]
  },
  {
   "cell_type": "markdown",
   "metadata": {},
   "source": [
    "#### Loading Datasets"
   ]
  },
  {
   "cell_type": "markdown",
   "metadata": {},
   "source": [
    "#### `X_train`, `y_train`\n",
    "- designation of `_all` denotes complete feature set"
   ]
  },
  {
   "cell_type": "code",
   "execution_count": 7,
   "metadata": {},
   "outputs": [],
   "source": [
    "X_train_all = pd.read_pickle('X_train_PREOP_TREE_10_27.pkl')\n",
    "y_train = pd.read_pickle('y_train_PREOP_TREE_10_27.pkl')"
   ]
  },
  {
   "cell_type": "code",
   "execution_count": 8,
   "metadata": {},
   "outputs": [
    {
     "data": {
      "text/plain": [
       "((34192, 72), (34192,))"
      ]
     },
     "execution_count": 8,
     "metadata": {},
     "output_type": "execute_result"
    }
   ],
   "source": [
    "X_train_all.shape, y_train.shape"
   ]
  },
  {
   "cell_type": "markdown",
   "metadata": {},
   "source": [
    "#### `X_dev`, `y_dev`\n",
    "- designation of `_all` denotes complete feature set"
   ]
  },
  {
   "cell_type": "code",
   "execution_count": 9,
   "metadata": {},
   "outputs": [],
   "source": [
    "X_dev_all = pd.read_pickle('X_dev_PREOP_TREE_10_27.pkl')\n",
    "y_dev = pd.read_pickle('y_dev_PREOP_TREE_10_27.pkl')"
   ]
  },
  {
   "cell_type": "code",
   "execution_count": 10,
   "metadata": {},
   "outputs": [
    {
     "data": {
      "text/plain": [
       "((4274, 72), (4274,))"
      ]
     },
     "execution_count": 10,
     "metadata": {},
     "output_type": "execute_result"
    }
   ],
   "source": [
    "X_dev_all.shape, y_dev.shape"
   ]
  },
  {
   "cell_type": "markdown",
   "metadata": {},
   "source": [
    "#### `X_test`, `y_test`\n",
    "- designation of `_all` denotes complete feature set"
   ]
  },
  {
   "cell_type": "code",
   "execution_count": 11,
   "metadata": {},
   "outputs": [],
   "source": [
    "X_test_all = pd.read_pickle('X_dev_PREOP_TREE_10_27.pkl')\n",
    "y_test = pd.read_pickle('y_dev_PREOP_TREE_10_27.pkl')"
   ]
  },
  {
   "cell_type": "code",
   "execution_count": 12,
   "metadata": {},
   "outputs": [
    {
     "data": {
      "text/plain": [
       "((4274, 72), (4274,))"
      ]
     },
     "execution_count": 12,
     "metadata": {},
     "output_type": "execute_result"
    }
   ],
   "source": [
    "X_test_all.shape, y_dev.shape"
   ]
  },
  {
   "cell_type": "markdown",
   "metadata": {},
   "source": [
    "- validating row count for `COMBINED DATASET TREE` from 10/27/19 - `42,740` total observations"
   ]
  },
  {
   "cell_type": "code",
   "execution_count": 13,
   "metadata": {},
   "outputs": [
    {
     "data": {
      "text/plain": [
       "0"
      ]
     },
     "execution_count": 13,
     "metadata": {},
     "output_type": "execute_result"
    }
   ],
   "source": [
    "42740 - X_train_all.shape[0] - X_dev_all.shape[0] - X_test_all.shape[0]"
   ]
  },
  {
   "cell_type": "markdown",
   "metadata": {},
   "source": [
    "- last look at the data (`X_train_all`) before modeling"
   ]
  },
  {
   "cell_type": "code",
   "execution_count": 14,
   "metadata": {},
   "outputs": [
    {
     "data": {
      "text/html": [
       "<div>\n",
       "<style scoped>\n",
       "    .dataframe tbody tr th:only-of-type {\n",
       "        vertical-align: middle;\n",
       "    }\n",
       "\n",
       "    .dataframe tbody tr th {\n",
       "        vertical-align: top;\n",
       "    }\n",
       "\n",
       "    .dataframe thead th {\n",
       "        text-align: right;\n",
       "    }\n",
       "</style>\n",
       "<table border=\"1\" class=\"dataframe\">\n",
       "  <thead>\n",
       "    <tr style=\"text-align: right;\">\n",
       "      <th></th>\n",
       "      <th>age</th>\n",
       "      <th>heightcm</th>\n",
       "      <th>weightkg</th>\n",
       "      <th>bmi</th>\n",
       "      <th>hct</th>\n",
       "      <th>creatlst</th>\n",
       "      <th>totalbumin</th>\n",
       "      <th>a1clvl</th>\n",
       "      <th>meldscr</th>\n",
       "      <th>hdef</th>\n",
       "      <th>pasys</th>\n",
       "      <th>surgdt_month</th>\n",
       "      <th>surgdt_DayOfWeek</th>\n",
       "      <th>surgdt_PartOfMonth</th>\n",
       "      <th>gender</th>\n",
       "      <th>racecaucasian</th>\n",
       "      <th>raceblack</th>\n",
       "      <th>raceasian</th>\n",
       "      <th>racenativeam</th>\n",
       "      <th>racnativepacific</th>\n",
       "      <th>ethnicity</th>\n",
       "      <th>diabetes</th>\n",
       "      <th>dyslip</th>\n",
       "      <th>dialysis</th>\n",
       "      <th>hypertn</th>\n",
       "      <th>infendo</th>\n",
       "      <th>slpapn</th>\n",
       "      <th>liverdis</th>\n",
       "      <th>immsupp</th>\n",
       "      <th>mediastrad</th>\n",
       "      <th>cancer</th>\n",
       "      <th>pvd</th>\n",
       "      <th>syncope</th>\n",
       "      <th>unrespstat</th>\n",
       "      <th>cvd</th>\n",
       "      <th>cva</th>\n",
       "      <th>cvdtia</th>\n",
       "      <th>cvdpcarsurg</th>\n",
       "      <th>hitanti</th>\n",
       "      <th>prcvint</th>\n",
       "      <th>prcab</th>\n",
       "      <th>prvalve</th>\n",
       "      <th>chf</th>\n",
       "      <th>priorhf</th>\n",
       "      <th>arrhyafib</th>\n",
       "      <th>medinotr</th>\n",
       "      <th>hdefd</th>\n",
       "      <th>vdaort</th>\n",
       "      <th>vdstena</th>\n",
       "      <th>vdstenm</th>\n",
       "      <th>diabctrl</th>\n",
       "      <th>infendty</th>\n",
       "      <th>Tobacco_Combined</th>\n",
       "      <th>chrlungd</th>\n",
       "      <th>hmo2</th>\n",
       "      <th>ivdrugab</th>\n",
       "      <th>alcohol</th>\n",
       "      <th>carshock24</th>\n",
       "      <th>resusc24</th>\n",
       "      <th>medasa</th>\n",
       "      <th>medaplt5days</th>\n",
       "      <th>medlipid</th>\n",
       "      <th>numdisv</th>\n",
       "      <th>anginalclass</th>\n",
       "      <th>classnyh</th>\n",
       "      <th>vdinsufm</th>\n",
       "      <th>vdinsuft</th>\n",
       "      <th>incidencREOP</th>\n",
       "      <th>status</th>\n",
       "      <th>cvdcarsten</th>\n",
       "      <th>cvdstenrt</th>\n",
       "      <th>cvdstenlft</th>\n",
       "    </tr>\n",
       "  </thead>\n",
       "  <tbody>\n",
       "    <tr>\n",
       "      <th>0</th>\n",
       "      <td>-2.12457</td>\n",
       "      <td>0.11594</td>\n",
       "      <td>0.32942</td>\n",
       "      <td>0.15700</td>\n",
       "      <td>-2.65268</td>\n",
       "      <td>-0.35221</td>\n",
       "      <td>-2.27155</td>\n",
       "      <td>-1.62927</td>\n",
       "      <td>2.47597</td>\n",
       "      <td>0.98148</td>\n",
       "      <td>3.58585</td>\n",
       "      <td>10</td>\n",
       "      <td>2</td>\n",
       "      <td>2</td>\n",
       "      <td>1.0</td>\n",
       "      <td>1.0</td>\n",
       "      <td>0.0</td>\n",
       "      <td>0.0</td>\n",
       "      <td>0.0</td>\n",
       "      <td>0.0</td>\n",
       "      <td>0.0</td>\n",
       "      <td>1.0</td>\n",
       "      <td>1.0</td>\n",
       "      <td>0.0</td>\n",
       "      <td>1</td>\n",
       "      <td>1.0</td>\n",
       "      <td>0.0</td>\n",
       "      <td>0.0</td>\n",
       "      <td>0</td>\n",
       "      <td>0.0</td>\n",
       "      <td>0.0</td>\n",
       "      <td>0.0</td>\n",
       "      <td>0.0</td>\n",
       "      <td>0.0</td>\n",
       "      <td>0.0</td>\n",
       "      <td>0.0</td>\n",
       "      <td>0.0</td>\n",
       "      <td>0.0</td>\n",
       "      <td>0.0</td>\n",
       "      <td>0.0</td>\n",
       "      <td>0.0</td>\n",
       "      <td>0.0</td>\n",
       "      <td>1.0</td>\n",
       "      <td>1.0</td>\n",
       "      <td>0.0</td>\n",
       "      <td>0.0</td>\n",
       "      <td>1.0</td>\n",
       "      <td>1.0</td>\n",
       "      <td>0.0</td>\n",
       "      <td>0.0</td>\n",
       "      <td>0.0</td>\n",
       "      <td>1.0</td>\n",
       "      <td>1.0</td>\n",
       "      <td>0.0</td>\n",
       "      <td>0.0</td>\n",
       "      <td>0.0</td>\n",
       "      <td>0.0</td>\n",
       "      <td>0.0</td>\n",
       "      <td>0.0</td>\n",
       "      <td>0.0</td>\n",
       "      <td>0</td>\n",
       "      <td>0.0</td>\n",
       "      <td>0</td>\n",
       "      <td>0</td>\n",
       "      <td>3</td>\n",
       "      <td>1</td>\n",
       "      <td>1</td>\n",
       "      <td>0</td>\n",
       "      <td>0</td>\n",
       "      <td>0</td>\n",
       "      <td>0</td>\n",
       "      <td>0</td>\n",
       "    </tr>\n",
       "    <tr>\n",
       "      <th>1</th>\n",
       "      <td>1.08243</td>\n",
       "      <td>-0.82771</td>\n",
       "      <td>-0.95497</td>\n",
       "      <td>-0.39563</td>\n",
       "      <td>-0.10617</td>\n",
       "      <td>-0.13691</td>\n",
       "      <td>0.04597</td>\n",
       "      <td>0.25206</td>\n",
       "      <td>-0.29493</td>\n",
       "      <td>0.33103</td>\n",
       "      <td>0.49141</td>\n",
       "      <td>10</td>\n",
       "      <td>0</td>\n",
       "      <td>3</td>\n",
       "      <td>0.0</td>\n",
       "      <td>1.0</td>\n",
       "      <td>0.0</td>\n",
       "      <td>0.0</td>\n",
       "      <td>0.0</td>\n",
       "      <td>0.0</td>\n",
       "      <td>0.0</td>\n",
       "      <td>1.0</td>\n",
       "      <td>1.0</td>\n",
       "      <td>0.0</td>\n",
       "      <td>0</td>\n",
       "      <td>0.0</td>\n",
       "      <td>0.0</td>\n",
       "      <td>0.0</td>\n",
       "      <td>0</td>\n",
       "      <td>0.0</td>\n",
       "      <td>1.0</td>\n",
       "      <td>1.0</td>\n",
       "      <td>0.0</td>\n",
       "      <td>0.0</td>\n",
       "      <td>0.0</td>\n",
       "      <td>0.0</td>\n",
       "      <td>0.0</td>\n",
       "      <td>0.0</td>\n",
       "      <td>0.0</td>\n",
       "      <td>0.0</td>\n",
       "      <td>0.0</td>\n",
       "      <td>0.0</td>\n",
       "      <td>1.0</td>\n",
       "      <td>1.0</td>\n",
       "      <td>0.0</td>\n",
       "      <td>0.0</td>\n",
       "      <td>1.0</td>\n",
       "      <td>0.0</td>\n",
       "      <td>0.0</td>\n",
       "      <td>0.0</td>\n",
       "      <td>0.0</td>\n",
       "      <td>0.0</td>\n",
       "      <td>0.0</td>\n",
       "      <td>1.0</td>\n",
       "      <td>0.0</td>\n",
       "      <td>0.0</td>\n",
       "      <td>0.0</td>\n",
       "      <td>0.0</td>\n",
       "      <td>0.0</td>\n",
       "      <td>1.0</td>\n",
       "      <td>0</td>\n",
       "      <td>1.0</td>\n",
       "      <td>3</td>\n",
       "      <td>4</td>\n",
       "      <td>2</td>\n",
       "      <td>2</td>\n",
       "      <td>1</td>\n",
       "      <td>0</td>\n",
       "      <td>0</td>\n",
       "      <td>0</td>\n",
       "      <td>0</td>\n",
       "      <td>0</td>\n",
       "    </tr>\n",
       "    <tr>\n",
       "      <th>2</th>\n",
       "      <td>-0.20037</td>\n",
       "      <td>1.53140</td>\n",
       "      <td>1.56497</td>\n",
       "      <td>0.35976</td>\n",
       "      <td>0.59504</td>\n",
       "      <td>-0.25533</td>\n",
       "      <td>-0.34028</td>\n",
       "      <td>0.32442</td>\n",
       "      <td>-0.67978</td>\n",
       "      <td>0.57495</td>\n",
       "      <td>-0.12748</td>\n",
       "      <td>10</td>\n",
       "      <td>1</td>\n",
       "      <td>1</td>\n",
       "      <td>1.0</td>\n",
       "      <td>1.0</td>\n",
       "      <td>0.0</td>\n",
       "      <td>0.0</td>\n",
       "      <td>0.0</td>\n",
       "      <td>0.0</td>\n",
       "      <td>0.0</td>\n",
       "      <td>1.0</td>\n",
       "      <td>1.0</td>\n",
       "      <td>0.0</td>\n",
       "      <td>1</td>\n",
       "      <td>0.0</td>\n",
       "      <td>0.0</td>\n",
       "      <td>0.0</td>\n",
       "      <td>1</td>\n",
       "      <td>0.0</td>\n",
       "      <td>0.0</td>\n",
       "      <td>0.0</td>\n",
       "      <td>0.0</td>\n",
       "      <td>0.0</td>\n",
       "      <td>0.0</td>\n",
       "      <td>0.0</td>\n",
       "      <td>0.0</td>\n",
       "      <td>0.0</td>\n",
       "      <td>0.0</td>\n",
       "      <td>0.0</td>\n",
       "      <td>0.0</td>\n",
       "      <td>0.0</td>\n",
       "      <td>0.0</td>\n",
       "      <td>0.0</td>\n",
       "      <td>0.0</td>\n",
       "      <td>0.0</td>\n",
       "      <td>1.0</td>\n",
       "      <td>0.0</td>\n",
       "      <td>0.0</td>\n",
       "      <td>0.0</td>\n",
       "      <td>0.0</td>\n",
       "      <td>0.0</td>\n",
       "      <td>0.0</td>\n",
       "      <td>0.0</td>\n",
       "      <td>0.0</td>\n",
       "      <td>0.0</td>\n",
       "      <td>0.0</td>\n",
       "      <td>0.0</td>\n",
       "      <td>0.0</td>\n",
       "      <td>1.0</td>\n",
       "      <td>0</td>\n",
       "      <td>1.0</td>\n",
       "      <td>2</td>\n",
       "      <td>2</td>\n",
       "      <td>0</td>\n",
       "      <td>0</td>\n",
       "      <td>0</td>\n",
       "      <td>0</td>\n",
       "      <td>0</td>\n",
       "      <td>0</td>\n",
       "      <td>0</td>\n",
       "      <td>0</td>\n",
       "    </tr>\n",
       "    <tr>\n",
       "      <th>3</th>\n",
       "      <td>0.44103</td>\n",
       "      <td>-0.31888</td>\n",
       "      <td>-0.21754</td>\n",
       "      <td>-0.04732</td>\n",
       "      <td>0.59504</td>\n",
       "      <td>-0.25533</td>\n",
       "      <td>0.04597</td>\n",
       "      <td>-0.76096</td>\n",
       "      <td>-0.29493</td>\n",
       "      <td>0.16842</td>\n",
       "      <td>-0.64322</td>\n",
       "      <td>11</td>\n",
       "      <td>3</td>\n",
       "      <td>3</td>\n",
       "      <td>1.0</td>\n",
       "      <td>1.0</td>\n",
       "      <td>0.0</td>\n",
       "      <td>0.0</td>\n",
       "      <td>0.0</td>\n",
       "      <td>0.0</td>\n",
       "      <td>0.0</td>\n",
       "      <td>0.0</td>\n",
       "      <td>1.0</td>\n",
       "      <td>0.0</td>\n",
       "      <td>0</td>\n",
       "      <td>0.0</td>\n",
       "      <td>0.0</td>\n",
       "      <td>0.0</td>\n",
       "      <td>0</td>\n",
       "      <td>0.0</td>\n",
       "      <td>0.0</td>\n",
       "      <td>0.0</td>\n",
       "      <td>0.0</td>\n",
       "      <td>0.0</td>\n",
       "      <td>0.0</td>\n",
       "      <td>0.0</td>\n",
       "      <td>0.0</td>\n",
       "      <td>0.0</td>\n",
       "      <td>0.0</td>\n",
       "      <td>0.0</td>\n",
       "      <td>0.0</td>\n",
       "      <td>0.0</td>\n",
       "      <td>0.0</td>\n",
       "      <td>0.0</td>\n",
       "      <td>0.0</td>\n",
       "      <td>0.0</td>\n",
       "      <td>1.0</td>\n",
       "      <td>0.0</td>\n",
       "      <td>0.0</td>\n",
       "      <td>0.0</td>\n",
       "      <td>0.0</td>\n",
       "      <td>0.0</td>\n",
       "      <td>0.0</td>\n",
       "      <td>0.0</td>\n",
       "      <td>0.0</td>\n",
       "      <td>0.0</td>\n",
       "      <td>0.0</td>\n",
       "      <td>0.0</td>\n",
       "      <td>0.0</td>\n",
       "      <td>1.0</td>\n",
       "      <td>0</td>\n",
       "      <td>1.0</td>\n",
       "      <td>3</td>\n",
       "      <td>2</td>\n",
       "      <td>0</td>\n",
       "      <td>2</td>\n",
       "      <td>2</td>\n",
       "      <td>0</td>\n",
       "      <td>0</td>\n",
       "      <td>0</td>\n",
       "      <td>0</td>\n",
       "      <td>0</td>\n",
       "    </tr>\n",
       "    <tr>\n",
       "      <th>4</th>\n",
       "      <td>-0.75014</td>\n",
       "      <td>-1.05900</td>\n",
       "      <td>0.19268</td>\n",
       "      <td>0.56118</td>\n",
       "      <td>-2.17290</td>\n",
       "      <td>-0.36298</td>\n",
       "      <td>0.04597</td>\n",
       "      <td>0.39678</td>\n",
       "      <td>-0.29493</td>\n",
       "      <td>0.57495</td>\n",
       "      <td>-0.65353</td>\n",
       "      <td>6</td>\n",
       "      <td>4</td>\n",
       "      <td>3</td>\n",
       "      <td>0.0</td>\n",
       "      <td>1.0</td>\n",
       "      <td>0.0</td>\n",
       "      <td>0.0</td>\n",
       "      <td>0.0</td>\n",
       "      <td>0.0</td>\n",
       "      <td>0.0</td>\n",
       "      <td>1.0</td>\n",
       "      <td>1.0</td>\n",
       "      <td>0.0</td>\n",
       "      <td>1</td>\n",
       "      <td>0.0</td>\n",
       "      <td>0.0</td>\n",
       "      <td>0.0</td>\n",
       "      <td>0</td>\n",
       "      <td>0.0</td>\n",
       "      <td>0.0</td>\n",
       "      <td>0.0</td>\n",
       "      <td>0.0</td>\n",
       "      <td>0.0</td>\n",
       "      <td>1.0</td>\n",
       "      <td>0.0</td>\n",
       "      <td>0.0</td>\n",
       "      <td>0.0</td>\n",
       "      <td>0.0</td>\n",
       "      <td>0.0</td>\n",
       "      <td>0.0</td>\n",
       "      <td>0.0</td>\n",
       "      <td>0.0</td>\n",
       "      <td>0.0</td>\n",
       "      <td>0.0</td>\n",
       "      <td>0.0</td>\n",
       "      <td>1.0</td>\n",
       "      <td>0.0</td>\n",
       "      <td>0.0</td>\n",
       "      <td>0.0</td>\n",
       "      <td>1.0</td>\n",
       "      <td>0.0</td>\n",
       "      <td>0.0</td>\n",
       "      <td>0.0</td>\n",
       "      <td>0.0</td>\n",
       "      <td>0.0</td>\n",
       "      <td>0.0</td>\n",
       "      <td>0.0</td>\n",
       "      <td>0.0</td>\n",
       "      <td>1.0</td>\n",
       "      <td>0</td>\n",
       "      <td>1.0</td>\n",
       "      <td>3</td>\n",
       "      <td>3</td>\n",
       "      <td>0</td>\n",
       "      <td>1</td>\n",
       "      <td>1</td>\n",
       "      <td>0</td>\n",
       "      <td>1</td>\n",
       "      <td>2</td>\n",
       "      <td>0</td>\n",
       "      <td>2</td>\n",
       "    </tr>\n",
       "  </tbody>\n",
       "</table>\n",
       "</div>"
      ],
      "text/plain": [
       "       age  heightcm  weightkg      bmi      hct  creatlst  totalbumin  \\\n",
       "0 -2.12457   0.11594   0.32942  0.15700 -2.65268  -0.35221    -2.27155   \n",
       "1  1.08243  -0.82771  -0.95497 -0.39563 -0.10617  -0.13691     0.04597   \n",
       "2 -0.20037   1.53140   1.56497  0.35976  0.59504  -0.25533    -0.34028   \n",
       "3  0.44103  -0.31888  -0.21754 -0.04732  0.59504  -0.25533     0.04597   \n",
       "4 -0.75014  -1.05900   0.19268  0.56118 -2.17290  -0.36298     0.04597   \n",
       "\n",
       "    a1clvl  meldscr     hdef    pasys  surgdt_month  surgdt_DayOfWeek  \\\n",
       "0 -1.62927  2.47597  0.98148  3.58585            10                 2   \n",
       "1  0.25206 -0.29493  0.33103  0.49141            10                 0   \n",
       "2  0.32442 -0.67978  0.57495 -0.12748            10                 1   \n",
       "3 -0.76096 -0.29493  0.16842 -0.64322            11                 3   \n",
       "4  0.39678 -0.29493  0.57495 -0.65353             6                 4   \n",
       "\n",
       "  surgdt_PartOfMonth  gender  racecaucasian  raceblack  raceasian  \\\n",
       "0                  2     1.0            1.0        0.0        0.0   \n",
       "1                  3     0.0            1.0        0.0        0.0   \n",
       "2                  1     1.0            1.0        0.0        0.0   \n",
       "3                  3     1.0            1.0        0.0        0.0   \n",
       "4                  3     0.0            1.0        0.0        0.0   \n",
       "\n",
       "   racenativeam  racnativepacific  ethnicity  diabetes  dyslip  dialysis  \\\n",
       "0           0.0               0.0        0.0       1.0     1.0       0.0   \n",
       "1           0.0               0.0        0.0       1.0     1.0       0.0   \n",
       "2           0.0               0.0        0.0       1.0     1.0       0.0   \n",
       "3           0.0               0.0        0.0       0.0     1.0       0.0   \n",
       "4           0.0               0.0        0.0       1.0     1.0       0.0   \n",
       "\n",
       "   hypertn  infendo  slpapn  liverdis  immsupp  mediastrad  cancer  pvd  \\\n",
       "0        1      1.0     0.0       0.0        0         0.0     0.0  0.0   \n",
       "1        0      0.0     0.0       0.0        0         0.0     1.0  1.0   \n",
       "2        1      0.0     0.0       0.0        1         0.0     0.0  0.0   \n",
       "3        0      0.0     0.0       0.0        0         0.0     0.0  0.0   \n",
       "4        1      0.0     0.0       0.0        0         0.0     0.0  0.0   \n",
       "\n",
       "   syncope  unrespstat  cvd  cva  cvdtia  cvdpcarsurg  hitanti  prcvint  \\\n",
       "0      0.0         0.0  0.0  0.0     0.0          0.0      0.0      0.0   \n",
       "1      0.0         0.0  0.0  0.0     0.0          0.0      0.0      0.0   \n",
       "2      0.0         0.0  0.0  0.0     0.0          0.0      0.0      0.0   \n",
       "3      0.0         0.0  0.0  0.0     0.0          0.0      0.0      0.0   \n",
       "4      0.0         0.0  1.0  0.0     0.0          0.0      0.0      0.0   \n",
       "\n",
       "   prcab  prvalve  chf  priorhf  arrhyafib  medinotr  hdefd  vdaort  vdstena  \\\n",
       "0    0.0      0.0  1.0      1.0        0.0       0.0    1.0     1.0      0.0   \n",
       "1    0.0      0.0  1.0      1.0        0.0       0.0    1.0     0.0      0.0   \n",
       "2    0.0      0.0  0.0      0.0        0.0       0.0    1.0     0.0      0.0   \n",
       "3    0.0      0.0  0.0      0.0        0.0       0.0    1.0     0.0      0.0   \n",
       "4    0.0      0.0  0.0      0.0        0.0       0.0    1.0     0.0      0.0   \n",
       "\n",
       "   vdstenm  diabctrl  infendty  Tobacco_Combined  chrlungd  hmo2  ivdrugab  \\\n",
       "0      0.0       0.0       1.0               1.0       0.0   0.0       0.0   \n",
       "1      0.0       0.0       0.0               0.0       1.0   0.0       0.0   \n",
       "2      0.0       0.0       0.0               0.0       0.0   0.0       0.0   \n",
       "3      0.0       0.0       0.0               0.0       0.0   0.0       0.0   \n",
       "4      0.0       1.0       0.0               0.0       0.0   0.0       0.0   \n",
       "\n",
       "   alcohol  carshock24  resusc24  medasa  medaplt5days  medlipid  numdisv  \\\n",
       "0      0.0         0.0       0.0     0.0             0       0.0        0   \n",
       "1      0.0         0.0       0.0     1.0             0       1.0        3   \n",
       "2      0.0         0.0       0.0     1.0             0       1.0        2   \n",
       "3      0.0         0.0       0.0     1.0             0       1.0        3   \n",
       "4      0.0         0.0       0.0     1.0             0       1.0        3   \n",
       "\n",
       "   anginalclass  classnyh  vdinsufm  vdinsuft  incidencREOP  status  \\\n",
       "0             0         3         1         1             0       0   \n",
       "1             4         2         2         1             0       0   \n",
       "2             2         0         0         0             0       0   \n",
       "3             2         0         2         2             0       0   \n",
       "4             3         0         1         1             0       1   \n",
       "\n",
       "   cvdcarsten  cvdstenrt  cvdstenlft  \n",
       "0           0          0           0  \n",
       "1           0          0           0  \n",
       "2           0          0           0  \n",
       "3           0          0           0  \n",
       "4           2          0           2  "
      ]
     },
     "execution_count": 14,
     "metadata": {},
     "output_type": "execute_result"
    }
   ],
   "source": [
    "X_train_all.head()"
   ]
  },
  {
   "cell_type": "code",
   "execution_count": 15,
   "metadata": {},
   "outputs": [
    {
     "data": {
      "text/html": [
       "<div>\n",
       "<style scoped>\n",
       "    .dataframe tbody tr th:only-of-type {\n",
       "        vertical-align: middle;\n",
       "    }\n",
       "\n",
       "    .dataframe tbody tr th {\n",
       "        vertical-align: top;\n",
       "    }\n",
       "\n",
       "    .dataframe thead th {\n",
       "        text-align: right;\n",
       "    }\n",
       "</style>\n",
       "<table border=\"1\" class=\"dataframe\">\n",
       "  <thead>\n",
       "    <tr style=\"text-align: right;\">\n",
       "      <th></th>\n",
       "      <th>age</th>\n",
       "      <th>heightcm</th>\n",
       "      <th>weightkg</th>\n",
       "      <th>bmi</th>\n",
       "      <th>hct</th>\n",
       "      <th>creatlst</th>\n",
       "      <th>totalbumin</th>\n",
       "      <th>a1clvl</th>\n",
       "      <th>meldscr</th>\n",
       "      <th>hdef</th>\n",
       "      <th>pasys</th>\n",
       "      <th>surgdt_month</th>\n",
       "      <th>surgdt_DayOfWeek</th>\n",
       "      <th>surgdt_PartOfMonth</th>\n",
       "      <th>gender</th>\n",
       "      <th>racecaucasian</th>\n",
       "      <th>raceblack</th>\n",
       "      <th>raceasian</th>\n",
       "      <th>racenativeam</th>\n",
       "      <th>racnativepacific</th>\n",
       "      <th>ethnicity</th>\n",
       "      <th>diabetes</th>\n",
       "      <th>dyslip</th>\n",
       "      <th>dialysis</th>\n",
       "      <th>hypertn</th>\n",
       "      <th>infendo</th>\n",
       "      <th>slpapn</th>\n",
       "      <th>liverdis</th>\n",
       "      <th>immsupp</th>\n",
       "      <th>mediastrad</th>\n",
       "      <th>cancer</th>\n",
       "      <th>pvd</th>\n",
       "      <th>syncope</th>\n",
       "      <th>unrespstat</th>\n",
       "      <th>cvd</th>\n",
       "      <th>cva</th>\n",
       "      <th>cvdtia</th>\n",
       "      <th>cvdpcarsurg</th>\n",
       "      <th>hitanti</th>\n",
       "      <th>prcvint</th>\n",
       "      <th>prcab</th>\n",
       "      <th>prvalve</th>\n",
       "      <th>chf</th>\n",
       "      <th>priorhf</th>\n",
       "      <th>arrhyafib</th>\n",
       "      <th>medinotr</th>\n",
       "      <th>hdefd</th>\n",
       "      <th>vdaort</th>\n",
       "      <th>vdstena</th>\n",
       "      <th>vdstenm</th>\n",
       "      <th>diabctrl</th>\n",
       "      <th>infendty</th>\n",
       "      <th>Tobacco_Combined</th>\n",
       "      <th>chrlungd</th>\n",
       "      <th>hmo2</th>\n",
       "      <th>ivdrugab</th>\n",
       "      <th>alcohol</th>\n",
       "      <th>carshock24</th>\n",
       "      <th>resusc24</th>\n",
       "      <th>medasa</th>\n",
       "      <th>medaplt5days</th>\n",
       "      <th>medlipid</th>\n",
       "      <th>numdisv</th>\n",
       "      <th>anginalclass</th>\n",
       "      <th>classnyh</th>\n",
       "      <th>vdinsufm</th>\n",
       "      <th>vdinsuft</th>\n",
       "      <th>incidencREOP</th>\n",
       "      <th>status</th>\n",
       "      <th>cvdcarsten</th>\n",
       "      <th>cvdstenrt</th>\n",
       "      <th>cvdstenlft</th>\n",
       "    </tr>\n",
       "  </thead>\n",
       "  <tbody>\n",
       "    <tr>\n",
       "      <th>34187</th>\n",
       "      <td>-0.29200</td>\n",
       "      <td>0.58776</td>\n",
       "      <td>0.78848</td>\n",
       "      <td>0.26686</td>\n",
       "      <td>0.04145</td>\n",
       "      <td>-0.25533</td>\n",
       "      <td>0.04597</td>\n",
       "      <td>0.83093</td>\n",
       "      <td>-0.29493</td>\n",
       "      <td>0.00581</td>\n",
       "      <td>0.56361</td>\n",
       "      <td>1</td>\n",
       "      <td>3</td>\n",
       "      <td>1</td>\n",
       "      <td>1.0</td>\n",
       "      <td>1.0</td>\n",
       "      <td>0.0</td>\n",
       "      <td>0.0</td>\n",
       "      <td>0.0</td>\n",
       "      <td>0.0</td>\n",
       "      <td>0.0</td>\n",
       "      <td>1.0</td>\n",
       "      <td>1.0</td>\n",
       "      <td>0.0</td>\n",
       "      <td>1</td>\n",
       "      <td>0.0</td>\n",
       "      <td>0.0</td>\n",
       "      <td>0.0</td>\n",
       "      <td>1</td>\n",
       "      <td>0.0</td>\n",
       "      <td>0.0</td>\n",
       "      <td>0.0</td>\n",
       "      <td>0.0</td>\n",
       "      <td>0.0</td>\n",
       "      <td>0.0</td>\n",
       "      <td>0.0</td>\n",
       "      <td>0.0</td>\n",
       "      <td>0.0</td>\n",
       "      <td>0.0</td>\n",
       "      <td>1.0</td>\n",
       "      <td>0.0</td>\n",
       "      <td>0.0</td>\n",
       "      <td>0.0</td>\n",
       "      <td>0.0</td>\n",
       "      <td>0.0</td>\n",
       "      <td>0.0</td>\n",
       "      <td>1.0</td>\n",
       "      <td>1.0</td>\n",
       "      <td>0.0</td>\n",
       "      <td>0.0</td>\n",
       "      <td>0.0</td>\n",
       "      <td>0.0</td>\n",
       "      <td>0.0</td>\n",
       "      <td>0.0</td>\n",
       "      <td>0.0</td>\n",
       "      <td>0.0</td>\n",
       "      <td>0.0</td>\n",
       "      <td>0.0</td>\n",
       "      <td>0.0</td>\n",
       "      <td>1.0</td>\n",
       "      <td>0</td>\n",
       "      <td>0.0</td>\n",
       "      <td>3</td>\n",
       "      <td>3</td>\n",
       "      <td>0</td>\n",
       "      <td>1</td>\n",
       "      <td>2</td>\n",
       "      <td>0</td>\n",
       "      <td>1</td>\n",
       "      <td>0</td>\n",
       "      <td>0</td>\n",
       "      <td>0</td>\n",
       "    </tr>\n",
       "    <tr>\n",
       "      <th>34188</th>\n",
       "      <td>-1.11666</td>\n",
       "      <td>0.60626</td>\n",
       "      <td>-0.14917</td>\n",
       "      <td>-0.31935</td>\n",
       "      <td>-0.51214</td>\n",
       "      <td>-0.47063</td>\n",
       "      <td>-2.07842</td>\n",
       "      <td>0.61386</td>\n",
       "      <td>0.57972</td>\n",
       "      <td>-3.16512</td>\n",
       "      <td>1.62604</td>\n",
       "      <td>7</td>\n",
       "      <td>4</td>\n",
       "      <td>3</td>\n",
       "      <td>1.0</td>\n",
       "      <td>1.0</td>\n",
       "      <td>0.0</td>\n",
       "      <td>0.0</td>\n",
       "      <td>0.0</td>\n",
       "      <td>0.0</td>\n",
       "      <td>0.0</td>\n",
       "      <td>1.0</td>\n",
       "      <td>1.0</td>\n",
       "      <td>0.0</td>\n",
       "      <td>1</td>\n",
       "      <td>0.0</td>\n",
       "      <td>0.0</td>\n",
       "      <td>0.0</td>\n",
       "      <td>0</td>\n",
       "      <td>0.0</td>\n",
       "      <td>0.0</td>\n",
       "      <td>0.0</td>\n",
       "      <td>0.0</td>\n",
       "      <td>0.0</td>\n",
       "      <td>0.0</td>\n",
       "      <td>0.0</td>\n",
       "      <td>0.0</td>\n",
       "      <td>0.0</td>\n",
       "      <td>0.0</td>\n",
       "      <td>1.0</td>\n",
       "      <td>0.0</td>\n",
       "      <td>0.0</td>\n",
       "      <td>1.0</td>\n",
       "      <td>0.0</td>\n",
       "      <td>0.0</td>\n",
       "      <td>1.0</td>\n",
       "      <td>1.0</td>\n",
       "      <td>0.0</td>\n",
       "      <td>0.0</td>\n",
       "      <td>0.0</td>\n",
       "      <td>0.0</td>\n",
       "      <td>0.0</td>\n",
       "      <td>0.0</td>\n",
       "      <td>0.0</td>\n",
       "      <td>0.0</td>\n",
       "      <td>0.0</td>\n",
       "      <td>0.0</td>\n",
       "      <td>0.0</td>\n",
       "      <td>0.0</td>\n",
       "      <td>1.0</td>\n",
       "      <td>0</td>\n",
       "      <td>1.0</td>\n",
       "      <td>3</td>\n",
       "      <td>4</td>\n",
       "      <td>3</td>\n",
       "      <td>1</td>\n",
       "      <td>2</td>\n",
       "      <td>0</td>\n",
       "      <td>1</td>\n",
       "      <td>0</td>\n",
       "      <td>0</td>\n",
       "      <td>0</td>\n",
       "    </tr>\n",
       "    <tr>\n",
       "      <th>34189</th>\n",
       "      <td>0.62428</td>\n",
       "      <td>-1.05900</td>\n",
       "      <td>0.17314</td>\n",
       "      <td>0.54625</td>\n",
       "      <td>-0.32761</td>\n",
       "      <td>-0.07232</td>\n",
       "      <td>-0.34028</td>\n",
       "      <td>-1.05040</td>\n",
       "      <td>-0.45237</td>\n",
       "      <td>1.38800</td>\n",
       "      <td>-0.12748</td>\n",
       "      <td>3</td>\n",
       "      <td>0</td>\n",
       "      <td>3</td>\n",
       "      <td>0.0</td>\n",
       "      <td>1.0</td>\n",
       "      <td>0.0</td>\n",
       "      <td>0.0</td>\n",
       "      <td>0.0</td>\n",
       "      <td>0.0</td>\n",
       "      <td>0.0</td>\n",
       "      <td>0.0</td>\n",
       "      <td>1.0</td>\n",
       "      <td>0.0</td>\n",
       "      <td>1</td>\n",
       "      <td>0.0</td>\n",
       "      <td>0.0</td>\n",
       "      <td>0.0</td>\n",
       "      <td>0</td>\n",
       "      <td>0.0</td>\n",
       "      <td>0.0</td>\n",
       "      <td>0.0</td>\n",
       "      <td>0.0</td>\n",
       "      <td>0.0</td>\n",
       "      <td>1.0</td>\n",
       "      <td>0.0</td>\n",
       "      <td>0.0</td>\n",
       "      <td>0.0</td>\n",
       "      <td>0.0</td>\n",
       "      <td>0.0</td>\n",
       "      <td>0.0</td>\n",
       "      <td>0.0</td>\n",
       "      <td>1.0</td>\n",
       "      <td>0.0</td>\n",
       "      <td>0.0</td>\n",
       "      <td>0.0</td>\n",
       "      <td>1.0</td>\n",
       "      <td>1.0</td>\n",
       "      <td>1.0</td>\n",
       "      <td>0.0</td>\n",
       "      <td>0.0</td>\n",
       "      <td>0.0</td>\n",
       "      <td>0.0</td>\n",
       "      <td>0.0</td>\n",
       "      <td>0.0</td>\n",
       "      <td>0.0</td>\n",
       "      <td>0.0</td>\n",
       "      <td>0.0</td>\n",
       "      <td>0.0</td>\n",
       "      <td>1.0</td>\n",
       "      <td>0</td>\n",
       "      <td>1.0</td>\n",
       "      <td>2</td>\n",
       "      <td>1</td>\n",
       "      <td>3</td>\n",
       "      <td>1</td>\n",
       "      <td>1</td>\n",
       "      <td>0</td>\n",
       "      <td>0</td>\n",
       "      <td>1</td>\n",
       "      <td>0</td>\n",
       "      <td>0</td>\n",
       "    </tr>\n",
       "    <tr>\n",
       "      <th>34190</th>\n",
       "      <td>0.99080</td>\n",
       "      <td>-1.52157</td>\n",
       "      <td>0.75918</td>\n",
       "      <td>1.25109</td>\n",
       "      <td>-0.19844</td>\n",
       "      <td>-0.47063</td>\n",
       "      <td>0.62535</td>\n",
       "      <td>1.04801</td>\n",
       "      <td>-0.67978</td>\n",
       "      <td>0.57495</td>\n",
       "      <td>2.03863</td>\n",
       "      <td>10</td>\n",
       "      <td>3</td>\n",
       "      <td>3</td>\n",
       "      <td>0.0</td>\n",
       "      <td>0.0</td>\n",
       "      <td>1.0</td>\n",
       "      <td>0.0</td>\n",
       "      <td>0.0</td>\n",
       "      <td>0.0</td>\n",
       "      <td>0.0</td>\n",
       "      <td>1.0</td>\n",
       "      <td>0.0</td>\n",
       "      <td>0.0</td>\n",
       "      <td>1</td>\n",
       "      <td>0.0</td>\n",
       "      <td>1.0</td>\n",
       "      <td>0.0</td>\n",
       "      <td>0</td>\n",
       "      <td>0.0</td>\n",
       "      <td>0.0</td>\n",
       "      <td>0.0</td>\n",
       "      <td>0.0</td>\n",
       "      <td>0.0</td>\n",
       "      <td>0.0</td>\n",
       "      <td>0.0</td>\n",
       "      <td>0.0</td>\n",
       "      <td>0.0</td>\n",
       "      <td>0.0</td>\n",
       "      <td>0.0</td>\n",
       "      <td>0.0</td>\n",
       "      <td>0.0</td>\n",
       "      <td>0.0</td>\n",
       "      <td>0.0</td>\n",
       "      <td>0.0</td>\n",
       "      <td>0.0</td>\n",
       "      <td>1.0</td>\n",
       "      <td>1.0</td>\n",
       "      <td>1.0</td>\n",
       "      <td>1.0</td>\n",
       "      <td>1.0</td>\n",
       "      <td>0.0</td>\n",
       "      <td>1.0</td>\n",
       "      <td>0.0</td>\n",
       "      <td>0.0</td>\n",
       "      <td>0.0</td>\n",
       "      <td>0.0</td>\n",
       "      <td>0.0</td>\n",
       "      <td>0.0</td>\n",
       "      <td>1.0</td>\n",
       "      <td>0</td>\n",
       "      <td>0.0</td>\n",
       "      <td>0</td>\n",
       "      <td>0</td>\n",
       "      <td>0</td>\n",
       "      <td>2</td>\n",
       "      <td>3</td>\n",
       "      <td>0</td>\n",
       "      <td>0</td>\n",
       "      <td>0</td>\n",
       "      <td>0</td>\n",
       "      <td>0</td>\n",
       "    </tr>\n",
       "    <tr>\n",
       "      <th>34191</th>\n",
       "      <td>-0.20037</td>\n",
       "      <td>0.60626</td>\n",
       "      <td>0.71034</td>\n",
       "      <td>0.21143</td>\n",
       "      <td>-0.69667</td>\n",
       "      <td>-0.04003</td>\n",
       "      <td>-0.14715</td>\n",
       "      <td>3.14642</td>\n",
       "      <td>-0.36491</td>\n",
       "      <td>0.81886</td>\n",
       "      <td>-0.95266</td>\n",
       "      <td>12</td>\n",
       "      <td>1</td>\n",
       "      <td>3</td>\n",
       "      <td>1.0</td>\n",
       "      <td>1.0</td>\n",
       "      <td>0.0</td>\n",
       "      <td>0.0</td>\n",
       "      <td>0.0</td>\n",
       "      <td>0.0</td>\n",
       "      <td>0.0</td>\n",
       "      <td>1.0</td>\n",
       "      <td>1.0</td>\n",
       "      <td>0.0</td>\n",
       "      <td>1</td>\n",
       "      <td>0.0</td>\n",
       "      <td>0.0</td>\n",
       "      <td>0.0</td>\n",
       "      <td>0</td>\n",
       "      <td>0.0</td>\n",
       "      <td>0.0</td>\n",
       "      <td>0.0</td>\n",
       "      <td>0.0</td>\n",
       "      <td>0.0</td>\n",
       "      <td>0.0</td>\n",
       "      <td>0.0</td>\n",
       "      <td>0.0</td>\n",
       "      <td>0.0</td>\n",
       "      <td>0.0</td>\n",
       "      <td>0.0</td>\n",
       "      <td>0.0</td>\n",
       "      <td>0.0</td>\n",
       "      <td>0.0</td>\n",
       "      <td>0.0</td>\n",
       "      <td>0.0</td>\n",
       "      <td>0.0</td>\n",
       "      <td>1.0</td>\n",
       "      <td>1.0</td>\n",
       "      <td>1.0</td>\n",
       "      <td>0.0</td>\n",
       "      <td>0.0</td>\n",
       "      <td>0.0</td>\n",
       "      <td>0.0</td>\n",
       "      <td>0.0</td>\n",
       "      <td>0.0</td>\n",
       "      <td>0.0</td>\n",
       "      <td>0.0</td>\n",
       "      <td>0.0</td>\n",
       "      <td>0.0</td>\n",
       "      <td>1.0</td>\n",
       "      <td>0</td>\n",
       "      <td>1.0</td>\n",
       "      <td>3</td>\n",
       "      <td>4</td>\n",
       "      <td>0</td>\n",
       "      <td>1</td>\n",
       "      <td>0</td>\n",
       "      <td>0</td>\n",
       "      <td>1</td>\n",
       "      <td>0</td>\n",
       "      <td>0</td>\n",
       "      <td>0</td>\n",
       "    </tr>\n",
       "  </tbody>\n",
       "</table>\n",
       "</div>"
      ],
      "text/plain": [
       "           age  heightcm  weightkg      bmi      hct  creatlst  totalbumin  \\\n",
       "34187 -0.29200   0.58776   0.78848  0.26686  0.04145  -0.25533     0.04597   \n",
       "34188 -1.11666   0.60626  -0.14917 -0.31935 -0.51214  -0.47063    -2.07842   \n",
       "34189  0.62428  -1.05900   0.17314  0.54625 -0.32761  -0.07232    -0.34028   \n",
       "34190  0.99080  -1.52157   0.75918  1.25109 -0.19844  -0.47063     0.62535   \n",
       "34191 -0.20037   0.60626   0.71034  0.21143 -0.69667  -0.04003    -0.14715   \n",
       "\n",
       "        a1clvl  meldscr     hdef    pasys  surgdt_month  surgdt_DayOfWeek  \\\n",
       "34187  0.83093 -0.29493  0.00581  0.56361             1                 3   \n",
       "34188  0.61386  0.57972 -3.16512  1.62604             7                 4   \n",
       "34189 -1.05040 -0.45237  1.38800 -0.12748             3                 0   \n",
       "34190  1.04801 -0.67978  0.57495  2.03863            10                 3   \n",
       "34191  3.14642 -0.36491  0.81886 -0.95266            12                 1   \n",
       "\n",
       "      surgdt_PartOfMonth  gender  racecaucasian  raceblack  raceasian  \\\n",
       "34187                  1     1.0            1.0        0.0        0.0   \n",
       "34188                  3     1.0            1.0        0.0        0.0   \n",
       "34189                  3     0.0            1.0        0.0        0.0   \n",
       "34190                  3     0.0            0.0        1.0        0.0   \n",
       "34191                  3     1.0            1.0        0.0        0.0   \n",
       "\n",
       "       racenativeam  racnativepacific  ethnicity  diabetes  dyslip  dialysis  \\\n",
       "34187           0.0               0.0        0.0       1.0     1.0       0.0   \n",
       "34188           0.0               0.0        0.0       1.0     1.0       0.0   \n",
       "34189           0.0               0.0        0.0       0.0     1.0       0.0   \n",
       "34190           0.0               0.0        0.0       1.0     0.0       0.0   \n",
       "34191           0.0               0.0        0.0       1.0     1.0       0.0   \n",
       "\n",
       "       hypertn  infendo  slpapn  liverdis  immsupp  mediastrad  cancer  pvd  \\\n",
       "34187        1      0.0     0.0       0.0        1         0.0     0.0  0.0   \n",
       "34188        1      0.0     0.0       0.0        0         0.0     0.0  0.0   \n",
       "34189        1      0.0     0.0       0.0        0         0.0     0.0  0.0   \n",
       "34190        1      0.0     1.0       0.0        0         0.0     0.0  0.0   \n",
       "34191        1      0.0     0.0       0.0        0         0.0     0.0  0.0   \n",
       "\n",
       "       syncope  unrespstat  cvd  cva  cvdtia  cvdpcarsurg  hitanti  prcvint  \\\n",
       "34187      0.0         0.0  0.0  0.0     0.0          0.0      0.0      1.0   \n",
       "34188      0.0         0.0  0.0  0.0     0.0          0.0      0.0      1.0   \n",
       "34189      0.0         0.0  1.0  0.0     0.0          0.0      0.0      0.0   \n",
       "34190      0.0         0.0  0.0  0.0     0.0          0.0      0.0      0.0   \n",
       "34191      0.0         0.0  0.0  0.0     0.0          0.0      0.0      0.0   \n",
       "\n",
       "       prcab  prvalve  chf  priorhf  arrhyafib  medinotr  hdefd  vdaort  \\\n",
       "34187    0.0      0.0  0.0      0.0        0.0       0.0    1.0     1.0   \n",
       "34188    0.0      0.0  1.0      0.0        0.0       1.0    1.0     0.0   \n",
       "34189    0.0      0.0  1.0      0.0        0.0       0.0    1.0     1.0   \n",
       "34190    0.0      0.0  0.0      0.0        0.0       0.0    1.0     1.0   \n",
       "34191    0.0      0.0  0.0      0.0        0.0       0.0    1.0     1.0   \n",
       "\n",
       "       vdstena  vdstenm  diabctrl  infendty  Tobacco_Combined  chrlungd  hmo2  \\\n",
       "34187      0.0      0.0       0.0       0.0               0.0       0.0   0.0   \n",
       "34188      0.0      0.0       0.0       0.0               0.0       0.0   0.0   \n",
       "34189      1.0      0.0       0.0       0.0               0.0       0.0   0.0   \n",
       "34190      1.0      1.0       1.0       0.0               1.0       0.0   0.0   \n",
       "34191      1.0      0.0       0.0       0.0               0.0       0.0   0.0   \n",
       "\n",
       "       ivdrugab  alcohol  carshock24  resusc24  medasa  medaplt5days  \\\n",
       "34187       0.0      0.0         0.0       0.0     1.0             0   \n",
       "34188       0.0      0.0         0.0       0.0     1.0             0   \n",
       "34189       0.0      0.0         0.0       0.0     1.0             0   \n",
       "34190       0.0      0.0         0.0       0.0     1.0             0   \n",
       "34191       0.0      0.0         0.0       0.0     1.0             0   \n",
       "\n",
       "       medlipid  numdisv  anginalclass  classnyh  vdinsufm  vdinsuft  \\\n",
       "34187       0.0        3             3         0         1         2   \n",
       "34188       1.0        3             4         3         1         2   \n",
       "34189       1.0        2             1         3         1         1   \n",
       "34190       0.0        0             0         0         2         3   \n",
       "34191       1.0        3             4         0         1         0   \n",
       "\n",
       "       incidencREOP  status  cvdcarsten  cvdstenrt  cvdstenlft  \n",
       "34187             0       1           0          0           0  \n",
       "34188             0       1           0          0           0  \n",
       "34189             0       0           1          0           0  \n",
       "34190             0       0           0          0           0  \n",
       "34191             0       1           0          0           0  "
      ]
     },
     "execution_count": 15,
     "metadata": {},
     "output_type": "execute_result"
    }
   ],
   "source": [
    "X_train_all.tail()"
   ]
  },
  {
   "cell_type": "markdown",
   "metadata": {},
   "source": [
    "## Random Forest Classifier\n",
    "- see Albon 14.4 pages 238-240"
   ]
  },
  {
   "cell_type": "markdown",
   "metadata": {},
   "source": [
    "- instantiating a `RandomForestClassifier()` object"
   ]
  },
  {
   "cell_type": "code",
   "execution_count": 16,
   "metadata": {},
   "outputs": [],
   "source": [
    "rf_clf = RandomForestClassifier(class_weight='balanced',\n",
    "                                random_state=0,\n",
    "                                n_jobs=-1,\n",
    "                                verbose=2)"
   ]
  },
  {
   "cell_type": "markdown",
   "metadata": {},
   "source": [
    "#### Default `RandomForestClassifier()` Settings\n",
    "- `n_estimators`: `10` -- number of trees in the forest\n",
    "- `criterion`: `gini` -- function to measure the quality of split -- could also set for `entropy` \n",
    "- `max_depth`: `None` -- the maximum depth of the tree -- if `None`, then nodes are expanded until all leaves are pure or until all leaves contain less than min_samples_split samples \n",
    "- `max_features`: `Auto` -- `max_features=sqrt(n_features)` -- can put in a `float` to represent the number of features used -- per `Muller and Guido` page 88, increasing `max_features` might sometimes improve performance\n",
    "- `min_samples_split`: `2` -- minimum number of samples required to split an internal node"
   ]
  },
  {
   "cell_type": "markdown",
   "metadata": {},
   "source": [
    "- running out of the box with default settings only takes a few seconds"
   ]
  },
  {
   "cell_type": "markdown",
   "metadata": {},
   "source": [
    "- creating a `StratifiedKFold` cross validation"
   ]
  },
  {
   "cell_type": "code",
   "execution_count": 17,
   "metadata": {},
   "outputs": [],
   "source": [
    "skf = StratifiedKFold(n_splits=5,\n",
    "                      shuffle=True,\n",
    "                      random_state=0)"
   ]
  },
  {
   "cell_type": "markdown",
   "metadata": {},
   "source": [
    "- defining `scoring_metrics`"
   ]
  },
  {
   "cell_type": "code",
   "execution_count": 18,
   "metadata": {},
   "outputs": [],
   "source": [
    "scoring_metrics = ['accuracy',\n",
    "                   'f1',\n",
    "                   'f1_macro',\n",
    "                   'f1_weighted',\n",
    "                   'precision',\n",
    "                   'precision_macro',\n",
    "                   'precision_weighted',\n",
    "                   'recall',\n",
    "                   'recall_macro',\n",
    "                   'recall_weighted',\n",
    "                   'roc_auc']"
   ]
  },
  {
   "cell_type": "markdown",
   "metadata": {},
   "source": [
    "- conduct `StratifiedKFold` cross-validation"
   ]
  },
  {
   "cell_type": "code",
   "execution_count": 19,
   "metadata": {},
   "outputs": [
    {
     "name": "stderr",
     "output_type": "stream",
     "text": [
      "[Parallel(n_jobs=-1)]: Using backend LokyBackend with 4 concurrent workers.\n",
      "[Parallel(n_jobs=-1)]: Done   5 out of   5 | elapsed:   17.2s finished\n"
     ]
    }
   ],
   "source": [
    "skf_results = cross_validate(rf_clf, # model\n",
    "                             X_train_all, # feature matrix - X\n",
    "                             y_train, # target vector - y\n",
    "                             cv=skf, # cross-validation technique\n",
    "                             scoring=scoring_metrics, # loss functions\n",
    "                             return_train_score=True, # returns training score\n",
    "                             verbose=2, # verbosity level to check progress of calculations\n",
    "                             n_jobs=-1) # uses all computer cores                     "
   ]
  },
  {
   "cell_type": "code",
   "execution_count": 20,
   "metadata": {},
   "outputs": [
    {
     "data": {
      "text/html": [
       "<div>\n",
       "<style scoped>\n",
       "    .dataframe tbody tr th:only-of-type {\n",
       "        vertical-align: middle;\n",
       "    }\n",
       "\n",
       "    .dataframe tbody tr th {\n",
       "        vertical-align: top;\n",
       "    }\n",
       "\n",
       "    .dataframe thead th {\n",
       "        text-align: right;\n",
       "    }\n",
       "</style>\n",
       "<table border=\"1\" class=\"dataframe\">\n",
       "  <thead>\n",
       "    <tr style=\"text-align: right;\">\n",
       "      <th></th>\n",
       "      <th>0</th>\n",
       "      <th>1</th>\n",
       "      <th>2</th>\n",
       "      <th>3</th>\n",
       "      <th>4</th>\n",
       "      <th>mean_score</th>\n",
       "    </tr>\n",
       "  </thead>\n",
       "  <tbody>\n",
       "    <tr>\n",
       "      <th>test_accuracy</th>\n",
       "      <td>0.98289</td>\n",
       "      <td>0.98289</td>\n",
       "      <td>0.98304</td>\n",
       "      <td>0.98304</td>\n",
       "      <td>0.98304</td>\n",
       "      <td>0.98298</td>\n",
       "    </tr>\n",
       "    <tr>\n",
       "      <th>train_accuracy</th>\n",
       "      <td>0.99565</td>\n",
       "      <td>0.99543</td>\n",
       "      <td>0.99565</td>\n",
       "      <td>0.99510</td>\n",
       "      <td>0.99474</td>\n",
       "      <td>0.99531</td>\n",
       "    </tr>\n",
       "    <tr>\n",
       "      <th>test_f1</th>\n",
       "      <td>0.00000</td>\n",
       "      <td>0.00000</td>\n",
       "      <td>0.00000</td>\n",
       "      <td>0.00000</td>\n",
       "      <td>0.00000</td>\n",
       "      <td>0.00000</td>\n",
       "    </tr>\n",
       "    <tr>\n",
       "      <th>train_f1</th>\n",
       "      <td>0.85327</td>\n",
       "      <td>0.84472</td>\n",
       "      <td>0.85363</td>\n",
       "      <td>0.83208</td>\n",
       "      <td>0.81726</td>\n",
       "      <td>0.84019</td>\n",
       "    </tr>\n",
       "    <tr>\n",
       "      <th>test_f1_macro</th>\n",
       "      <td>0.49569</td>\n",
       "      <td>0.49569</td>\n",
       "      <td>0.49572</td>\n",
       "      <td>0.49572</td>\n",
       "      <td>0.49572</td>\n",
       "      <td>0.49571</td>\n",
       "    </tr>\n",
       "    <tr>\n",
       "      <th>train_f1_macro</th>\n",
       "      <td>0.92553</td>\n",
       "      <td>0.92120</td>\n",
       "      <td>0.92571</td>\n",
       "      <td>0.91480</td>\n",
       "      <td>0.90729</td>\n",
       "      <td>0.91891</td>\n",
       "    </tr>\n",
       "    <tr>\n",
       "      <th>test_f1_weighted</th>\n",
       "      <td>0.97441</td>\n",
       "      <td>0.97441</td>\n",
       "      <td>0.97463</td>\n",
       "      <td>0.97463</td>\n",
       "      <td>0.97463</td>\n",
       "      <td>0.97454</td>\n",
       "    </tr>\n",
       "    <tr>\n",
       "      <th>train_f1_weighted</th>\n",
       "      <td>0.99534</td>\n",
       "      <td>0.99508</td>\n",
       "      <td>0.99534</td>\n",
       "      <td>0.99470</td>\n",
       "      <td>0.99426</td>\n",
       "      <td>0.99494</td>\n",
       "    </tr>\n",
       "    <tr>\n",
       "      <th>test_precision</th>\n",
       "      <td>0.00000</td>\n",
       "      <td>0.00000</td>\n",
       "      <td>0.00000</td>\n",
       "      <td>0.00000</td>\n",
       "      <td>0.00000</td>\n",
       "      <td>0.00000</td>\n",
       "    </tr>\n",
       "    <tr>\n",
       "      <th>train_precision</th>\n",
       "      <td>1.00000</td>\n",
       "      <td>1.00000</td>\n",
       "      <td>1.00000</td>\n",
       "      <td>1.00000</td>\n",
       "      <td>1.00000</td>\n",
       "      <td>1.00000</td>\n",
       "    </tr>\n",
       "    <tr>\n",
       "      <th>test_precision_macro</th>\n",
       "      <td>0.49145</td>\n",
       "      <td>0.49145</td>\n",
       "      <td>0.49152</td>\n",
       "      <td>0.49152</td>\n",
       "      <td>0.49152</td>\n",
       "      <td>0.49149</td>\n",
       "    </tr>\n",
       "    <tr>\n",
       "      <th>train_precision_macro</th>\n",
       "      <td>0.99780</td>\n",
       "      <td>0.99769</td>\n",
       "      <td>0.99780</td>\n",
       "      <td>0.99752</td>\n",
       "      <td>0.99734</td>\n",
       "      <td>0.99763</td>\n",
       "    </tr>\n",
       "    <tr>\n",
       "      <th>test_precision_weighted</th>\n",
       "      <td>0.96608</td>\n",
       "      <td>0.96608</td>\n",
       "      <td>0.96636</td>\n",
       "      <td>0.96636</td>\n",
       "      <td>0.96636</td>\n",
       "      <td>0.96625</td>\n",
       "    </tr>\n",
       "    <tr>\n",
       "      <th>train_precision_weighted</th>\n",
       "      <td>0.99567</td>\n",
       "      <td>0.99545</td>\n",
       "      <td>0.99567</td>\n",
       "      <td>0.99513</td>\n",
       "      <td>0.99476</td>\n",
       "      <td>0.99534</td>\n",
       "    </tr>\n",
       "    <tr>\n",
       "      <th>test_recall</th>\n",
       "      <td>0.00000</td>\n",
       "      <td>0.00000</td>\n",
       "      <td>0.00000</td>\n",
       "      <td>0.00000</td>\n",
       "      <td>0.00000</td>\n",
       "      <td>0.00000</td>\n",
       "    </tr>\n",
       "    <tr>\n",
       "      <th>train_recall</th>\n",
       "      <td>0.74409</td>\n",
       "      <td>0.73118</td>\n",
       "      <td>0.74464</td>\n",
       "      <td>0.71245</td>\n",
       "      <td>0.69099</td>\n",
       "      <td>0.72467</td>\n",
       "    </tr>\n",
       "    <tr>\n",
       "      <th>test_recall_macro</th>\n",
       "      <td>0.50000</td>\n",
       "      <td>0.50000</td>\n",
       "      <td>0.50000</td>\n",
       "      <td>0.50000</td>\n",
       "      <td>0.50000</td>\n",
       "      <td>0.50000</td>\n",
       "    </tr>\n",
       "    <tr>\n",
       "      <th>train_recall_macro</th>\n",
       "      <td>0.87204</td>\n",
       "      <td>0.86559</td>\n",
       "      <td>0.87232</td>\n",
       "      <td>0.85622</td>\n",
       "      <td>0.84549</td>\n",
       "      <td>0.86233</td>\n",
       "    </tr>\n",
       "    <tr>\n",
       "      <th>test_recall_weighted</th>\n",
       "      <td>0.98289</td>\n",
       "      <td>0.98289</td>\n",
       "      <td>0.98304</td>\n",
       "      <td>0.98304</td>\n",
       "      <td>0.98304</td>\n",
       "      <td>0.98298</td>\n",
       "    </tr>\n",
       "    <tr>\n",
       "      <th>train_recall_weighted</th>\n",
       "      <td>0.99565</td>\n",
       "      <td>0.99543</td>\n",
       "      <td>0.99565</td>\n",
       "      <td>0.99510</td>\n",
       "      <td>0.99474</td>\n",
       "      <td>0.99531</td>\n",
       "    </tr>\n",
       "    <tr>\n",
       "      <th>test_roc_auc</th>\n",
       "      <td>0.52381</td>\n",
       "      <td>0.49097</td>\n",
       "      <td>0.52531</td>\n",
       "      <td>0.54805</td>\n",
       "      <td>0.53318</td>\n",
       "      <td>0.52427</td>\n",
       "    </tr>\n",
       "    <tr>\n",
       "      <th>train_roc_auc</th>\n",
       "      <td>1.00000</td>\n",
       "      <td>0.99999</td>\n",
       "      <td>1.00000</td>\n",
       "      <td>1.00000</td>\n",
       "      <td>0.99999</td>\n",
       "      <td>0.99999</td>\n",
       "    </tr>\n",
       "  </tbody>\n",
       "</table>\n",
       "</div>"
      ],
      "text/plain": [
       "                                0        1        2        3        4  \\\n",
       "test_accuracy             0.98289  0.98289  0.98304  0.98304  0.98304   \n",
       "train_accuracy            0.99565  0.99543  0.99565  0.99510  0.99474   \n",
       "test_f1                   0.00000  0.00000  0.00000  0.00000  0.00000   \n",
       "train_f1                  0.85327  0.84472  0.85363  0.83208  0.81726   \n",
       "test_f1_macro             0.49569  0.49569  0.49572  0.49572  0.49572   \n",
       "train_f1_macro            0.92553  0.92120  0.92571  0.91480  0.90729   \n",
       "test_f1_weighted          0.97441  0.97441  0.97463  0.97463  0.97463   \n",
       "train_f1_weighted         0.99534  0.99508  0.99534  0.99470  0.99426   \n",
       "test_precision            0.00000  0.00000  0.00000  0.00000  0.00000   \n",
       "train_precision           1.00000  1.00000  1.00000  1.00000  1.00000   \n",
       "test_precision_macro      0.49145  0.49145  0.49152  0.49152  0.49152   \n",
       "train_precision_macro     0.99780  0.99769  0.99780  0.99752  0.99734   \n",
       "test_precision_weighted   0.96608  0.96608  0.96636  0.96636  0.96636   \n",
       "train_precision_weighted  0.99567  0.99545  0.99567  0.99513  0.99476   \n",
       "test_recall               0.00000  0.00000  0.00000  0.00000  0.00000   \n",
       "train_recall              0.74409  0.73118  0.74464  0.71245  0.69099   \n",
       "test_recall_macro         0.50000  0.50000  0.50000  0.50000  0.50000   \n",
       "train_recall_macro        0.87204  0.86559  0.87232  0.85622  0.84549   \n",
       "test_recall_weighted      0.98289  0.98289  0.98304  0.98304  0.98304   \n",
       "train_recall_weighted     0.99565  0.99543  0.99565  0.99510  0.99474   \n",
       "test_roc_auc              0.52381  0.49097  0.52531  0.54805  0.53318   \n",
       "train_roc_auc             1.00000  0.99999  1.00000  1.00000  0.99999   \n",
       "\n",
       "                          mean_score  \n",
       "test_accuracy                0.98298  \n",
       "train_accuracy               0.99531  \n",
       "test_f1                      0.00000  \n",
       "train_f1                     0.84019  \n",
       "test_f1_macro                0.49571  \n",
       "train_f1_macro               0.91891  \n",
       "test_f1_weighted             0.97454  \n",
       "train_f1_weighted            0.99494  \n",
       "test_precision               0.00000  \n",
       "train_precision              1.00000  \n",
       "test_precision_macro         0.49149  \n",
       "train_precision_macro        0.99763  \n",
       "test_precision_weighted      0.96625  \n",
       "train_precision_weighted     0.99534  \n",
       "test_recall                  0.00000  \n",
       "train_recall                 0.72467  \n",
       "test_recall_macro            0.50000  \n",
       "train_recall_macro           0.86233  \n",
       "test_recall_weighted         0.98298  \n",
       "train_recall_weighted        0.99531  \n",
       "test_roc_auc                 0.52427  \n",
       "train_roc_auc                0.99999  "
      ]
     },
     "execution_count": 20,
     "metadata": {},
     "output_type": "execute_result"
    }
   ],
   "source": [
    "all_features_results = pd.DataFrame(skf_results).drop(['fit_time', 'score_time'], axis=1)\n",
    "all_features_results_summary = pd.DataFrame(all_features_results.T)\n",
    "all_features_results_summary['mean_score'] = all_features_results_summary.mean(axis=1)\n",
    "all_features_results_summary"
   ]
  },
  {
   "cell_type": "code",
   "execution_count": 34,
   "metadata": {},
   "outputs": [
    {
     "name": "stdout",
     "output_type": "stream",
     "text": [
      "                                0        1        2        3        4  \\\n",
      "test_accuracy             0.98289  0.98289  0.98304  0.98304  0.98304   \n",
      "train_accuracy            0.99565  0.99543  0.99565  0.99510  0.99474   \n",
      "test_f1                   0.00000  0.00000  0.00000  0.00000  0.00000   \n",
      "train_f1                  0.85327  0.84472  0.85363  0.83208  0.81726   \n",
      "test_f1_macro             0.49569  0.49569  0.49572  0.49572  0.49572   \n",
      "train_f1_macro            0.92553  0.92120  0.92571  0.91480  0.90729   \n",
      "test_f1_weighted          0.97441  0.97441  0.97463  0.97463  0.97463   \n",
      "train_f1_weighted         0.99534  0.99508  0.99534  0.99470  0.99426   \n",
      "test_precision            0.00000  0.00000  0.00000  0.00000  0.00000   \n",
      "train_precision           1.00000  1.00000  1.00000  1.00000  1.00000   \n",
      "test_precision_macro      0.49145  0.49145  0.49152  0.49152  0.49152   \n",
      "train_precision_macro     0.99780  0.99769  0.99780  0.99752  0.99734   \n",
      "test_precision_weighted   0.96608  0.96608  0.96636  0.96636  0.96636   \n",
      "train_precision_weighted  0.99567  0.99545  0.99567  0.99513  0.99476   \n",
      "test_recall               0.00000  0.00000  0.00000  0.00000  0.00000   \n",
      "train_recall              0.74409  0.73118  0.74464  0.71245  0.69099   \n",
      "test_recall_macro         0.50000  0.50000  0.50000  0.50000  0.50000   \n",
      "train_recall_macro        0.87204  0.86559  0.87232  0.85622  0.84549   \n",
      "test_recall_weighted      0.98289  0.98289  0.98304  0.98304  0.98304   \n",
      "train_recall_weighted     0.99565  0.99543  0.99565  0.99510  0.99474   \n",
      "test_roc_auc              0.52381  0.49097  0.52531  0.54805  0.53318   \n",
      "train_roc_auc             1.00000  0.99999  1.00000  1.00000  0.99999   \n",
      "\n",
      "                          mean_score  \n",
      "test_accuracy                0.98298  \n",
      "train_accuracy               0.99531  \n",
      "test_f1                      0.00000  \n",
      "train_f1                     0.84019  \n",
      "test_f1_macro                0.49571  \n",
      "train_f1_macro               0.91891  \n",
      "test_f1_weighted             0.97454  \n",
      "train_f1_weighted            0.99494  \n",
      "test_precision               0.00000  \n",
      "train_precision              1.00000  \n",
      "test_precision_macro         0.49149  \n",
      "train_precision_macro        0.99763  \n",
      "test_precision_weighted      0.96625  \n",
      "train_precision_weighted     0.99534  \n",
      "test_recall                  0.00000  \n",
      "train_recall                 0.72467  \n",
      "test_recall_macro            0.50000  \n",
      "train_recall_macro           0.86233  \n",
      "test_recall_weighted         0.98298  \n",
      "train_recall_weighted        0.99531  \n",
      "test_roc_auc                 0.52427  \n",
      "train_roc_auc                0.99999  \n"
     ]
    }
   ],
   "source": []
  },
  {
   "cell_type": "markdown",
   "metadata": {},
   "source": [
    "#### Key Takeaways\n",
    "- Model is clearly overfitting\n",
    "- Can tune `max_depth` parameter to see if that reduces overfitting - pre-prune trees"
   ]
  },
  {
   "cell_type": "markdown",
   "metadata": {},
   "source": [
    "#### Varying `max_depth`"
   ]
  },
  {
   "cell_type": "markdown",
   "metadata": {},
   "source": [
    "- instantiating a `RandomForestClassifier()` object"
   ]
  },
  {
   "cell_type": "code",
   "execution_count": 21,
   "metadata": {},
   "outputs": [],
   "source": [
    "rf_clf = RandomForestClassifier(max_depth=5,\n",
    "                                class_weight='balanced',\n",
    "                                random_state=0,\n",
    "                                n_jobs=-1,\n",
    "                                verbose=2)"
   ]
  },
  {
   "cell_type": "code",
   "execution_count": 22,
   "metadata": {},
   "outputs": [
    {
     "name": "stderr",
     "output_type": "stream",
     "text": [
      "[Parallel(n_jobs=-1)]: Using backend LokyBackend with 4 concurrent workers.\n",
      "[Parallel(n_jobs=-1)]: Done   5 out of   5 | elapsed:   11.2s finished\n"
     ]
    }
   ],
   "source": [
    "skf_results = cross_validate(rf_clf, # model\n",
    "                             X_train_all, # feature matrix - X\n",
    "                             y_train, # target vector - y\n",
    "                             cv=skf, # cross-validation technique\n",
    "                             scoring=scoring_metrics, # loss functions\n",
    "                             return_train_score=True, # returns training score\n",
    "                             verbose=2, # verbosity level to check progress of calculations\n",
    "                             n_jobs=-1) # uses all computer cores                     "
   ]
  },
  {
   "cell_type": "code",
   "execution_count": 23,
   "metadata": {},
   "outputs": [
    {
     "data": {
      "text/html": [
       "<div>\n",
       "<style scoped>\n",
       "    .dataframe tbody tr th:only-of-type {\n",
       "        vertical-align: middle;\n",
       "    }\n",
       "\n",
       "    .dataframe tbody tr th {\n",
       "        vertical-align: top;\n",
       "    }\n",
       "\n",
       "    .dataframe thead th {\n",
       "        text-align: right;\n",
       "    }\n",
       "</style>\n",
       "<table border=\"1\" class=\"dataframe\">\n",
       "  <thead>\n",
       "    <tr style=\"text-align: right;\">\n",
       "      <th></th>\n",
       "      <th>0</th>\n",
       "      <th>1</th>\n",
       "      <th>2</th>\n",
       "      <th>3</th>\n",
       "      <th>4</th>\n",
       "      <th>mean_score</th>\n",
       "    </tr>\n",
       "  </thead>\n",
       "  <tbody>\n",
       "    <tr>\n",
       "      <td>test_accuracy</td>\n",
       "      <td>0.74762</td>\n",
       "      <td>0.76956</td>\n",
       "      <td>0.74130</td>\n",
       "      <td>0.75271</td>\n",
       "      <td>0.78078</td>\n",
       "      <td>0.75839</td>\n",
       "    </tr>\n",
       "    <tr>\n",
       "      <td>train_accuracy</td>\n",
       "      <td>0.75330</td>\n",
       "      <td>0.76639</td>\n",
       "      <td>0.75360</td>\n",
       "      <td>0.75993</td>\n",
       "      <td>0.78449</td>\n",
       "      <td>0.76354</td>\n",
       "    </tr>\n",
       "    <tr>\n",
       "      <td>test_f1</td>\n",
       "      <td>0.05476</td>\n",
       "      <td>0.05967</td>\n",
       "      <td>0.05350</td>\n",
       "      <td>0.05794</td>\n",
       "      <td>0.05066</td>\n",
       "      <td>0.05531</td>\n",
       "    </tr>\n",
       "    <tr>\n",
       "      <td>train_f1</td>\n",
       "      <td>0.08115</td>\n",
       "      <td>0.07952</td>\n",
       "      <td>0.07823</td>\n",
       "      <td>0.08141</td>\n",
       "      <td>0.08817</td>\n",
       "      <td>0.08170</td>\n",
       "    </tr>\n",
       "    <tr>\n",
       "      <td>test_f1_macro</td>\n",
       "      <td>0.45457</td>\n",
       "      <td>0.46418</td>\n",
       "      <td>0.45184</td>\n",
       "      <td>0.45781</td>\n",
       "      <td>0.46337</td>\n",
       "      <td>0.45835</td>\n",
       "    </tr>\n",
       "    <tr>\n",
       "      <td>train_f1_macro</td>\n",
       "      <td>0.46934</td>\n",
       "      <td>0.47287</td>\n",
       "      <td>0.46801</td>\n",
       "      <td>0.47166</td>\n",
       "      <td>0.48299</td>\n",
       "      <td>0.47297</td>\n",
       "    </tr>\n",
       "    <tr>\n",
       "      <td>test_f1_weighted</td>\n",
       "      <td>0.84069</td>\n",
       "      <td>0.85485</td>\n",
       "      <td>0.83666</td>\n",
       "      <td>0.84411</td>\n",
       "      <td>0.86208</td>\n",
       "      <td>0.84768</td>\n",
       "    </tr>\n",
       "    <tr>\n",
       "      <td>train_f1_weighted</td>\n",
       "      <td>0.84432</td>\n",
       "      <td>0.85284</td>\n",
       "      <td>0.84451</td>\n",
       "      <td>0.84862</td>\n",
       "      <td>0.86435</td>\n",
       "      <td>0.85093</td>\n",
       "    </tr>\n",
       "    <tr>\n",
       "      <td>test_precision</td>\n",
       "      <td>0.02926</td>\n",
       "      <td>0.03207</td>\n",
       "      <td>0.02852</td>\n",
       "      <td>0.03097</td>\n",
       "      <td>0.02734</td>\n",
       "      <td>0.02963</td>\n",
       "    </tr>\n",
       "    <tr>\n",
       "      <td>train_precision</td>\n",
       "      <td>0.04332</td>\n",
       "      <td>0.04261</td>\n",
       "      <td>0.04178</td>\n",
       "      <td>0.04354</td>\n",
       "      <td>0.04751</td>\n",
       "      <td>0.04375</td>\n",
       "    </tr>\n",
       "    <tr>\n",
       "      <td>test_precision_macro</td>\n",
       "      <td>0.50810</td>\n",
       "      <td>0.50969</td>\n",
       "      <td>0.50777</td>\n",
       "      <td>0.50928</td>\n",
       "      <td>0.50660</td>\n",
       "      <td>0.50829</td>\n",
       "    </tr>\n",
       "    <tr>\n",
       "      <td>train_precision_macro</td>\n",
       "      <td>0.51758</td>\n",
       "      <td>0.51678</td>\n",
       "      <td>0.51650</td>\n",
       "      <td>0.51754</td>\n",
       "      <td>0.51952</td>\n",
       "      <td>0.51758</td>\n",
       "    </tr>\n",
       "    <tr>\n",
       "      <td>test_precision_weighted</td>\n",
       "      <td>0.97056</td>\n",
       "      <td>0.97097</td>\n",
       "      <td>0.97076</td>\n",
       "      <td>0.97137</td>\n",
       "      <td>0.96960</td>\n",
       "      <td>0.97065</td>\n",
       "    </tr>\n",
       "    <tr>\n",
       "      <td>train_precision_weighted</td>\n",
       "      <td>0.97572</td>\n",
       "      <td>0.97482</td>\n",
       "      <td>0.97505</td>\n",
       "      <td>0.97538</td>\n",
       "      <td>0.97544</td>\n",
       "      <td>0.97528</td>\n",
       "    </tr>\n",
       "    <tr>\n",
       "      <td>test_recall</td>\n",
       "      <td>0.42735</td>\n",
       "      <td>0.42735</td>\n",
       "      <td>0.43103</td>\n",
       "      <td>0.44828</td>\n",
       "      <td>0.34483</td>\n",
       "      <td>0.41577</td>\n",
       "    </tr>\n",
       "    <tr>\n",
       "      <td>train_recall</td>\n",
       "      <td>0.64086</td>\n",
       "      <td>0.59355</td>\n",
       "      <td>0.61373</td>\n",
       "      <td>0.62446</td>\n",
       "      <td>0.61159</td>\n",
       "      <td>0.61684</td>\n",
       "    </tr>\n",
       "    <tr>\n",
       "      <td>test_recall_macro</td>\n",
       "      <td>0.59027</td>\n",
       "      <td>0.60143</td>\n",
       "      <td>0.58884</td>\n",
       "      <td>0.60312</td>\n",
       "      <td>0.56657</td>\n",
       "      <td>0.59005</td>\n",
       "    </tr>\n",
       "    <tr>\n",
       "      <td>train_recall_macro</td>\n",
       "      <td>0.69805</td>\n",
       "      <td>0.68146</td>\n",
       "      <td>0.68488</td>\n",
       "      <td>0.69337</td>\n",
       "      <td>0.69954</td>\n",
       "      <td>0.69146</td>\n",
       "    </tr>\n",
       "    <tr>\n",
       "      <td>test_recall_weighted</td>\n",
       "      <td>0.74762</td>\n",
       "      <td>0.76956</td>\n",
       "      <td>0.74130</td>\n",
       "      <td>0.75271</td>\n",
       "      <td>0.78078</td>\n",
       "      <td>0.75839</td>\n",
       "    </tr>\n",
       "    <tr>\n",
       "      <td>train_recall_weighted</td>\n",
       "      <td>0.75330</td>\n",
       "      <td>0.76639</td>\n",
       "      <td>0.75360</td>\n",
       "      <td>0.75993</td>\n",
       "      <td>0.78449</td>\n",
       "      <td>0.76354</td>\n",
       "    </tr>\n",
       "    <tr>\n",
       "      <td>test_roc_auc</td>\n",
       "      <td>0.66567</td>\n",
       "      <td>0.63947</td>\n",
       "      <td>0.64662</td>\n",
       "      <td>0.66334</td>\n",
       "      <td>0.63110</td>\n",
       "      <td>0.64924</td>\n",
       "    </tr>\n",
       "    <tr>\n",
       "      <td>train_roc_auc</td>\n",
       "      <td>0.76672</td>\n",
       "      <td>0.76803</td>\n",
       "      <td>0.77043</td>\n",
       "      <td>0.76588</td>\n",
       "      <td>0.77994</td>\n",
       "      <td>0.77020</td>\n",
       "    </tr>\n",
       "  </tbody>\n",
       "</table>\n",
       "</div>"
      ],
      "text/plain": [
       "                                0        1        2        3        4  \\\n",
       "test_accuracy             0.74762  0.76956  0.74130  0.75271  0.78078   \n",
       "train_accuracy            0.75330  0.76639  0.75360  0.75993  0.78449   \n",
       "test_f1                   0.05476  0.05967  0.05350  0.05794  0.05066   \n",
       "train_f1                  0.08115  0.07952  0.07823  0.08141  0.08817   \n",
       "test_f1_macro             0.45457  0.46418  0.45184  0.45781  0.46337   \n",
       "train_f1_macro            0.46934  0.47287  0.46801  0.47166  0.48299   \n",
       "test_f1_weighted          0.84069  0.85485  0.83666  0.84411  0.86208   \n",
       "train_f1_weighted         0.84432  0.85284  0.84451  0.84862  0.86435   \n",
       "test_precision            0.02926  0.03207  0.02852  0.03097  0.02734   \n",
       "train_precision           0.04332  0.04261  0.04178  0.04354  0.04751   \n",
       "test_precision_macro      0.50810  0.50969  0.50777  0.50928  0.50660   \n",
       "train_precision_macro     0.51758  0.51678  0.51650  0.51754  0.51952   \n",
       "test_precision_weighted   0.97056  0.97097  0.97076  0.97137  0.96960   \n",
       "train_precision_weighted  0.97572  0.97482  0.97505  0.97538  0.97544   \n",
       "test_recall               0.42735  0.42735  0.43103  0.44828  0.34483   \n",
       "train_recall              0.64086  0.59355  0.61373  0.62446  0.61159   \n",
       "test_recall_macro         0.59027  0.60143  0.58884  0.60312  0.56657   \n",
       "train_recall_macro        0.69805  0.68146  0.68488  0.69337  0.69954   \n",
       "test_recall_weighted      0.74762  0.76956  0.74130  0.75271  0.78078   \n",
       "train_recall_weighted     0.75330  0.76639  0.75360  0.75993  0.78449   \n",
       "test_roc_auc              0.66567  0.63947  0.64662  0.66334  0.63110   \n",
       "train_roc_auc             0.76672  0.76803  0.77043  0.76588  0.77994   \n",
       "\n",
       "                          mean_score  \n",
       "test_accuracy                0.75839  \n",
       "train_accuracy               0.76354  \n",
       "test_f1                      0.05531  \n",
       "train_f1                     0.08170  \n",
       "test_f1_macro                0.45835  \n",
       "train_f1_macro               0.47297  \n",
       "test_f1_weighted             0.84768  \n",
       "train_f1_weighted            0.85093  \n",
       "test_precision               0.02963  \n",
       "train_precision              0.04375  \n",
       "test_precision_macro         0.50829  \n",
       "train_precision_macro        0.51758  \n",
       "test_precision_weighted      0.97065  \n",
       "train_precision_weighted     0.97528  \n",
       "test_recall                  0.41577  \n",
       "train_recall                 0.61684  \n",
       "test_recall_macro            0.59005  \n",
       "train_recall_macro           0.69146  \n",
       "test_recall_weighted         0.75839  \n",
       "train_recall_weighted        0.76354  \n",
       "test_roc_auc                 0.64924  \n",
       "train_roc_auc                0.77020  "
      ]
     },
     "execution_count": 23,
     "metadata": {},
     "output_type": "execute_result"
    }
   ],
   "source": [
    "all_features_results = pd.DataFrame(skf_results).drop(['fit_time', 'score_time'], axis=1)\n",
    "all_features_results_summary = pd.DataFrame(all_features_results.T)\n",
    "all_features_results_summary['mean_score'] = all_features_results_summary.mean(axis=1)\n",
    "all_features_results_summary"
   ]
  },
  {
   "cell_type": "markdown",
   "metadata": {},
   "source": [
    "#### Key Takeaways\n",
    "- Varying `max_depth` significantly reduced overfitting\n",
    "- We can next try increasing `n_estimators`\n",
    "- Per `Muller and Guido` in `Introduction to Machine Learning with Python` page 88, \"for `n_estimators`, larger is always better as averaging over more trees will yield a more robust ensemble by reducing overfitting\""
   ]
  },
  {
   "cell_type": "markdown",
   "metadata": {},
   "source": [
    "#### Varying `n_estimators`"
   ]
  },
  {
   "cell_type": "markdown",
   "metadata": {},
   "source": [
    "- instantiating a `RandomForestClassifier()` object"
   ]
  },
  {
   "cell_type": "code",
   "execution_count": 24,
   "metadata": {},
   "outputs": [],
   "source": [
    "rf_clf = RandomForestClassifier(n_estimators=100,\n",
    "                                max_depth=5,\n",
    "                                class_weight='balanced',\n",
    "                                random_state=0,\n",
    "                                n_jobs=-1,\n",
    "                                verbose=2)"
   ]
  },
  {
   "cell_type": "code",
   "execution_count": 25,
   "metadata": {},
   "outputs": [
    {
     "name": "stderr",
     "output_type": "stream",
     "text": [
      "[Parallel(n_jobs=-1)]: Using backend LokyBackend with 4 concurrent workers.\n",
      "[Parallel(n_jobs=-1)]: Done   5 out of   5 | elapsed:   14.6s finished\n"
     ]
    }
   ],
   "source": [
    "skf_results = cross_validate(rf_clf, # model\n",
    "                             X_train_all, # feature matrix - X\n",
    "                             y_train, # target vector - y\n",
    "                             cv=skf, # cross-validation technique\n",
    "                             scoring=scoring_metrics, # loss functions\n",
    "                             return_train_score=True, # returns training score\n",
    "                             verbose=2, # verbosity level to check progress of calculations\n",
    "                             n_jobs=-1) # uses all computer cores              "
   ]
  },
  {
   "cell_type": "code",
   "execution_count": 26,
   "metadata": {},
   "outputs": [
    {
     "data": {
      "text/html": [
       "<div>\n",
       "<style scoped>\n",
       "    .dataframe tbody tr th:only-of-type {\n",
       "        vertical-align: middle;\n",
       "    }\n",
       "\n",
       "    .dataframe tbody tr th {\n",
       "        vertical-align: top;\n",
       "    }\n",
       "\n",
       "    .dataframe thead th {\n",
       "        text-align: right;\n",
       "    }\n",
       "</style>\n",
       "<table border=\"1\" class=\"dataframe\">\n",
       "  <thead>\n",
       "    <tr style=\"text-align: right;\">\n",
       "      <th></th>\n",
       "      <th>0</th>\n",
       "      <th>1</th>\n",
       "      <th>2</th>\n",
       "      <th>3</th>\n",
       "      <th>4</th>\n",
       "      <th>mean_score</th>\n",
       "    </tr>\n",
       "  </thead>\n",
       "  <tbody>\n",
       "    <tr>\n",
       "      <td>test_accuracy</td>\n",
       "      <td>0.79003</td>\n",
       "      <td>0.78871</td>\n",
       "      <td>0.77347</td>\n",
       "      <td>0.79365</td>\n",
       "      <td>0.79014</td>\n",
       "      <td>0.78720</td>\n",
       "    </tr>\n",
       "    <tr>\n",
       "      <td>train_accuracy</td>\n",
       "      <td>0.79721</td>\n",
       "      <td>0.79041</td>\n",
       "      <td>0.78464</td>\n",
       "      <td>0.79791</td>\n",
       "      <td>0.79689</td>\n",
       "      <td>0.79341</td>\n",
       "    </tr>\n",
       "    <tr>\n",
       "      <td>test_f1</td>\n",
       "      <td>0.06753</td>\n",
       "      <td>0.05863</td>\n",
       "      <td>0.05144</td>\n",
       "      <td>0.06121</td>\n",
       "      <td>0.05778</td>\n",
       "      <td>0.05932</td>\n",
       "    </tr>\n",
       "    <tr>\n",
       "      <td>train_f1</td>\n",
       "      <td>0.09878</td>\n",
       "      <td>0.09702</td>\n",
       "      <td>0.09578</td>\n",
       "      <td>0.10055</td>\n",
       "      <td>0.10068</td>\n",
       "      <td>0.09856</td>\n",
       "    </tr>\n",
       "    <tr>\n",
       "      <td>test_f1_macro</td>\n",
       "      <td>0.47461</td>\n",
       "      <td>0.46982</td>\n",
       "      <td>0.46141</td>\n",
       "      <td>0.47265</td>\n",
       "      <td>0.46985</td>\n",
       "      <td>0.46967</td>\n",
       "    </tr>\n",
       "    <tr>\n",
       "      <td>train_f1_macro</td>\n",
       "      <td>0.49227</td>\n",
       "      <td>0.48923</td>\n",
       "      <td>0.48677</td>\n",
       "      <td>0.49336</td>\n",
       "      <td>0.49310</td>\n",
       "      <td>0.49095</td>\n",
       "    </tr>\n",
       "    <tr>\n",
       "      <td>test_f1_weighted</td>\n",
       "      <td>0.86777</td>\n",
       "      <td>0.86693</td>\n",
       "      <td>0.85747</td>\n",
       "      <td>0.87013</td>\n",
       "      <td>0.86794</td>\n",
       "      <td>0.86605</td>\n",
       "    </tr>\n",
       "    <tr>\n",
       "      <td>train_f1_weighted</td>\n",
       "      <td>0.87237</td>\n",
       "      <td>0.86811</td>\n",
       "      <td>0.86444</td>\n",
       "      <td>0.87278</td>\n",
       "      <td>0.87214</td>\n",
       "      <td>0.86997</td>\n",
       "    </tr>\n",
       "    <tr>\n",
       "      <td>test_precision</td>\n",
       "      <td>0.03654</td>\n",
       "      <td>0.03173</td>\n",
       "      <td>0.02769</td>\n",
       "      <td>0.03317</td>\n",
       "      <td>0.03127</td>\n",
       "      <td>0.03208</td>\n",
       "    </tr>\n",
       "    <tr>\n",
       "      <td>train_precision</td>\n",
       "      <td>0.05343</td>\n",
       "      <td>0.05235</td>\n",
       "      <td>0.05158</td>\n",
       "      <td>0.05440</td>\n",
       "      <td>0.05445</td>\n",
       "      <td>0.05324</td>\n",
       "    </tr>\n",
       "    <tr>\n",
       "      <td>test_precision_macro</td>\n",
       "      <td>0.51227</td>\n",
       "      <td>0.50923</td>\n",
       "      <td>0.50689</td>\n",
       "      <td>0.51016</td>\n",
       "      <td>0.50901</td>\n",
       "      <td>0.50951</td>\n",
       "    </tr>\n",
       "    <tr>\n",
       "      <td>train_precision_macro</td>\n",
       "      <td>0.52300</td>\n",
       "      <td>0.52252</td>\n",
       "      <td>0.52218</td>\n",
       "      <td>0.52358</td>\n",
       "      <td>0.52364</td>\n",
       "      <td>0.52298</td>\n",
       "    </tr>\n",
       "    <tr>\n",
       "      <td>test_precision_weighted</td>\n",
       "      <td>0.97172</td>\n",
       "      <td>0.97038</td>\n",
       "      <td>0.96983</td>\n",
       "      <td>0.97097</td>\n",
       "      <td>0.97053</td>\n",
       "      <td>0.97069</td>\n",
       "    </tr>\n",
       "    <tr>\n",
       "      <td>train_precision_weighted</td>\n",
       "      <td>0.97660</td>\n",
       "      <td>0.97670</td>\n",
       "      <td>0.97674</td>\n",
       "      <td>0.97677</td>\n",
       "      <td>0.97685</td>\n",
       "      <td>0.97673</td>\n",
       "    </tr>\n",
       "    <tr>\n",
       "      <td>test_recall</td>\n",
       "      <td>0.44444</td>\n",
       "      <td>0.38462</td>\n",
       "      <td>0.36207</td>\n",
       "      <td>0.39655</td>\n",
       "      <td>0.37931</td>\n",
       "      <td>0.39340</td>\n",
       "    </tr>\n",
       "    <tr>\n",
       "      <td>train_recall</td>\n",
       "      <td>0.65376</td>\n",
       "      <td>0.66237</td>\n",
       "      <td>0.66953</td>\n",
       "      <td>0.66309</td>\n",
       "      <td>0.66738</td>\n",
       "      <td>0.66323</td>\n",
       "    </tr>\n",
       "    <tr>\n",
       "      <td>test_recall_macro</td>\n",
       "      <td>0.62024</td>\n",
       "      <td>0.59018</td>\n",
       "      <td>0.57132</td>\n",
       "      <td>0.59853</td>\n",
       "      <td>0.58827</td>\n",
       "      <td>0.59371</td>\n",
       "    </tr>\n",
       "    <tr>\n",
       "      <td>train_recall_macro</td>\n",
       "      <td>0.72673</td>\n",
       "      <td>0.72749</td>\n",
       "      <td>0.72808</td>\n",
       "      <td>0.73167</td>\n",
       "      <td>0.73326</td>\n",
       "      <td>0.72944</td>\n",
       "    </tr>\n",
       "    <tr>\n",
       "      <td>test_recall_weighted</td>\n",
       "      <td>0.79003</td>\n",
       "      <td>0.78871</td>\n",
       "      <td>0.77347</td>\n",
       "      <td>0.79365</td>\n",
       "      <td>0.79014</td>\n",
       "      <td>0.78720</td>\n",
       "    </tr>\n",
       "    <tr>\n",
       "      <td>train_recall_weighted</td>\n",
       "      <td>0.79721</td>\n",
       "      <td>0.79041</td>\n",
       "      <td>0.78464</td>\n",
       "      <td>0.79791</td>\n",
       "      <td>0.79689</td>\n",
       "      <td>0.79341</td>\n",
       "    </tr>\n",
       "    <tr>\n",
       "      <td>test_roc_auc</td>\n",
       "      <td>0.69596</td>\n",
       "      <td>0.65088</td>\n",
       "      <td>0.65193</td>\n",
       "      <td>0.66621</td>\n",
       "      <td>0.64625</td>\n",
       "      <td>0.66224</td>\n",
       "    </tr>\n",
       "    <tr>\n",
       "      <td>train_roc_auc</td>\n",
       "      <td>0.81355</td>\n",
       "      <td>0.81074</td>\n",
       "      <td>0.81095</td>\n",
       "      <td>0.80966</td>\n",
       "      <td>0.81539</td>\n",
       "      <td>0.81206</td>\n",
       "    </tr>\n",
       "  </tbody>\n",
       "</table>\n",
       "</div>"
      ],
      "text/plain": [
       "                                0        1        2        3        4  \\\n",
       "test_accuracy             0.79003  0.78871  0.77347  0.79365  0.79014   \n",
       "train_accuracy            0.79721  0.79041  0.78464  0.79791  0.79689   \n",
       "test_f1                   0.06753  0.05863  0.05144  0.06121  0.05778   \n",
       "train_f1                  0.09878  0.09702  0.09578  0.10055  0.10068   \n",
       "test_f1_macro             0.47461  0.46982  0.46141  0.47265  0.46985   \n",
       "train_f1_macro            0.49227  0.48923  0.48677  0.49336  0.49310   \n",
       "test_f1_weighted          0.86777  0.86693  0.85747  0.87013  0.86794   \n",
       "train_f1_weighted         0.87237  0.86811  0.86444  0.87278  0.87214   \n",
       "test_precision            0.03654  0.03173  0.02769  0.03317  0.03127   \n",
       "train_precision           0.05343  0.05235  0.05158  0.05440  0.05445   \n",
       "test_precision_macro      0.51227  0.50923  0.50689  0.51016  0.50901   \n",
       "train_precision_macro     0.52300  0.52252  0.52218  0.52358  0.52364   \n",
       "test_precision_weighted   0.97172  0.97038  0.96983  0.97097  0.97053   \n",
       "train_precision_weighted  0.97660  0.97670  0.97674  0.97677  0.97685   \n",
       "test_recall               0.44444  0.38462  0.36207  0.39655  0.37931   \n",
       "train_recall              0.65376  0.66237  0.66953  0.66309  0.66738   \n",
       "test_recall_macro         0.62024  0.59018  0.57132  0.59853  0.58827   \n",
       "train_recall_macro        0.72673  0.72749  0.72808  0.73167  0.73326   \n",
       "test_recall_weighted      0.79003  0.78871  0.77347  0.79365  0.79014   \n",
       "train_recall_weighted     0.79721  0.79041  0.78464  0.79791  0.79689   \n",
       "test_roc_auc              0.69596  0.65088  0.65193  0.66621  0.64625   \n",
       "train_roc_auc             0.81355  0.81074  0.81095  0.80966  0.81539   \n",
       "\n",
       "                          mean_score  \n",
       "test_accuracy                0.78720  \n",
       "train_accuracy               0.79341  \n",
       "test_f1                      0.05932  \n",
       "train_f1                     0.09856  \n",
       "test_f1_macro                0.46967  \n",
       "train_f1_macro               0.49095  \n",
       "test_f1_weighted             0.86605  \n",
       "train_f1_weighted            0.86997  \n",
       "test_precision               0.03208  \n",
       "train_precision              0.05324  \n",
       "test_precision_macro         0.50951  \n",
       "train_precision_macro        0.52298  \n",
       "test_precision_weighted      0.97069  \n",
       "train_precision_weighted     0.97673  \n",
       "test_recall                  0.39340  \n",
       "train_recall                 0.66323  \n",
       "test_recall_macro            0.59371  \n",
       "train_recall_macro           0.72944  \n",
       "test_recall_weighted         0.78720  \n",
       "train_recall_weighted        0.79341  \n",
       "test_roc_auc                 0.66224  \n",
       "train_roc_auc                0.81206  "
      ]
     },
     "execution_count": 26,
     "metadata": {},
     "output_type": "execute_result"
    }
   ],
   "source": [
    "all_features_results = pd.DataFrame(skf_results).drop(['fit_time', 'score_time'], axis=1)\n",
    "all_features_results_summary = pd.DataFrame(all_features_results.T)\n",
    "all_features_results_summary['mean_score'] = all_features_results_summary.mean(axis=1)\n",
    "all_features_results_summary"
   ]
  },
  {
   "cell_type": "markdown",
   "metadata": {},
   "source": [
    "#### Key Takeaways\n",
    "- marginal improvement from increasing `n_estimators`, but it something we can tune using `GridSearchCV`\n",
    "- let's try changing `criterion` to `entropy`"
   ]
  },
  {
   "cell_type": "markdown",
   "metadata": {},
   "source": [
    "#### Changing `criterion` to `entropy`"
   ]
  },
  {
   "cell_type": "markdown",
   "metadata": {},
   "source": [
    "- instantiating a `RandomForestClassifier()` object"
   ]
  },
  {
   "cell_type": "code",
   "execution_count": 27,
   "metadata": {},
   "outputs": [],
   "source": [
    "rf_clf = RandomForestClassifier(n_estimators=100,\n",
    "                                max_depth=5,\n",
    "                                criterion='entropy',\n",
    "                                class_weight='balanced',\n",
    "                                random_state=0,\n",
    "                                n_jobs=-1,\n",
    "                                verbose=2)"
   ]
  },
  {
   "cell_type": "code",
   "execution_count": 28,
   "metadata": {},
   "outputs": [
    {
     "name": "stderr",
     "output_type": "stream",
     "text": [
      "[Parallel(n_jobs=-1)]: Using backend LokyBackend with 4 concurrent workers.\n",
      "[Parallel(n_jobs=-1)]: Done   5 out of   5 | elapsed:   15.4s finished\n"
     ]
    }
   ],
   "source": [
    "skf_results = cross_validate(rf_clf, # model\n",
    "                             X_train_all, # feature matrix - X\n",
    "                             y_train, # target vector - y\n",
    "                             cv=skf, # cross-validation technique\n",
    "                             scoring=scoring_metrics, # loss functions\n",
    "                             return_train_score=True, # returns training score\n",
    "                             verbose=2, # verbosity level to check progress of calculations\n",
    "                             n_jobs=-1) # uses all computer cores              "
   ]
  },
  {
   "cell_type": "code",
   "execution_count": 29,
   "metadata": {},
   "outputs": [
    {
     "data": {
      "text/html": [
       "<div>\n",
       "<style scoped>\n",
       "    .dataframe tbody tr th:only-of-type {\n",
       "        vertical-align: middle;\n",
       "    }\n",
       "\n",
       "    .dataframe tbody tr th {\n",
       "        vertical-align: top;\n",
       "    }\n",
       "\n",
       "    .dataframe thead th {\n",
       "        text-align: right;\n",
       "    }\n",
       "</style>\n",
       "<table border=\"1\" class=\"dataframe\">\n",
       "  <thead>\n",
       "    <tr style=\"text-align: right;\">\n",
       "      <th></th>\n",
       "      <th>0</th>\n",
       "      <th>1</th>\n",
       "      <th>2</th>\n",
       "      <th>3</th>\n",
       "      <th>4</th>\n",
       "      <th>mean_score</th>\n",
       "    </tr>\n",
       "  </thead>\n",
       "  <tbody>\n",
       "    <tr>\n",
       "      <td>test_accuracy</td>\n",
       "      <td>0.79003</td>\n",
       "      <td>0.78637</td>\n",
       "      <td>0.76353</td>\n",
       "      <td>0.78795</td>\n",
       "      <td>0.77815</td>\n",
       "      <td>0.78121</td>\n",
       "    </tr>\n",
       "    <tr>\n",
       "      <td>train_accuracy</td>\n",
       "      <td>0.79191</td>\n",
       "      <td>0.78909</td>\n",
       "      <td>0.77952</td>\n",
       "      <td>0.79517</td>\n",
       "      <td>0.78372</td>\n",
       "      <td>0.78788</td>\n",
       "    </tr>\n",
       "    <tr>\n",
       "      <td>test_f1</td>\n",
       "      <td>0.07115</td>\n",
       "      <td>0.06883</td>\n",
       "      <td>0.05050</td>\n",
       "      <td>0.05844</td>\n",
       "      <td>0.05718</td>\n",
       "      <td>0.06122</td>\n",
       "    </tr>\n",
       "    <tr>\n",
       "      <td>train_f1</td>\n",
       "      <td>0.09651</td>\n",
       "      <td>0.09591</td>\n",
       "      <td>0.09404</td>\n",
       "      <td>0.09760</td>\n",
       "      <td>0.09430</td>\n",
       "      <td>0.09567</td>\n",
       "    </tr>\n",
       "    <tr>\n",
       "      <td>test_f1_macro</td>\n",
       "      <td>0.47639</td>\n",
       "      <td>0.47409</td>\n",
       "      <td>0.45772</td>\n",
       "      <td>0.46948</td>\n",
       "      <td>0.46573</td>\n",
       "      <td>0.46868</td>\n",
       "    </tr>\n",
       "    <tr>\n",
       "      <td>train_f1_macro</td>\n",
       "      <td>0.48946</td>\n",
       "      <td>0.48827</td>\n",
       "      <td>0.48426</td>\n",
       "      <td>0.49104</td>\n",
       "      <td>0.48575</td>\n",
       "      <td>0.48776</td>\n",
       "    </tr>\n",
       "    <tr>\n",
       "      <td>test_f1_weighted</td>\n",
       "      <td>0.86777</td>\n",
       "      <td>0.86548</td>\n",
       "      <td>0.85113</td>\n",
       "      <td>0.86657</td>\n",
       "      <td>0.86042</td>\n",
       "      <td>0.86228</td>\n",
       "    </tr>\n",
       "    <tr>\n",
       "      <td>train_f1_weighted</td>\n",
       "      <td>0.86905</td>\n",
       "      <td>0.86728</td>\n",
       "      <td>0.86119</td>\n",
       "      <td>0.87107</td>\n",
       "      <td>0.86386</td>\n",
       "      <td>0.86649</td>\n",
       "    </tr>\n",
       "    <tr>\n",
       "      <td>test_precision</td>\n",
       "      <td>0.03849</td>\n",
       "      <td>0.03719</td>\n",
       "      <td>0.02710</td>\n",
       "      <td>0.03160</td>\n",
       "      <td>0.03081</td>\n",
       "      <td>0.03304</td>\n",
       "    </tr>\n",
       "    <tr>\n",
       "      <td>train_precision</td>\n",
       "      <td>0.05210</td>\n",
       "      <td>0.05172</td>\n",
       "      <td>0.05056</td>\n",
       "      <td>0.05276</td>\n",
       "      <td>0.05077</td>\n",
       "      <td>0.05158</td>\n",
       "    </tr>\n",
       "    <tr>\n",
       "      <td>test_precision_macro</td>\n",
       "      <td>0.51351</td>\n",
       "      <td>0.51275</td>\n",
       "      <td>0.50660</td>\n",
       "      <td>0.50924</td>\n",
       "      <td>0.50886</td>\n",
       "      <td>0.51019</td>\n",
       "    </tr>\n",
       "    <tr>\n",
       "      <td>train_precision_macro</td>\n",
       "      <td>0.52231</td>\n",
       "      <td>0.52215</td>\n",
       "      <td>0.52166</td>\n",
       "      <td>0.52261</td>\n",
       "      <td>0.52168</td>\n",
       "      <td>0.52208</td>\n",
       "    </tr>\n",
       "    <tr>\n",
       "      <td>test_precision_weighted</td>\n",
       "      <td>0.97229</td>\n",
       "      <td>0.97203</td>\n",
       "      <td>0.96983</td>\n",
       "      <td>0.97068</td>\n",
       "      <td>0.97068</td>\n",
       "      <td>0.97110</td>\n",
       "    </tr>\n",
       "    <tr>\n",
       "      <td>train_precision_weighted</td>\n",
       "      <td>0.97653</td>\n",
       "      <td>0.97659</td>\n",
       "      <td>0.97672</td>\n",
       "      <td>0.97645</td>\n",
       "      <td>0.97653</td>\n",
       "      <td>0.97656</td>\n",
       "    </tr>\n",
       "    <tr>\n",
       "      <td>test_recall</td>\n",
       "      <td>0.47009</td>\n",
       "      <td>0.46154</td>\n",
       "      <td>0.37069</td>\n",
       "      <td>0.38793</td>\n",
       "      <td>0.39655</td>\n",
       "      <td>0.41736</td>\n",
       "    </tr>\n",
       "    <tr>\n",
       "      <td>train_recall</td>\n",
       "      <td>0.65376</td>\n",
       "      <td>0.65806</td>\n",
       "      <td>0.67167</td>\n",
       "      <td>0.65021</td>\n",
       "      <td>0.66094</td>\n",
       "      <td>0.65893</td>\n",
       "    </tr>\n",
       "    <tr>\n",
       "      <td>test_recall_macro</td>\n",
       "      <td>0.63284</td>\n",
       "      <td>0.62678</td>\n",
       "      <td>0.57050</td>\n",
       "      <td>0.59139</td>\n",
       "      <td>0.59064</td>\n",
       "      <td>0.60243</td>\n",
       "    </tr>\n",
       "    <tr>\n",
       "      <td>train_recall_macro</td>\n",
       "      <td>0.72403</td>\n",
       "      <td>0.72471</td>\n",
       "      <td>0.72653</td>\n",
       "      <td>0.72395</td>\n",
       "      <td>0.72340</td>\n",
       "      <td>0.72452</td>\n",
       "    </tr>\n",
       "    <tr>\n",
       "      <td>test_recall_weighted</td>\n",
       "      <td>0.79003</td>\n",
       "      <td>0.78637</td>\n",
       "      <td>0.76353</td>\n",
       "      <td>0.78795</td>\n",
       "      <td>0.77815</td>\n",
       "      <td>0.78121</td>\n",
       "    </tr>\n",
       "    <tr>\n",
       "      <td>train_recall_weighted</td>\n",
       "      <td>0.79191</td>\n",
       "      <td>0.78909</td>\n",
       "      <td>0.77952</td>\n",
       "      <td>0.79517</td>\n",
       "      <td>0.78372</td>\n",
       "      <td>0.78788</td>\n",
       "    </tr>\n",
       "    <tr>\n",
       "      <td>test_roc_auc</td>\n",
       "      <td>0.69617</td>\n",
       "      <td>0.65002</td>\n",
       "      <td>0.64999</td>\n",
       "      <td>0.66294</td>\n",
       "      <td>0.64934</td>\n",
       "      <td>0.66169</td>\n",
       "    </tr>\n",
       "    <tr>\n",
       "      <td>train_roc_auc</td>\n",
       "      <td>0.81311</td>\n",
       "      <td>0.81015</td>\n",
       "      <td>0.80751</td>\n",
       "      <td>0.80201</td>\n",
       "      <td>0.80947</td>\n",
       "      <td>0.80845</td>\n",
       "    </tr>\n",
       "  </tbody>\n",
       "</table>\n",
       "</div>"
      ],
      "text/plain": [
       "                                0        1        2        3        4  \\\n",
       "test_accuracy             0.79003  0.78637  0.76353  0.78795  0.77815   \n",
       "train_accuracy            0.79191  0.78909  0.77952  0.79517  0.78372   \n",
       "test_f1                   0.07115  0.06883  0.05050  0.05844  0.05718   \n",
       "train_f1                  0.09651  0.09591  0.09404  0.09760  0.09430   \n",
       "test_f1_macro             0.47639  0.47409  0.45772  0.46948  0.46573   \n",
       "train_f1_macro            0.48946  0.48827  0.48426  0.49104  0.48575   \n",
       "test_f1_weighted          0.86777  0.86548  0.85113  0.86657  0.86042   \n",
       "train_f1_weighted         0.86905  0.86728  0.86119  0.87107  0.86386   \n",
       "test_precision            0.03849  0.03719  0.02710  0.03160  0.03081   \n",
       "train_precision           0.05210  0.05172  0.05056  0.05276  0.05077   \n",
       "test_precision_macro      0.51351  0.51275  0.50660  0.50924  0.50886   \n",
       "train_precision_macro     0.52231  0.52215  0.52166  0.52261  0.52168   \n",
       "test_precision_weighted   0.97229  0.97203  0.96983  0.97068  0.97068   \n",
       "train_precision_weighted  0.97653  0.97659  0.97672  0.97645  0.97653   \n",
       "test_recall               0.47009  0.46154  0.37069  0.38793  0.39655   \n",
       "train_recall              0.65376  0.65806  0.67167  0.65021  0.66094   \n",
       "test_recall_macro         0.63284  0.62678  0.57050  0.59139  0.59064   \n",
       "train_recall_macro        0.72403  0.72471  0.72653  0.72395  0.72340   \n",
       "test_recall_weighted      0.79003  0.78637  0.76353  0.78795  0.77815   \n",
       "train_recall_weighted     0.79191  0.78909  0.77952  0.79517  0.78372   \n",
       "test_roc_auc              0.69617  0.65002  0.64999  0.66294  0.64934   \n",
       "train_roc_auc             0.81311  0.81015  0.80751  0.80201  0.80947   \n",
       "\n",
       "                          mean_score  \n",
       "test_accuracy                0.78121  \n",
       "train_accuracy               0.78788  \n",
       "test_f1                      0.06122  \n",
       "train_f1                     0.09567  \n",
       "test_f1_macro                0.46868  \n",
       "train_f1_macro               0.48776  \n",
       "test_f1_weighted             0.86228  \n",
       "train_f1_weighted            0.86649  \n",
       "test_precision               0.03304  \n",
       "train_precision              0.05158  \n",
       "test_precision_macro         0.51019  \n",
       "train_precision_macro        0.52208  \n",
       "test_precision_weighted      0.97110  \n",
       "train_precision_weighted     0.97656  \n",
       "test_recall                  0.41736  \n",
       "train_recall                 0.65893  \n",
       "test_recall_macro            0.60243  \n",
       "train_recall_macro           0.72452  \n",
       "test_recall_weighted         0.78121  \n",
       "train_recall_weighted        0.78788  \n",
       "test_roc_auc                 0.66169  \n",
       "train_roc_auc                0.80845  "
      ]
     },
     "execution_count": 29,
     "metadata": {},
     "output_type": "execute_result"
    }
   ],
   "source": [
    "all_features_results = pd.DataFrame(skf_results).drop(['fit_time', 'score_time'], axis=1)\n",
    "all_features_results_summary = pd.DataFrame(all_features_results.T)\n",
    "all_features_results_summary['mean_score'] = all_features_results_summary.mean(axis=1)\n",
    "all_features_results_summary"
   ]
  },
  {
   "cell_type": "markdown",
   "metadata": {},
   "source": [
    "#### Key Takeaways\n",
    "- no material change and also took longer to calculate, so will go back to using default of `gini`"
   ]
  },
  {
   "cell_type": "markdown",
   "metadata": {},
   "source": [
    "### Hyperparameter Tuning with `RandomizedSearchCV`\n",
    "- there are lots of other parameters to tune, so let's try to narrow down our possibilities\n",
    "- this took more than 10 minutes to run, so saved model which will be reloaded in subsequent runs"
   ]
  },
  {
   "cell_type": "code",
   "execution_count": 64,
   "metadata": {},
   "outputs": [],
   "source": [
    "random_grid = {'n_estimators': [100, 150, 200, 250],          # default is `10`\n",
    "               'max_features': ['auto', 0.25, 0.50],          # default is square root of `n_features`\n",
    "               'max_depth': [2, 5, 10, 20, None],             # default is `None`\n",
    "               'min_samples_split': [2, 5, 10]}               # default is `2`"
   ]
  },
  {
   "cell_type": "markdown",
   "metadata": {},
   "source": [
    "- instantiating the base model to tune"
   ]
  },
  {
   "cell_type": "code",
   "execution_count": 31,
   "metadata": {},
   "outputs": [],
   "source": [
    "rf_clf = RandomForestClassifier(class_weight='balanced')"
   ]
  },
  {
   "cell_type": "markdown",
   "metadata": {},
   "source": [
    "- Random search of parameters, using 3 fold cross validation\n",
    "- Search across 50 different combinations, and use all available cores"
   ]
  },
  {
   "cell_type": "code",
   "execution_count": 32,
   "metadata": {},
   "outputs": [],
   "source": [
    "rf_random_model = RandomizedSearchCV(estimator=rf_clf, \n",
    "                                     param_distributions=random_grid, \n",
    "                                     n_iter=100, \n",
    "                                     cv=3,\n",
    "                                     scoring='roc_auc',\n",
    "                                     verbose=2, \n",
    "                                     random_state=42, \n",
    "                                  n_jobs=-1)"
   ]
  },
  {
   "cell_type": "markdown",
   "metadata": {},
   "source": [
    "- fitting the random search model"
   ]
  },
  {
   "cell_type": "code",
   "execution_count": 33,
   "metadata": {},
   "outputs": [],
   "source": [
    "#rf_random_model.fit(X_train_all, y_train)"
   ]
  },
  {
   "cell_type": "markdown",
   "metadata": {},
   "source": [
    "- takes 10 minutes to run\n",
    "\n",
    "#### Saving `rf_random model`"
   ]
  },
  {
   "cell_type": "code",
   "execution_count": 34,
   "metadata": {},
   "outputs": [],
   "source": [
    "#joblib.dump(rf_random_model, 'rf_randomized_search.sav')"
   ]
  },
  {
   "cell_type": "markdown",
   "metadata": {},
   "source": [
    "#### Loading saved `rf_random model`"
   ]
  },
  {
   "cell_type": "code",
   "execution_count": 35,
   "metadata": {},
   "outputs": [],
   "source": [
    "loaded_rf_random_model = joblib.load('rf_randomized_search.sav')"
   ]
  },
  {
   "cell_type": "code",
   "execution_count": 36,
   "metadata": {},
   "outputs": [
    {
     "data": {
      "text/plain": [
       "{'n_estimators': 100,\n",
       " 'min_samples_split': 2,\n",
       " 'max_features': 'auto',\n",
       " 'max_depth': 2}"
      ]
     },
     "execution_count": 36,
     "metadata": {},
     "output_type": "execute_result"
    }
   ],
   "source": [
    "loaded_rf_random_model.best_params_"
   ]
  },
  {
   "cell_type": "markdown",
   "metadata": {},
   "source": [
    "- examining results"
   ]
  },
  {
   "cell_type": "code",
   "execution_count": 37,
   "metadata": {},
   "outputs": [],
   "source": [
    "randomized_search_results = pd.DataFrame(loaded_rf_random_model.cv_results_)"
   ]
  },
  {
   "cell_type": "code",
   "execution_count": 38,
   "metadata": {},
   "outputs": [],
   "source": [
    "randomized_search_results = randomized_search_results.sort_values(by=['mean_test_score'],\n",
    "                                                                  ascending=False)"
   ]
  },
  {
   "cell_type": "code",
   "execution_count": 39,
   "metadata": {},
   "outputs": [],
   "source": [
    "display_cols = ['params',\n",
    "                'mean_test_score']"
   ]
  },
  {
   "cell_type": "code",
   "execution_count": 40,
   "metadata": {},
   "outputs": [],
   "source": [
    "randomized_search_results_summary = randomized_search_results.copy()[display_cols].reset_index(drop=True)"
   ]
  },
  {
   "cell_type": "code",
   "execution_count": 41,
   "metadata": {},
   "outputs": [
    {
     "data": {
      "text/html": [
       "<div>\n",
       "<style scoped>\n",
       "    .dataframe tbody tr th:only-of-type {\n",
       "        vertical-align: middle;\n",
       "    }\n",
       "\n",
       "    .dataframe tbody tr th {\n",
       "        vertical-align: top;\n",
       "    }\n",
       "\n",
       "    .dataframe thead th {\n",
       "        text-align: right;\n",
       "    }\n",
       "</style>\n",
       "<table border=\"1\" class=\"dataframe\">\n",
       "  <thead>\n",
       "    <tr style=\"text-align: right;\">\n",
       "      <th></th>\n",
       "      <th>params</th>\n",
       "      <th>mean_test_score</th>\n",
       "    </tr>\n",
       "  </thead>\n",
       "  <tbody>\n",
       "    <tr>\n",
       "      <td>0</td>\n",
       "      <td>{'n_estimators': 100, 'min_samples_split': 2, 'max_features': 'auto', 'max_depth': 2}</td>\n",
       "      <td>0.66698</td>\n",
       "    </tr>\n",
       "    <tr>\n",
       "      <td>1</td>\n",
       "      <td>{'n_estimators': 150, 'min_samples_split': 10, 'max_features': 'auto', 'max_depth': 2}</td>\n",
       "      <td>0.66630</td>\n",
       "    </tr>\n",
       "    <tr>\n",
       "      <td>2</td>\n",
       "      <td>{'n_estimators': 200, 'min_samples_split': 5, 'max_features': 'auto', 'max_depth': 2}</td>\n",
       "      <td>0.66563</td>\n",
       "    </tr>\n",
       "    <tr>\n",
       "      <td>3</td>\n",
       "      <td>{'n_estimators': 100, 'min_samples_split': 5, 'max_features': 'auto', 'max_depth': 2}</td>\n",
       "      <td>0.66499</td>\n",
       "    </tr>\n",
       "    <tr>\n",
       "      <td>4</td>\n",
       "      <td>{'n_estimators': 250, 'min_samples_split': 10, 'max_features': 'auto', 'max_depth': 2}</td>\n",
       "      <td>0.66461</td>\n",
       "    </tr>\n",
       "    <tr>\n",
       "      <td>5</td>\n",
       "      <td>{'n_estimators': 200, 'min_samples_split': 10, 'max_features': 0.25, 'max_depth': 2}</td>\n",
       "      <td>0.66416</td>\n",
       "    </tr>\n",
       "    <tr>\n",
       "      <td>6</td>\n",
       "      <td>{'n_estimators': 200, 'min_samples_split': 10, 'max_features': 'auto', 'max_depth': 2}</td>\n",
       "      <td>0.66375</td>\n",
       "    </tr>\n",
       "    <tr>\n",
       "      <td>7</td>\n",
       "      <td>{'n_estimators': 200, 'min_samples_split': 10, 'max_features': 'auto', 'max_depth': 5}</td>\n",
       "      <td>0.66328</td>\n",
       "    </tr>\n",
       "    <tr>\n",
       "      <td>8</td>\n",
       "      <td>{'n_estimators': 250, 'min_samples_split': 2, 'max_features': 'auto', 'max_depth': 5}</td>\n",
       "      <td>0.66297</td>\n",
       "    </tr>\n",
       "    <tr>\n",
       "      <td>9</td>\n",
       "      <td>{'n_estimators': 200, 'min_samples_split': 2, 'max_features': 'auto', 'max_depth': 2}</td>\n",
       "      <td>0.66276</td>\n",
       "    </tr>\n",
       "    <tr>\n",
       "      <td>10</td>\n",
       "      <td>{'n_estimators': 100, 'min_samples_split': 10, 'max_features': 'auto', 'max_depth': 5}</td>\n",
       "      <td>0.66224</td>\n",
       "    </tr>\n",
       "    <tr>\n",
       "      <td>11</td>\n",
       "      <td>{'n_estimators': 200, 'min_samples_split': 2, 'max_features': 'auto', 'max_depth': 5}</td>\n",
       "      <td>0.66217</td>\n",
       "    </tr>\n",
       "    <tr>\n",
       "      <td>12</td>\n",
       "      <td>{'n_estimators': 100, 'min_samples_split': 2, 'max_features': 'auto', 'max_depth': 5}</td>\n",
       "      <td>0.66195</td>\n",
       "    </tr>\n",
       "    <tr>\n",
       "      <td>13</td>\n",
       "      <td>{'n_estimators': 250, 'min_samples_split': 2, 'max_features': 0.25, 'max_depth': 2}</td>\n",
       "      <td>0.66177</td>\n",
       "    </tr>\n",
       "    <tr>\n",
       "      <td>14</td>\n",
       "      <td>{'n_estimators': 200, 'min_samples_split': 5, 'max_features': 'auto', 'max_depth': 5}</td>\n",
       "      <td>0.66149</td>\n",
       "    </tr>\n",
       "    <tr>\n",
       "      <td>15</td>\n",
       "      <td>{'n_estimators': 100, 'min_samples_split': 2, 'max_features': 0.25, 'max_depth': 2}</td>\n",
       "      <td>0.66148</td>\n",
       "    </tr>\n",
       "    <tr>\n",
       "      <td>16</td>\n",
       "      <td>{'n_estimators': 200, 'min_samples_split': 5, 'max_features': 0.25, 'max_depth': 2}</td>\n",
       "      <td>0.66014</td>\n",
       "    </tr>\n",
       "    <tr>\n",
       "      <td>17</td>\n",
       "      <td>{'n_estimators': 250, 'min_samples_split': 5, 'max_features': 0.25, 'max_depth': 2}</td>\n",
       "      <td>0.66008</td>\n",
       "    </tr>\n",
       "    <tr>\n",
       "      <td>18</td>\n",
       "      <td>{'n_estimators': 150, 'min_samples_split': 10, 'max_features': 'auto', 'max_depth': 5}</td>\n",
       "      <td>0.65973</td>\n",
       "    </tr>\n",
       "    <tr>\n",
       "      <td>19</td>\n",
       "      <td>{'n_estimators': 100, 'min_samples_split': 5, 'max_features': 0.25, 'max_depth': 2}</td>\n",
       "      <td>0.65964</td>\n",
       "    </tr>\n",
       "  </tbody>\n",
       "</table>\n",
       "</div>"
      ],
      "text/plain": [
       "                                                                                    params  \\\n",
       "0    {'n_estimators': 100, 'min_samples_split': 2, 'max_features': 'auto', 'max_depth': 2}   \n",
       "1   {'n_estimators': 150, 'min_samples_split': 10, 'max_features': 'auto', 'max_depth': 2}   \n",
       "2    {'n_estimators': 200, 'min_samples_split': 5, 'max_features': 'auto', 'max_depth': 2}   \n",
       "3    {'n_estimators': 100, 'min_samples_split': 5, 'max_features': 'auto', 'max_depth': 2}   \n",
       "4   {'n_estimators': 250, 'min_samples_split': 10, 'max_features': 'auto', 'max_depth': 2}   \n",
       "5     {'n_estimators': 200, 'min_samples_split': 10, 'max_features': 0.25, 'max_depth': 2}   \n",
       "6   {'n_estimators': 200, 'min_samples_split': 10, 'max_features': 'auto', 'max_depth': 2}   \n",
       "7   {'n_estimators': 200, 'min_samples_split': 10, 'max_features': 'auto', 'max_depth': 5}   \n",
       "8    {'n_estimators': 250, 'min_samples_split': 2, 'max_features': 'auto', 'max_depth': 5}   \n",
       "9    {'n_estimators': 200, 'min_samples_split': 2, 'max_features': 'auto', 'max_depth': 2}   \n",
       "10  {'n_estimators': 100, 'min_samples_split': 10, 'max_features': 'auto', 'max_depth': 5}   \n",
       "11   {'n_estimators': 200, 'min_samples_split': 2, 'max_features': 'auto', 'max_depth': 5}   \n",
       "12   {'n_estimators': 100, 'min_samples_split': 2, 'max_features': 'auto', 'max_depth': 5}   \n",
       "13     {'n_estimators': 250, 'min_samples_split': 2, 'max_features': 0.25, 'max_depth': 2}   \n",
       "14   {'n_estimators': 200, 'min_samples_split': 5, 'max_features': 'auto', 'max_depth': 5}   \n",
       "15     {'n_estimators': 100, 'min_samples_split': 2, 'max_features': 0.25, 'max_depth': 2}   \n",
       "16     {'n_estimators': 200, 'min_samples_split': 5, 'max_features': 0.25, 'max_depth': 2}   \n",
       "17     {'n_estimators': 250, 'min_samples_split': 5, 'max_features': 0.25, 'max_depth': 2}   \n",
       "18  {'n_estimators': 150, 'min_samples_split': 10, 'max_features': 'auto', 'max_depth': 5}   \n",
       "19     {'n_estimators': 100, 'min_samples_split': 5, 'max_features': 0.25, 'max_depth': 2}   \n",
       "\n",
       "    mean_test_score  \n",
       "0           0.66698  \n",
       "1           0.66630  \n",
       "2           0.66563  \n",
       "3           0.66499  \n",
       "4           0.66461  \n",
       "5           0.66416  \n",
       "6           0.66375  \n",
       "7           0.66328  \n",
       "8           0.66297  \n",
       "9           0.66276  \n",
       "10          0.66224  \n",
       "11          0.66217  \n",
       "12          0.66195  \n",
       "13          0.66177  \n",
       "14          0.66149  \n",
       "15          0.66148  \n",
       "16          0.66014  \n",
       "17          0.66008  \n",
       "18          0.65973  \n",
       "19          0.65964  "
      ]
     },
     "execution_count": 41,
     "metadata": {},
     "output_type": "execute_result"
    }
   ],
   "source": [
    "randomized_search_results_summary.head(20)"
   ]
  },
  {
   "cell_type": "markdown",
   "metadata": {},
   "source": [
    "#### Key Takeaways\n",
    "- clear that `max_depth` is the key parameter - dominates the top 10 results\n",
    "- will run a `GridSearchCV` to confirm"
   ]
  },
  {
   "cell_type": "markdown",
   "metadata": {},
   "source": [
    "### Tuning `RandomForestClassifier()` Hyperparameters using `GridSearchCV`\n",
    "- instantiating a `RandomForestClassifier()` object"
   ]
  },
  {
   "cell_type": "code",
   "execution_count": 42,
   "metadata": {},
   "outputs": [],
   "source": [
    "rf_clf = RandomForestClassifier(class_weight='balanced',\n",
    "                                random_state=0)"
   ]
  },
  {
   "cell_type": "markdown",
   "metadata": {},
   "source": [
    "- defining hyperparamter candidates"
   ]
  },
  {
   "cell_type": "code",
   "execution_count": 43,
   "metadata": {},
   "outputs": [],
   "source": [
    "hyper_params = {'n_estimators': [200],          \n",
    "                'max_features': ['auto'],          \n",
    "                'max_depth': [2, 5],             \n",
    "                'min_samples_split': [2, 5, 10]}               "
   ]
  },
  {
   "cell_type": "markdown",
   "metadata": {},
   "source": [
    "- create `GridSearchCV` object"
   ]
  },
  {
   "cell_type": "code",
   "execution_count": 44,
   "metadata": {},
   "outputs": [],
   "source": [
    "gs = GridSearchCV(rf_clf, # estimator\n",
    "                  hyper_params, # param_grid\n",
    "                  scoring=scoring_metrics, # loss functions\n",
    "                  cv=5, \n",
    "                  refit='roc_auc', # best_estimator_ will be based on this scoring metric\n",
    "                  verbose=2,\n",
    "                  return_train_score=True,\n",
    "                  n_jobs=-1)"
   ]
  },
  {
   "cell_type": "markdown",
   "metadata": {},
   "source": [
    "- fit `GridSearchcV`"
   ]
  },
  {
   "cell_type": "code",
   "execution_count": 45,
   "metadata": {},
   "outputs": [
    {
     "name": "stdout",
     "output_type": "stream",
     "text": [
      "Fitting 5 folds for each of 6 candidates, totalling 30 fits\n"
     ]
    },
    {
     "name": "stderr",
     "output_type": "stream",
     "text": [
      "[Parallel(n_jobs=-1)]: Using backend LokyBackend with 4 concurrent workers.\n",
      "[Parallel(n_jobs=-1)]: Done  30 out of  30 | elapsed:  1.5min finished\n"
     ]
    }
   ],
   "source": [
    "rf_gs_model = gs.fit(X_train_all,\n",
    "                     y_train)"
   ]
  },
  {
   "cell_type": "markdown",
   "metadata": {},
   "source": [
    "- examining results"
   ]
  },
  {
   "cell_type": "code",
   "execution_count": 46,
   "metadata": {},
   "outputs": [],
   "source": [
    "gs_results = pd.DataFrame(rf_gs_model.cv_results_)"
   ]
  },
  {
   "cell_type": "code",
   "execution_count": 47,
   "metadata": {},
   "outputs": [],
   "source": [
    "gs_results = gs_results.sort_values(by=['mean_test_roc_auc'],\n",
    "                                           ascending=False)"
   ]
  },
  {
   "cell_type": "code",
   "execution_count": 48,
   "metadata": {},
   "outputs": [],
   "source": [
    "display_cols = ['params',\n",
    "                'rank_test_roc_auc',\n",
    "                'mean_test_roc_auc',\n",
    "                'mean_train_roc_auc']"
   ]
  },
  {
   "cell_type": "code",
   "execution_count": 49,
   "metadata": {},
   "outputs": [],
   "source": [
    "gs_results_summary = gs_results.copy()[display_cols].reset_index(drop=True)"
   ]
  },
  {
   "cell_type": "code",
   "execution_count": 50,
   "metadata": {},
   "outputs": [
    {
     "data": {
      "text/html": [
       "<div>\n",
       "<style scoped>\n",
       "    .dataframe tbody tr th:only-of-type {\n",
       "        vertical-align: middle;\n",
       "    }\n",
       "\n",
       "    .dataframe tbody tr th {\n",
       "        vertical-align: top;\n",
       "    }\n",
       "\n",
       "    .dataframe thead th {\n",
       "        text-align: right;\n",
       "    }\n",
       "</style>\n",
       "<table border=\"1\" class=\"dataframe\">\n",
       "  <thead>\n",
       "    <tr style=\"text-align: right;\">\n",
       "      <th></th>\n",
       "      <th>params</th>\n",
       "      <th>rank_test_roc_auc</th>\n",
       "      <th>mean_test_roc_auc</th>\n",
       "      <th>mean_train_roc_auc</th>\n",
       "    </tr>\n",
       "  </thead>\n",
       "  <tbody>\n",
       "    <tr>\n",
       "      <td>0</td>\n",
       "      <td>{'max_depth': 2, 'max_features': 'auto', 'min_samples_split': 2, 'n_estimators': 200}</td>\n",
       "      <td>1</td>\n",
       "      <td>0.66622</td>\n",
       "      <td>0.70836</td>\n",
       "    </tr>\n",
       "    <tr>\n",
       "      <td>1</td>\n",
       "      <td>{'max_depth': 2, 'max_features': 'auto', 'min_samples_split': 5, 'n_estimators': 200}</td>\n",
       "      <td>1</td>\n",
       "      <td>0.66622</td>\n",
       "      <td>0.70836</td>\n",
       "    </tr>\n",
       "    <tr>\n",
       "      <td>2</td>\n",
       "      <td>{'max_depth': 2, 'max_features': 'auto', 'min_samples_split': 10, 'n_estimators': 200}</td>\n",
       "      <td>1</td>\n",
       "      <td>0.66622</td>\n",
       "      <td>0.70836</td>\n",
       "    </tr>\n",
       "    <tr>\n",
       "      <td>3</td>\n",
       "      <td>{'max_depth': 5, 'max_features': 'auto', 'min_samples_split': 10, 'n_estimators': 200}</td>\n",
       "      <td>4</td>\n",
       "      <td>0.66293</td>\n",
       "      <td>0.81551</td>\n",
       "    </tr>\n",
       "    <tr>\n",
       "      <td>4</td>\n",
       "      <td>{'max_depth': 5, 'max_features': 'auto', 'min_samples_split': 2, 'n_estimators': 200}</td>\n",
       "      <td>5</td>\n",
       "      <td>0.66246</td>\n",
       "      <td>0.81561</td>\n",
       "    </tr>\n",
       "    <tr>\n",
       "      <td>5</td>\n",
       "      <td>{'max_depth': 5, 'max_features': 'auto', 'min_samples_split': 5, 'n_estimators': 200}</td>\n",
       "      <td>6</td>\n",
       "      <td>0.66244</td>\n",
       "      <td>0.81561</td>\n",
       "    </tr>\n",
       "  </tbody>\n",
       "</table>\n",
       "</div>"
      ],
      "text/plain": [
       "                                                                                   params  \\\n",
       "0   {'max_depth': 2, 'max_features': 'auto', 'min_samples_split': 2, 'n_estimators': 200}   \n",
       "1   {'max_depth': 2, 'max_features': 'auto', 'min_samples_split': 5, 'n_estimators': 200}   \n",
       "2  {'max_depth': 2, 'max_features': 'auto', 'min_samples_split': 10, 'n_estimators': 200}   \n",
       "3  {'max_depth': 5, 'max_features': 'auto', 'min_samples_split': 10, 'n_estimators': 200}   \n",
       "4   {'max_depth': 5, 'max_features': 'auto', 'min_samples_split': 2, 'n_estimators': 200}   \n",
       "5   {'max_depth': 5, 'max_features': 'auto', 'min_samples_split': 5, 'n_estimators': 200}   \n",
       "\n",
       "   rank_test_roc_auc  mean_test_roc_auc  mean_train_roc_auc  \n",
       "0                  1            0.66622             0.70836  \n",
       "1                  1            0.66622             0.70836  \n",
       "2                  1            0.66622             0.70836  \n",
       "3                  4            0.66293             0.81551  \n",
       "4                  5            0.66246             0.81561  \n",
       "5                  6            0.66244             0.81561  "
      ]
     },
     "execution_count": 50,
     "metadata": {},
     "output_type": "execute_result"
    }
   ],
   "source": [
    "gs_results_summary"
   ]
  },
  {
   "cell_type": "markdown",
   "metadata": {},
   "source": [
    "### Identifying Important Features in Random Forests\n",
    "- see Albon 14.6, page 241-243"
   ]
  },
  {
   "cell_type": "markdown",
   "metadata": {},
   "source": [
    "#### Calculating Feature Importances"
   ]
  },
  {
   "cell_type": "code",
   "execution_count": 51,
   "metadata": {},
   "outputs": [],
   "source": [
    "importances = rf_gs_model.best_estimator_.feature_importances_"
   ]
  },
  {
   "cell_type": "markdown",
   "metadata": {},
   "source": [
    "- sort importances in descending order"
   ]
  },
  {
   "cell_type": "code",
   "execution_count": 52,
   "metadata": {},
   "outputs": [],
   "source": [
    "indicies = np.argsort(importances)[::-1]"
   ]
  },
  {
   "cell_type": "markdown",
   "metadata": {},
   "source": [
    "- rearrange feature names so they match the sorted feature importances"
   ]
  },
  {
   "cell_type": "code",
   "execution_count": 53,
   "metadata": {},
   "outputs": [],
   "source": [
    "names = [X_train_all.columns.tolist()[i] for i in indicies]"
   ]
  },
  {
   "cell_type": "code",
   "execution_count": 54,
   "metadata": {},
   "outputs": [],
   "source": [
    "important_features = pd.DataFrame(list(zip(indicies, \n",
    "                                           names, \n",
    "                                           importances)),\n",
    "                                  columns=['index_number', \n",
    "                                           'feature_name', \n",
    "                                           'feature_importance']).sort_values(by='feature_importance',\n",
    "                                                                              ascending=False).reset_index(drop=True)"
   ]
  },
  {
   "cell_type": "markdown",
   "metadata": {},
   "source": [
    "- top features"
   ]
  },
  {
   "cell_type": "code",
   "execution_count": 55,
   "metadata": {},
   "outputs": [
    {
     "data": {
      "text/html": [
       "<div>\n",
       "<style scoped>\n",
       "    .dataframe tbody tr th:only-of-type {\n",
       "        vertical-align: middle;\n",
       "    }\n",
       "\n",
       "    .dataframe tbody tr th {\n",
       "        vertical-align: top;\n",
       "    }\n",
       "\n",
       "    .dataframe thead th {\n",
       "        text-align: right;\n",
       "    }\n",
       "</style>\n",
       "<table border=\"1\" class=\"dataframe\">\n",
       "  <thead>\n",
       "    <tr style=\"text-align: right;\">\n",
       "      <th></th>\n",
       "      <th>index_number</th>\n",
       "      <th>feature_name</th>\n",
       "      <th>feature_importance</th>\n",
       "    </tr>\n",
       "  </thead>\n",
       "  <tbody>\n",
       "    <tr>\n",
       "      <td>0</td>\n",
       "      <td>0</td>\n",
       "      <td>age</td>\n",
       "      <td>0.13122</td>\n",
       "    </tr>\n",
       "    <tr>\n",
       "      <td>1</td>\n",
       "      <td>11</td>\n",
       "      <td>surgdt_month</td>\n",
       "      <td>0.10837</td>\n",
       "    </tr>\n",
       "    <tr>\n",
       "      <td>2</td>\n",
       "      <td>2</td>\n",
       "      <td>weightkg</td>\n",
       "      <td>0.08837</td>\n",
       "    </tr>\n",
       "    <tr>\n",
       "      <td>3</td>\n",
       "      <td>34</td>\n",
       "      <td>cvd</td>\n",
       "      <td>0.08445</td>\n",
       "    </tr>\n",
       "    <tr>\n",
       "      <td>4</td>\n",
       "      <td>4</td>\n",
       "      <td>hct</td>\n",
       "      <td>0.06592</td>\n",
       "    </tr>\n",
       "    <tr>\n",
       "      <td>5</td>\n",
       "      <td>30</td>\n",
       "      <td>cancer</td>\n",
       "      <td>0.05619</td>\n",
       "    </tr>\n",
       "    <tr>\n",
       "      <td>6</td>\n",
       "      <td>50</td>\n",
       "      <td>diabctrl</td>\n",
       "      <td>0.05016</td>\n",
       "    </tr>\n",
       "    <tr>\n",
       "      <td>7</td>\n",
       "      <td>35</td>\n",
       "      <td>cva</td>\n",
       "      <td>0.04937</td>\n",
       "    </tr>\n",
       "    <tr>\n",
       "      <td>8</td>\n",
       "      <td>31</td>\n",
       "      <td>pvd</td>\n",
       "      <td>0.04759</td>\n",
       "    </tr>\n",
       "    <tr>\n",
       "      <td>9</td>\n",
       "      <td>18</td>\n",
       "      <td>racenativeam</td>\n",
       "      <td>0.02515</td>\n",
       "    </tr>\n",
       "  </tbody>\n",
       "</table>\n",
       "</div>"
      ],
      "text/plain": [
       "   index_number  feature_name  feature_importance\n",
       "0             0           age             0.13122\n",
       "1            11  surgdt_month             0.10837\n",
       "2             2      weightkg             0.08837\n",
       "3            34           cvd             0.08445\n",
       "4             4           hct             0.06592\n",
       "5            30        cancer             0.05619\n",
       "6            50      diabctrl             0.05016\n",
       "7            35           cva             0.04937\n",
       "8            31           pvd             0.04759\n",
       "9            18  racenativeam             0.02515"
      ]
     },
     "execution_count": 55,
     "metadata": {},
     "output_type": "execute_result"
    }
   ],
   "source": [
    "important_features.head(10)"
   ]
  },
  {
   "cell_type": "markdown",
   "metadata": {},
   "source": [
    "- selecting the top 25 features ranked by feature importance"
   ]
  },
  {
   "cell_type": "code",
   "execution_count": 56,
   "metadata": {},
   "outputs": [],
   "source": [
    "top_features = important_features['feature_name'].values.tolist()[:25]"
   ]
  },
  {
   "cell_type": "markdown",
   "metadata": {},
   "source": [
    "### Let's see if reducing the number of features improves results"
   ]
  },
  {
   "cell_type": "markdown",
   "metadata": {},
   "source": [
    "- instantiating a `RandomForestClassifier()` object"
   ]
  },
  {
   "cell_type": "code",
   "execution_count": 57,
   "metadata": {},
   "outputs": [],
   "source": [
    "rf_clf = RandomForestClassifier(n_estimators=200,\n",
    "                                class_weight='balanced',\n",
    "                                random_state=0,\n",
    "                                n_jobs=-1,\n",
    "                                verbose=2)"
   ]
  },
  {
   "cell_type": "markdown",
   "metadata": {},
   "source": [
    "- using only the top features identified above"
   ]
  },
  {
   "cell_type": "code",
   "execution_count": 58,
   "metadata": {},
   "outputs": [],
   "source": [
    "X_train_top = X_train_all.copy()[top_features]"
   ]
  },
  {
   "cell_type": "code",
   "execution_count": 59,
   "metadata": {},
   "outputs": [
    {
     "name": "stderr",
     "output_type": "stream",
     "text": [
      "[Parallel(n_jobs=-1)]: Using backend LokyBackend with 4 concurrent workers.\n",
      "[Parallel(n_jobs=-1)]: Done   5 out of   5 | elapsed:   33.0s finished\n"
     ]
    }
   ],
   "source": [
    "skf_results = cross_validate(rf_clf, # model\n",
    "                             X_train_top, # feature matrix - X\n",
    "                             y_train, # target vector - y\n",
    "                             cv=skf, # cross-validation technique\n",
    "                             scoring=scoring_metrics, # loss functions\n",
    "                             return_train_score=True, # returns training score\n",
    "                             verbose=2, # verbosity level to check progress of calculations\n",
    "                             n_jobs=-1) # uses all computer cores              "
   ]
  },
  {
   "cell_type": "code",
   "execution_count": 60,
   "metadata": {},
   "outputs": [
    {
     "data": {
      "text/html": [
       "<div>\n",
       "<style scoped>\n",
       "    .dataframe tbody tr th:only-of-type {\n",
       "        vertical-align: middle;\n",
       "    }\n",
       "\n",
       "    .dataframe tbody tr th {\n",
       "        vertical-align: top;\n",
       "    }\n",
       "\n",
       "    .dataframe thead th {\n",
       "        text-align: right;\n",
       "    }\n",
       "</style>\n",
       "<table border=\"1\" class=\"dataframe\">\n",
       "  <thead>\n",
       "    <tr style=\"text-align: right;\">\n",
       "      <th></th>\n",
       "      <th>0</th>\n",
       "      <th>1</th>\n",
       "      <th>2</th>\n",
       "      <th>3</th>\n",
       "      <th>4</th>\n",
       "      <th>mean_score</th>\n",
       "    </tr>\n",
       "  </thead>\n",
       "  <tbody>\n",
       "    <tr>\n",
       "      <td>test_accuracy</td>\n",
       "      <td>0.98289</td>\n",
       "      <td>0.98289</td>\n",
       "      <td>0.98304</td>\n",
       "      <td>0.98304</td>\n",
       "      <td>0.98304</td>\n",
       "      <td>0.98298</td>\n",
       "    </tr>\n",
       "    <tr>\n",
       "      <td>train_accuracy</td>\n",
       "      <td>1.00000</td>\n",
       "      <td>1.00000</td>\n",
       "      <td>1.00000</td>\n",
       "      <td>1.00000</td>\n",
       "      <td>1.00000</td>\n",
       "      <td>1.00000</td>\n",
       "    </tr>\n",
       "    <tr>\n",
       "      <td>test_f1</td>\n",
       "      <td>0.00000</td>\n",
       "      <td>0.00000</td>\n",
       "      <td>0.00000</td>\n",
       "      <td>0.00000</td>\n",
       "      <td>0.00000</td>\n",
       "      <td>0.00000</td>\n",
       "    </tr>\n",
       "    <tr>\n",
       "      <td>train_f1</td>\n",
       "      <td>1.00000</td>\n",
       "      <td>1.00000</td>\n",
       "      <td>1.00000</td>\n",
       "      <td>1.00000</td>\n",
       "      <td>1.00000</td>\n",
       "      <td>1.00000</td>\n",
       "    </tr>\n",
       "    <tr>\n",
       "      <td>test_f1_macro</td>\n",
       "      <td>0.49569</td>\n",
       "      <td>0.49569</td>\n",
       "      <td>0.49572</td>\n",
       "      <td>0.49572</td>\n",
       "      <td>0.49572</td>\n",
       "      <td>0.49571</td>\n",
       "    </tr>\n",
       "    <tr>\n",
       "      <td>train_f1_macro</td>\n",
       "      <td>1.00000</td>\n",
       "      <td>1.00000</td>\n",
       "      <td>1.00000</td>\n",
       "      <td>1.00000</td>\n",
       "      <td>1.00000</td>\n",
       "      <td>1.00000</td>\n",
       "    </tr>\n",
       "    <tr>\n",
       "      <td>test_f1_weighted</td>\n",
       "      <td>0.97441</td>\n",
       "      <td>0.97441</td>\n",
       "      <td>0.97463</td>\n",
       "      <td>0.97463</td>\n",
       "      <td>0.97463</td>\n",
       "      <td>0.97454</td>\n",
       "    </tr>\n",
       "    <tr>\n",
       "      <td>train_f1_weighted</td>\n",
       "      <td>1.00000</td>\n",
       "      <td>1.00000</td>\n",
       "      <td>1.00000</td>\n",
       "      <td>1.00000</td>\n",
       "      <td>1.00000</td>\n",
       "      <td>1.00000</td>\n",
       "    </tr>\n",
       "    <tr>\n",
       "      <td>test_precision</td>\n",
       "      <td>0.00000</td>\n",
       "      <td>0.00000</td>\n",
       "      <td>0.00000</td>\n",
       "      <td>0.00000</td>\n",
       "      <td>0.00000</td>\n",
       "      <td>0.00000</td>\n",
       "    </tr>\n",
       "    <tr>\n",
       "      <td>train_precision</td>\n",
       "      <td>1.00000</td>\n",
       "      <td>1.00000</td>\n",
       "      <td>1.00000</td>\n",
       "      <td>1.00000</td>\n",
       "      <td>1.00000</td>\n",
       "      <td>1.00000</td>\n",
       "    </tr>\n",
       "    <tr>\n",
       "      <td>test_precision_macro</td>\n",
       "      <td>0.49145</td>\n",
       "      <td>0.49145</td>\n",
       "      <td>0.49152</td>\n",
       "      <td>0.49152</td>\n",
       "      <td>0.49152</td>\n",
       "      <td>0.49149</td>\n",
       "    </tr>\n",
       "    <tr>\n",
       "      <td>train_precision_macro</td>\n",
       "      <td>1.00000</td>\n",
       "      <td>1.00000</td>\n",
       "      <td>1.00000</td>\n",
       "      <td>1.00000</td>\n",
       "      <td>1.00000</td>\n",
       "      <td>1.00000</td>\n",
       "    </tr>\n",
       "    <tr>\n",
       "      <td>test_precision_weighted</td>\n",
       "      <td>0.96608</td>\n",
       "      <td>0.96608</td>\n",
       "      <td>0.96636</td>\n",
       "      <td>0.96636</td>\n",
       "      <td>0.96636</td>\n",
       "      <td>0.96625</td>\n",
       "    </tr>\n",
       "    <tr>\n",
       "      <td>train_precision_weighted</td>\n",
       "      <td>1.00000</td>\n",
       "      <td>1.00000</td>\n",
       "      <td>1.00000</td>\n",
       "      <td>1.00000</td>\n",
       "      <td>1.00000</td>\n",
       "      <td>1.00000</td>\n",
       "    </tr>\n",
       "    <tr>\n",
       "      <td>test_recall</td>\n",
       "      <td>0.00000</td>\n",
       "      <td>0.00000</td>\n",
       "      <td>0.00000</td>\n",
       "      <td>0.00000</td>\n",
       "      <td>0.00000</td>\n",
       "      <td>0.00000</td>\n",
       "    </tr>\n",
       "    <tr>\n",
       "      <td>train_recall</td>\n",
       "      <td>1.00000</td>\n",
       "      <td>1.00000</td>\n",
       "      <td>1.00000</td>\n",
       "      <td>1.00000</td>\n",
       "      <td>1.00000</td>\n",
       "      <td>1.00000</td>\n",
       "    </tr>\n",
       "    <tr>\n",
       "      <td>test_recall_macro</td>\n",
       "      <td>0.50000</td>\n",
       "      <td>0.50000</td>\n",
       "      <td>0.50000</td>\n",
       "      <td>0.50000</td>\n",
       "      <td>0.50000</td>\n",
       "      <td>0.50000</td>\n",
       "    </tr>\n",
       "    <tr>\n",
       "      <td>train_recall_macro</td>\n",
       "      <td>1.00000</td>\n",
       "      <td>1.00000</td>\n",
       "      <td>1.00000</td>\n",
       "      <td>1.00000</td>\n",
       "      <td>1.00000</td>\n",
       "      <td>1.00000</td>\n",
       "    </tr>\n",
       "    <tr>\n",
       "      <td>test_recall_weighted</td>\n",
       "      <td>0.98289</td>\n",
       "      <td>0.98289</td>\n",
       "      <td>0.98304</td>\n",
       "      <td>0.98304</td>\n",
       "      <td>0.98304</td>\n",
       "      <td>0.98298</td>\n",
       "    </tr>\n",
       "    <tr>\n",
       "      <td>train_recall_weighted</td>\n",
       "      <td>1.00000</td>\n",
       "      <td>1.00000</td>\n",
       "      <td>1.00000</td>\n",
       "      <td>1.00000</td>\n",
       "      <td>1.00000</td>\n",
       "      <td>1.00000</td>\n",
       "    </tr>\n",
       "    <tr>\n",
       "      <td>test_roc_auc</td>\n",
       "      <td>0.58521</td>\n",
       "      <td>0.63609</td>\n",
       "      <td>0.59919</td>\n",
       "      <td>0.60626</td>\n",
       "      <td>0.54997</td>\n",
       "      <td>0.59534</td>\n",
       "    </tr>\n",
       "    <tr>\n",
       "      <td>train_roc_auc</td>\n",
       "      <td>1.00000</td>\n",
       "      <td>1.00000</td>\n",
       "      <td>1.00000</td>\n",
       "      <td>1.00000</td>\n",
       "      <td>1.00000</td>\n",
       "      <td>1.00000</td>\n",
       "    </tr>\n",
       "  </tbody>\n",
       "</table>\n",
       "</div>"
      ],
      "text/plain": [
       "                                0        1        2        3        4  \\\n",
       "test_accuracy             0.98289  0.98289  0.98304  0.98304  0.98304   \n",
       "train_accuracy            1.00000  1.00000  1.00000  1.00000  1.00000   \n",
       "test_f1                   0.00000  0.00000  0.00000  0.00000  0.00000   \n",
       "train_f1                  1.00000  1.00000  1.00000  1.00000  1.00000   \n",
       "test_f1_macro             0.49569  0.49569  0.49572  0.49572  0.49572   \n",
       "train_f1_macro            1.00000  1.00000  1.00000  1.00000  1.00000   \n",
       "test_f1_weighted          0.97441  0.97441  0.97463  0.97463  0.97463   \n",
       "train_f1_weighted         1.00000  1.00000  1.00000  1.00000  1.00000   \n",
       "test_precision            0.00000  0.00000  0.00000  0.00000  0.00000   \n",
       "train_precision           1.00000  1.00000  1.00000  1.00000  1.00000   \n",
       "test_precision_macro      0.49145  0.49145  0.49152  0.49152  0.49152   \n",
       "train_precision_macro     1.00000  1.00000  1.00000  1.00000  1.00000   \n",
       "test_precision_weighted   0.96608  0.96608  0.96636  0.96636  0.96636   \n",
       "train_precision_weighted  1.00000  1.00000  1.00000  1.00000  1.00000   \n",
       "test_recall               0.00000  0.00000  0.00000  0.00000  0.00000   \n",
       "train_recall              1.00000  1.00000  1.00000  1.00000  1.00000   \n",
       "test_recall_macro         0.50000  0.50000  0.50000  0.50000  0.50000   \n",
       "train_recall_macro        1.00000  1.00000  1.00000  1.00000  1.00000   \n",
       "test_recall_weighted      0.98289  0.98289  0.98304  0.98304  0.98304   \n",
       "train_recall_weighted     1.00000  1.00000  1.00000  1.00000  1.00000   \n",
       "test_roc_auc              0.58521  0.63609  0.59919  0.60626  0.54997   \n",
       "train_roc_auc             1.00000  1.00000  1.00000  1.00000  1.00000   \n",
       "\n",
       "                          mean_score  \n",
       "test_accuracy                0.98298  \n",
       "train_accuracy               1.00000  \n",
       "test_f1                      0.00000  \n",
       "train_f1                     1.00000  \n",
       "test_f1_macro                0.49571  \n",
       "train_f1_macro               1.00000  \n",
       "test_f1_weighted             0.97454  \n",
       "train_f1_weighted            1.00000  \n",
       "test_precision               0.00000  \n",
       "train_precision              1.00000  \n",
       "test_precision_macro         0.49149  \n",
       "train_precision_macro        1.00000  \n",
       "test_precision_weighted      0.96625  \n",
       "train_precision_weighted     1.00000  \n",
       "test_recall                  0.00000  \n",
       "train_recall                 1.00000  \n",
       "test_recall_macro            0.50000  \n",
       "train_recall_macro           1.00000  \n",
       "test_recall_weighted         0.98298  \n",
       "train_recall_weighted        1.00000  \n",
       "test_roc_auc                 0.59534  \n",
       "train_roc_auc                1.00000  "
      ]
     },
     "execution_count": 60,
     "metadata": {},
     "output_type": "execute_result"
    }
   ],
   "source": [
    "all_features_results = pd.DataFrame(skf_results).drop(['fit_time', 'score_time'], axis=1)\n",
    "all_features_results_summary = pd.DataFrame(all_features_results.T)\n",
    "all_features_results_summary['mean_score'] = all_features_results_summary.mean(axis=1)\n",
    "all_features_results_summary"
   ]
  },
  {
   "cell_type": "markdown",
   "metadata": {},
   "source": [
    "#### Key Takeaways\n",
    "- Limiting feature set to the top features did not improve results at all with out of the box settings\n",
    "- Let's try one more scenario using the hyperparameters from our grid search"
   ]
  },
  {
   "cell_type": "markdown",
   "metadata": {},
   "source": [
    "#### Using `GridSearchCV` Hyperparameters and Top Features"
   ]
  },
  {
   "cell_type": "code",
   "execution_count": 61,
   "metadata": {},
   "outputs": [],
   "source": [
    "rf_clf = RandomForestClassifier(n_estimators=200,\n",
    "                                max_depth=2,\n",
    "                                min_samples_split=2,\n",
    "                                class_weight='balanced',\n",
    "                                random_state=0,\n",
    "                                n_jobs=-1,\n",
    "                                verbose=2)"
   ]
  },
  {
   "cell_type": "code",
   "execution_count": 62,
   "metadata": {},
   "outputs": [
    {
     "name": "stderr",
     "output_type": "stream",
     "text": [
      "[Parallel(n_jobs=-1)]: Using backend LokyBackend with 4 concurrent workers.\n",
      "[Parallel(n_jobs=-1)]: Done   5 out of   5 | elapsed:   14.9s finished\n"
     ]
    }
   ],
   "source": [
    "skf_results = cross_validate(rf_clf, # model\n",
    "                             X_train_top, # feature matrix - X\n",
    "                             y_train, # target vector - y\n",
    "                             cv=skf, # cross-validation technique\n",
    "                             scoring=scoring_metrics, # loss functions\n",
    "                             return_train_score=True, # returns training score\n",
    "                             verbose=2, # verbosity level to check progress of calculations\n",
    "                             n_jobs=-1) # uses all computer cores              "
   ]
  },
  {
   "cell_type": "code",
   "execution_count": 63,
   "metadata": {},
   "outputs": [
    {
     "data": {
      "text/html": [
       "<div>\n",
       "<style scoped>\n",
       "    .dataframe tbody tr th:only-of-type {\n",
       "        vertical-align: middle;\n",
       "    }\n",
       "\n",
       "    .dataframe tbody tr th {\n",
       "        vertical-align: top;\n",
       "    }\n",
       "\n",
       "    .dataframe thead th {\n",
       "        text-align: right;\n",
       "    }\n",
       "</style>\n",
       "<table border=\"1\" class=\"dataframe\">\n",
       "  <thead>\n",
       "    <tr style=\"text-align: right;\">\n",
       "      <th></th>\n",
       "      <th>0</th>\n",
       "      <th>1</th>\n",
       "      <th>2</th>\n",
       "      <th>3</th>\n",
       "      <th>4</th>\n",
       "      <th>mean_score</th>\n",
       "    </tr>\n",
       "  </thead>\n",
       "  <tbody>\n",
       "    <tr>\n",
       "      <td>test_accuracy</td>\n",
       "      <td>0.66121</td>\n",
       "      <td>0.65682</td>\n",
       "      <td>0.65399</td>\n",
       "      <td>0.65853</td>\n",
       "      <td>0.65706</td>\n",
       "      <td>0.65752</td>\n",
       "    </tr>\n",
       "    <tr>\n",
       "      <td>train_accuracy</td>\n",
       "      <td>0.66391</td>\n",
       "      <td>0.65331</td>\n",
       "      <td>0.66038</td>\n",
       "      <td>0.66451</td>\n",
       "      <td>0.66184</td>\n",
       "      <td>0.66079</td>\n",
       "    </tr>\n",
       "    <tr>\n",
       "      <td>test_f1</td>\n",
       "      <td>0.05544</td>\n",
       "      <td>0.05325</td>\n",
       "      <td>0.04750</td>\n",
       "      <td>0.05351</td>\n",
       "      <td>0.05329</td>\n",
       "      <td>0.05260</td>\n",
       "    </tr>\n",
       "    <tr>\n",
       "      <td>train_f1</td>\n",
       "      <td>0.05626</td>\n",
       "      <td>0.05614</td>\n",
       "      <td>0.05800</td>\n",
       "      <td>0.05751</td>\n",
       "      <td>0.05747</td>\n",
       "      <td>0.05708</td>\n",
       "    </tr>\n",
       "    <tr>\n",
       "      <td>test_f1_macro</td>\n",
       "      <td>0.42451</td>\n",
       "      <td>0.42184</td>\n",
       "      <td>0.41805</td>\n",
       "      <td>0.42260</td>\n",
       "      <td>0.42195</td>\n",
       "      <td>0.42179</td>\n",
       "    </tr>\n",
       "    <tr>\n",
       "      <td>train_f1_macro</td>\n",
       "      <td>0.42590</td>\n",
       "      <td>0.42190</td>\n",
       "      <td>0.42542</td>\n",
       "      <td>0.42672</td>\n",
       "      <td>0.42571</td>\n",
       "      <td>0.42513</td>\n",
       "    </tr>\n",
       "    <tr>\n",
       "      <td>test_f1_weighted</td>\n",
       "      <td>0.78096</td>\n",
       "      <td>0.77782</td>\n",
       "      <td>0.77603</td>\n",
       "      <td>0.77916</td>\n",
       "      <td>0.77810</td>\n",
       "      <td>0.77841</td>\n",
       "    </tr>\n",
       "    <tr>\n",
       "      <td>train_f1_weighted</td>\n",
       "      <td>0.78298</td>\n",
       "      <td>0.77522</td>\n",
       "      <td>0.78033</td>\n",
       "      <td>0.78336</td>\n",
       "      <td>0.78141</td>\n",
       "      <td>0.78066</td>\n",
       "    </tr>\n",
       "    <tr>\n",
       "      <td>test_precision</td>\n",
       "      <td>0.02911</td>\n",
       "      <td>0.02794</td>\n",
       "      <td>0.02492</td>\n",
       "      <td>0.02807</td>\n",
       "      <td>0.02795</td>\n",
       "      <td>0.02760</td>\n",
       "    </tr>\n",
       "    <tr>\n",
       "      <td>train_precision</td>\n",
       "      <td>0.02954</td>\n",
       "      <td>0.02943</td>\n",
       "      <td>0.03044</td>\n",
       "      <td>0.03020</td>\n",
       "      <td>0.03017</td>\n",
       "      <td>0.02996</td>\n",
       "    </tr>\n",
       "    <tr>\n",
       "      <td>test_precision_macro</td>\n",
       "      <td>0.50911</td>\n",
       "      <td>0.50828</td>\n",
       "      <td>0.50608</td>\n",
       "      <td>0.50846</td>\n",
       "      <td>0.50839</td>\n",
       "      <td>0.50807</td>\n",
       "    </tr>\n",
       "    <tr>\n",
       "      <td>train_precision_macro</td>\n",
       "      <td>0.50949</td>\n",
       "      <td>0.50957</td>\n",
       "      <td>0.51021</td>\n",
       "      <td>0.50996</td>\n",
       "      <td>0.50997</td>\n",
       "      <td>0.50984</td>\n",
       "    </tr>\n",
       "    <tr>\n",
       "      <td>test_precision_weighted</td>\n",
       "      <td>0.97269</td>\n",
       "      <td>0.97217</td>\n",
       "      <td>0.97092</td>\n",
       "      <td>0.97256</td>\n",
       "      <td>0.97253</td>\n",
       "      <td>0.97218</td>\n",
       "    </tr>\n",
       "    <tr>\n",
       "      <td>train_precision_weighted</td>\n",
       "      <td>0.97312</td>\n",
       "      <td>0.97338</td>\n",
       "      <td>0.97363</td>\n",
       "      <td>0.97337</td>\n",
       "      <td>0.97343</td>\n",
       "      <td>0.97338</td>\n",
       "    </tr>\n",
       "    <tr>\n",
       "      <td>test_recall</td>\n",
       "      <td>0.58120</td>\n",
       "      <td>0.56410</td>\n",
       "      <td>0.50862</td>\n",
       "      <td>0.56897</td>\n",
       "      <td>0.56897</td>\n",
       "      <td>0.55837</td>\n",
       "    </tr>\n",
       "    <tr>\n",
       "      <td>train_recall</td>\n",
       "      <td>0.58925</td>\n",
       "      <td>0.60645</td>\n",
       "      <td>0.61373</td>\n",
       "      <td>0.60086</td>\n",
       "      <td>0.60515</td>\n",
       "      <td>0.60309</td>\n",
       "    </tr>\n",
       "    <tr>\n",
       "      <td>test_recall_macro</td>\n",
       "      <td>0.62190</td>\n",
       "      <td>0.61127</td>\n",
       "      <td>0.58256</td>\n",
       "      <td>0.61452</td>\n",
       "      <td>0.61377</td>\n",
       "      <td>0.60880</td>\n",
       "    </tr>\n",
       "    <tr>\n",
       "      <td>train_recall_macro</td>\n",
       "      <td>0.62723</td>\n",
       "      <td>0.63029</td>\n",
       "      <td>0.63746</td>\n",
       "      <td>0.63324</td>\n",
       "      <td>0.63399</td>\n",
       "      <td>0.63244</td>\n",
       "    </tr>\n",
       "    <tr>\n",
       "      <td>test_recall_weighted</td>\n",
       "      <td>0.66121</td>\n",
       "      <td>0.65682</td>\n",
       "      <td>0.65399</td>\n",
       "      <td>0.65853</td>\n",
       "      <td>0.65706</td>\n",
       "      <td>0.65752</td>\n",
       "    </tr>\n",
       "    <tr>\n",
       "      <td>train_recall_weighted</td>\n",
       "      <td>0.66391</td>\n",
       "      <td>0.65331</td>\n",
       "      <td>0.66038</td>\n",
       "      <td>0.66451</td>\n",
       "      <td>0.66184</td>\n",
       "      <td>0.66079</td>\n",
       "    </tr>\n",
       "    <tr>\n",
       "      <td>test_roc_auc</td>\n",
       "      <td>0.68885</td>\n",
       "      <td>0.63292</td>\n",
       "      <td>0.64106</td>\n",
       "      <td>0.65232</td>\n",
       "      <td>0.65403</td>\n",
       "      <td>0.65383</td>\n",
       "    </tr>\n",
       "    <tr>\n",
       "      <td>train_roc_auc</td>\n",
       "      <td>0.68232</td>\n",
       "      <td>0.68422</td>\n",
       "      <td>0.68891</td>\n",
       "      <td>0.68571</td>\n",
       "      <td>0.68904</td>\n",
       "      <td>0.68604</td>\n",
       "    </tr>\n",
       "  </tbody>\n",
       "</table>\n",
       "</div>"
      ],
      "text/plain": [
       "                                0        1        2        3        4  \\\n",
       "test_accuracy             0.66121  0.65682  0.65399  0.65853  0.65706   \n",
       "train_accuracy            0.66391  0.65331  0.66038  0.66451  0.66184   \n",
       "test_f1                   0.05544  0.05325  0.04750  0.05351  0.05329   \n",
       "train_f1                  0.05626  0.05614  0.05800  0.05751  0.05747   \n",
       "test_f1_macro             0.42451  0.42184  0.41805  0.42260  0.42195   \n",
       "train_f1_macro            0.42590  0.42190  0.42542  0.42672  0.42571   \n",
       "test_f1_weighted          0.78096  0.77782  0.77603  0.77916  0.77810   \n",
       "train_f1_weighted         0.78298  0.77522  0.78033  0.78336  0.78141   \n",
       "test_precision            0.02911  0.02794  0.02492  0.02807  0.02795   \n",
       "train_precision           0.02954  0.02943  0.03044  0.03020  0.03017   \n",
       "test_precision_macro      0.50911  0.50828  0.50608  0.50846  0.50839   \n",
       "train_precision_macro     0.50949  0.50957  0.51021  0.50996  0.50997   \n",
       "test_precision_weighted   0.97269  0.97217  0.97092  0.97256  0.97253   \n",
       "train_precision_weighted  0.97312  0.97338  0.97363  0.97337  0.97343   \n",
       "test_recall               0.58120  0.56410  0.50862  0.56897  0.56897   \n",
       "train_recall              0.58925  0.60645  0.61373  0.60086  0.60515   \n",
       "test_recall_macro         0.62190  0.61127  0.58256  0.61452  0.61377   \n",
       "train_recall_macro        0.62723  0.63029  0.63746  0.63324  0.63399   \n",
       "test_recall_weighted      0.66121  0.65682  0.65399  0.65853  0.65706   \n",
       "train_recall_weighted     0.66391  0.65331  0.66038  0.66451  0.66184   \n",
       "test_roc_auc              0.68885  0.63292  0.64106  0.65232  0.65403   \n",
       "train_roc_auc             0.68232  0.68422  0.68891  0.68571  0.68904   \n",
       "\n",
       "                          mean_score  \n",
       "test_accuracy                0.65752  \n",
       "train_accuracy               0.66079  \n",
       "test_f1                      0.05260  \n",
       "train_f1                     0.05708  \n",
       "test_f1_macro                0.42179  \n",
       "train_f1_macro               0.42513  \n",
       "test_f1_weighted             0.77841  \n",
       "train_f1_weighted            0.78066  \n",
       "test_precision               0.02760  \n",
       "train_precision              0.02996  \n",
       "test_precision_macro         0.50807  \n",
       "train_precision_macro        0.50984  \n",
       "test_precision_weighted      0.97218  \n",
       "train_precision_weighted     0.97338  \n",
       "test_recall                  0.55837  \n",
       "train_recall                 0.60309  \n",
       "test_recall_macro            0.60880  \n",
       "train_recall_macro           0.63244  \n",
       "test_recall_weighted         0.65752  \n",
       "train_recall_weighted        0.66079  \n",
       "test_roc_auc                 0.65383  \n",
       "train_roc_auc                0.68604  "
      ]
     },
     "execution_count": 63,
     "metadata": {},
     "output_type": "execute_result"
    }
   ],
   "source": [
    "all_features_results = pd.DataFrame(skf_results).drop(['fit_time', 'score_time'], axis=1)\n",
    "all_features_results_summary = pd.DataFrame(all_features_results.T)\n",
    "all_features_results_summary['mean_score'] = all_features_results_summary.mean(axis=1)\n",
    "all_features_results_summary"
   ]
  },
  {
   "cell_type": "markdown",
   "metadata": {},
   "source": [
    "### Final Takeaways\n",
    "- `RandomForestClassifier` results in similar results to `LogisticRegression` and `STS` model in terms of `roc_auc` scores"
   ]
  },
  {
   "cell_type": "markdown",
   "metadata": {},
   "source": [
    "## Begin new work (11/2)"
   ]
  },
  {
   "cell_type": "code",
   "execution_count": 42,
   "metadata": {},
   "outputs": [
    {
     "name": "stdout",
     "output_type": "stream",
     "text": [
      "---Weight of 1 for Stroke class---\n"
     ]
    },
    {
     "name": "stderr",
     "output_type": "stream",
     "text": [
      "[Parallel(n_jobs=-1)]: Using backend LokyBackend with 4 concurrent workers.\n",
      "[Parallel(n_jobs=-1)]: Done   5 out of   5 | elapsed:   30.7s finished\n",
      "[Parallel(n_jobs=-1)]: Using backend LokyBackend with 4 concurrent workers.\n"
     ]
    },
    {
     "name": "stdout",
     "output_type": "stream",
     "text": [
      "0.6726964536521935\n",
      "---Weight of 5 for Stroke class---\n"
     ]
    },
    {
     "name": "stderr",
     "output_type": "stream",
     "text": [
      "[Parallel(n_jobs=-1)]: Done   5 out of   5 | elapsed:   33.9s finished\n",
      "[Parallel(n_jobs=-1)]: Using backend LokyBackend with 4 concurrent workers.\n"
     ]
    },
    {
     "name": "stdout",
     "output_type": "stream",
     "text": [
      "0.6742379792812495\n",
      "---Weight of 10 for Stroke class---\n"
     ]
    },
    {
     "name": "stderr",
     "output_type": "stream",
     "text": [
      "[Parallel(n_jobs=-1)]: Done   5 out of   5 | elapsed:   30.9s finished\n",
      "[Parallel(n_jobs=-1)]: Using backend LokyBackend with 4 concurrent workers.\n"
     ]
    },
    {
     "name": "stdout",
     "output_type": "stream",
     "text": [
      "0.6750075621238504\n",
      "---Weight of 100 for Stroke class---\n"
     ]
    },
    {
     "name": "stderr",
     "output_type": "stream",
     "text": [
      "[Parallel(n_jobs=-1)]: Done   5 out of   5 | elapsed:   34.2s finished\n",
      "[Parallel(n_jobs=-1)]: Using backend LokyBackend with 4 concurrent workers.\n"
     ]
    },
    {
     "name": "stdout",
     "output_type": "stream",
     "text": [
      "0.6671118816388082\n",
      "---Weight of 500 for Stroke class---\n"
     ]
    },
    {
     "name": "stderr",
     "output_type": "stream",
     "text": [
      "[Parallel(n_jobs=-1)]: Done   5 out of   5 | elapsed:  1.2min finished\n",
      "[Parallel(n_jobs=-1)]: Using backend LokyBackend with 4 concurrent workers.\n"
     ]
    },
    {
     "name": "stdout",
     "output_type": "stream",
     "text": [
      "0.6372148918178937\n",
      "---Weight of 1000 for Stroke class---\n",
      "0.6000010040448538\n"
     ]
    },
    {
     "name": "stderr",
     "output_type": "stream",
     "text": [
      "[Parallel(n_jobs=-1)]: Done   5 out of   5 | elapsed:   35.7s finished\n"
     ]
    }
   ],
   "source": [
    "for w in [1,5,10,100,500,1000]:\n",
    "    print('---Weight of {} for Stroke class---'.format(w))\n",
    "    rf_clf = RandomForestClassifier(n_estimators=200,\n",
    "                                max_depth=2,\n",
    "                                min_samples_split=2,\n",
    "                                class_weight={0:1,1:w},\n",
    "                                random_state=0,\n",
    "                                n_jobs=-1,\n",
    "                                verbose=1)\n",
    "    skf_results = cross_validate(rf_clf, # model\n",
    "                             X_train_all, # feature matrix - X\n",
    "                             y_train, # target vector - y\n",
    "                             cv=skf, # cross-validation technique\n",
    "                             scoring=scoring_metrics, # loss functions\n",
    "                             return_train_score=True, # returns training score\n",
    "                             verbose=2, # verbosity level to check progress of calculations\n",
    "                             n_jobs=-1) # uses all computer cores  \n",
    "    all_features_results = pd.DataFrame(skf_results).drop(['fit_time', 'score_time'], axis=1)\n",
    "    all_features_results_summary = pd.DataFrame(all_features_results.T)\n",
    "    all_features_results_summary['mean_score'] = all_features_results_summary.mean(axis=1)\n",
    "    print(all_features_results_summary['mean_score']['test_roc_auc'])"
   ]
  },
  {
   "cell_type": "code",
   "execution_count": 50,
   "metadata": {},
   "outputs": [
    {
     "data": {
      "image/png": "[encoded data removed]",
      "text/plain": [
       "<matplotlib.figure.Figure at 0x1a1f4702b0>"
      ]
     },
     "metadata": {
      "needs_background": "light"
     },
     "output_type": "display_data"
    }
   ],
   "source": [
    "fig = plt.figure(figsize=(15,8))\n",
    "ax1 = fig.add_subplot(1,2,1)\n",
    "ax1.set_xlim([-0.05,1.05])\n",
    "ax1.set_ylim([-0.05,1.05])\n",
    "ax1.set_xlabel('Recall')\n",
    "ax1.set_ylabel('Precision')\n",
    "ax1.set_title('PR Curve')\n",
    "\n",
    "ax2 = fig.add_subplot(1,2,2)\n",
    "ax2.set_xlim([-0.05,1.05])\n",
    "ax2.set_ylim([-0.05,1.05])\n",
    "ax2.set_xlabel('False Positive Rate')\n",
    "ax2.set_ylabel('True Positive Rate')\n",
    "ax2.set_title('ROC Curve')\n",
    "#1,5,10,20,50,100,10000\n",
    "for w,k in zip([1,5,57],'bgrcmykw'):\n",
    "    rf_clf = RandomForestClassifier(n_estimators=200,\n",
    "                                max_depth=2,\n",
    "                                min_samples_split=2,\n",
    "                                class_weight={0:1,1:w},\n",
    "                                random_state=0,\n",
    "                                n_jobs=-1,\n",
    "                                verbose=0)\n",
    "    rf_clf.fit(X_train_all,y_train)\n",
    "    pred_prob = rf_clf.predict_proba(X_dev_all)[:,1]\n",
    "\n",
    "    p,r,_ = precision_recall_curve(y_dev,pred_prob)\n",
    "    tpr,fpr,_ = roc_curve(y_dev,pred_prob)\n",
    "    \n",
    "    ax1.plot(r,p,c=k,label=w)\n",
    "    ax2.plot(tpr,fpr,c=k,label=w)\n",
    "    \n",
    "rf_clf = RandomForestClassifier(n_estimators=200,\n",
    "                                max_depth=2,\n",
    "                                min_samples_split=2,\n",
    "                                class_weight='balanced',\n",
    "                                random_state=0,\n",
    "                                n_jobs=-1,\n",
    "                                verbose=0)\n",
    "rf_clf.fit(X_train_all,y_train)\n",
    "pred_prob = rf_clf.predict_proba(X_dev_all)[:,1]\n",
    "\n",
    "p,r,_ = precision_recall_curve(y_dev,pred_prob)\n",
    "tpr,fpr,_ = roc_curve(y_dev,pred_prob)\n",
    "\n",
    "ax1.plot(r,p,c='y',label='balanced')\n",
    "ax2.plot(tpr,fpr,c='y',label='balanced')\n",
    "ax1.legend(loc='lower left')    \n",
    "ax2.legend(loc='lower left')\n",
    "\n",
    "plt.show()"
   ]
  },
  {
   "cell_type": "code",
   "execution_count": 51,
   "metadata": {},
   "outputs": [
    {
     "name": "stderr",
     "output_type": "stream",
     "text": [
      "Using TensorFlow backend.\n"
     ]
    }
   ],
   "source": [
    "from imblearn.over_sampling import RandomOverSampler\n",
    "from imblearn.under_sampling import RandomUnderSampler\n",
    "#https://imbalanced-learn.readthedocs.io/en/stable/generated/imblearn.over_sampling.RandomOverSampler.html"
   ]
  },
  {
   "cell_type": "code",
   "execution_count": 52,
   "metadata": {},
   "outputs": [],
   "source": [
    "ros = RandomOverSampler(1, random_state = 4) #50-50 split stroke to no-stroke\n",
    "X_res, y_res = ros.fit_sample(X=X_train_all, y=y_train)"
   ]
  },
  {
   "cell_type": "code",
   "execution_count": 59,
   "metadata": {},
   "outputs": [
    {
     "name": "stdout",
     "output_type": "stream",
     "text": [
      "0.046500498034897225\n",
      "0.04556888695572396\n"
     ]
    },
    {
     "data": {
      "image/png": "[encoded data removed]",
      "text/plain": [
       "<matplotlib.figure.Figure at 0x1a26ef6cf8>"
      ]
     },
     "metadata": {
      "needs_background": "light"
     },
     "output_type": "display_data"
    }
   ],
   "source": [
    "fig = plt.figure(figsize=(15,8))\n",
    "ax1 = fig.add_subplot(1,2,1)\n",
    "ax1.set_xlim([-0.05,1.05])\n",
    "ax1.set_ylim([-0.05,1.05])\n",
    "ax1.set_xlabel('Recall')\n",
    "ax1.set_ylabel('Precision')\n",
    "ax1.set_title('PR Curve')\n",
    "\n",
    "ax2 = fig.add_subplot(1,2,2)\n",
    "ax2.set_xlim([-0.05,1.05])\n",
    "ax2.set_ylim([-0.05,1.05])\n",
    "ax2.set_xlabel('False Positive Rate')\n",
    "ax2.set_ylabel('True Positive Rate')\n",
    "ax2.set_title('ROC Curve')\n",
    "#1,5,10,20,50,100,10000\n",
    "for w,k in zip([1],'bgrcmykw'):\n",
    "    rf_clf = RandomForestClassifier(n_estimators=200,\n",
    "                                max_depth=2,\n",
    "                                min_samples_split=2,\n",
    "                                class_weight={0:1,1:w},\n",
    "                                random_state=0,\n",
    "                                n_jobs=-1,\n",
    "                                verbose=0)\n",
    "    rf_clf.fit(X_res,y_res)\n",
    "    pred_prob = rf_clf.predict_proba(X_dev_all)[:,1]\n",
    "\n",
    "    p,r,_ = precision_recall_curve(y_dev,pred_prob)\n",
    "    area = auc(r, p)\n",
    "    print(area)\n",
    "    tpr,fpr,_ = roc_curve(y_dev,pred_prob)\n",
    "    \n",
    "    ax1.plot(r,p,c=k,label='oversampled')\n",
    "    ax2.plot(tpr,fpr,c=k,label='oversampled')\n",
    "    \n",
    "rf_clf = RandomForestClassifier(n_estimators=200,\n",
    "                                max_depth=2,\n",
    "                                min_samples_split=2,\n",
    "                                class_weight='balanced',\n",
    "                                random_state=0,\n",
    "                                n_jobs=-1,\n",
    "                                verbose=0)\n",
    "rf_clf.fit(X_train_all,y_train)\n",
    "pred_prob = rf_clf.predict_proba(X_dev_all)[:,1]\n",
    "\n",
    "p,r,_ = precision_recall_curve(y_dev,pred_prob)\n",
    "area = auc(r, p)\n",
    "print(area)\n",
    "tpr,fpr,_ = roc_curve(y_dev,pred_prob)\n",
    "\n",
    "ax1.plot(r,p,c='y',label='balanced')\n",
    "ax2.plot(tpr,fpr,c='y',label='balanced')\n",
    "ax1.legend(loc='lower left')    \n",
    "ax2.legend(loc='lower left')\n",
    "\n",
    "plt.show()"
   ]
  },
  {
   "cell_type": "code",
   "execution_count": 61,
   "metadata": {},
   "outputs": [],
   "source": [
    "def area_under_pr_curve(y_dev, pred_prob):\n",
    "    p,r,_ = precision_recall_curve(y_dev,pred_prob)\n",
    "    return auc(r, p)\n",
    "\n",
    "prScorer = make_scorer(area_under_pr_curve, greater_is_better=True,needs_proba=True)"
   ]
  },
  {
   "cell_type": "code",
   "execution_count": null,
   "metadata": {},
   "outputs": [],
   "source": []
  },
  {
   "cell_type": "code",
   "execution_count": null,
   "metadata": {},
   "outputs": [],
   "source": []
  },
  {
   "cell_type": "code",
   "execution_count": 62,
   "metadata": {},
   "outputs": [],
   "source": [
    "metrics = {'main': 'roc_auc',\n",
    "          'custom': prScorer}"
   ]
  },
  {
   "cell_type": "code",
   "execution_count": 73,
   "metadata": {},
   "outputs": [],
   "source": [
    "rf_random_model = RandomizedSearchCV(estimator=rf_clf, \n",
    "                                     param_distributions=random_grid, \n",
    "                                     n_iter=100, \n",
    "                                     cv=3,\n",
    "                                     scoring=metrics,\n",
    "                                     verbose=2, \n",
    "                                     random_state=42, \n",
    "                                  n_jobs=-1,\n",
    "                                    refit = 'custom')"
   ]
  },
  {
   "cell_type": "code",
   "execution_count": 74,
   "metadata": {},
   "outputs": [
    {
     "name": "stdout",
     "output_type": "stream",
     "text": [
      "Fitting 3 folds for each of 100 candidates, totalling 300 fits\n"
     ]
    },
    {
     "name": "stderr",
     "output_type": "stream",
     "text": [
      "[Parallel(n_jobs=-1)]: Using backend LokyBackend with 4 concurrent workers.\n",
      "[Parallel(n_jobs=-1)]: Done  33 tasks      | elapsed:  1.4min\n",
      "[Parallel(n_jobs=-1)]: Done 154 tasks      | elapsed:  9.0min\n",
      "[Parallel(n_jobs=-1)]: Done 300 out of 300 | elapsed: 15.6min finished\n"
     ]
    },
    {
     "data": {
      "text/plain": [
       "RandomizedSearchCV(cv=3, error_score='raise-deprecating',\n",
       "                   estimator=RandomForestClassifier(bootstrap=True,\n",
       "                                                    class_weight='balanced',\n",
       "                                                    criterion='gini',\n",
       "                                                    max_depth=2,\n",
       "                                                    max_features='auto',\n",
       "                                                    max_leaf_nodes=None,\n",
       "                                                    min_impurity_decrease=0.0,\n",
       "                                                    min_impurity_split=None,\n",
       "                                                    min_samples_leaf=1,\n",
       "                                                    min_samples_split=2,\n",
       "                                                    min_weight_fraction_leaf=0.0,\n",
       "                                                    n_estimators=200, n_jobs=-1,\n",
       "                                                    oob_scor...\n",
       "                   iid='warn', n_iter=100, n_jobs=-1,\n",
       "                   param_distributions={'max_depth': [2, 5, 10, 20, None],\n",
       "                                        'max_features': ['auto', 0.25, 0.5],\n",
       "                                        'min_samples_split': [2, 5, 10],\n",
       "                                        'n_estimators': [100, 150, 200, 250]},\n",
       "                   pre_dispatch='2*n_jobs', random_state=42, refit='custom',\n",
       "                   return_train_score=False,\n",
       "                   scoring={'custom': make_scorer(area_under_pr_curve, needs_proba=True),\n",
       "                            'main': 'roc_auc'},\n",
       "                   verbose=2)"
      ]
     },
     "execution_count": 74,
     "metadata": {},
     "output_type": "execute_result"
    }
   ],
   "source": [
    "rf_random_model.fit(X_train_all, y_train)"
   ]
  },
  {
   "cell_type": "code",
   "execution_count": 75,
   "metadata": {},
   "outputs": [
    {
     "data": {
      "text/plain": [
       "0.03220659027885988"
      ]
     },
     "execution_count": 75,
     "metadata": {},
     "output_type": "execute_result"
    }
   ],
   "source": [
    "rf_random_model.best_score_"
   ]
  },
  {
   "cell_type": "code",
   "execution_count": 79,
   "metadata": {},
   "outputs": [],
   "source": [
    "random_grid = {'n_estimators': [100, 150, 200, 250],          # default is `10`\n",
    "               'max_features': ['auto', 0.25, 0.50],          # default is square root of `n_features`\n",
    "               'max_depth': [2, 5, 10, 20, None],             # default is `None`\n",
    "               'min_samples_split': [2, 5, 10]}               # default is `2`\n",
    "storageDict = {}\n",
    "conditions = {}\n",
    "maxPRArea = 0\n",
    "maxPRConditions = ''\n",
    "maxROCArea = 0\n",
    "maxROCConditions = ''\n",
    "for n in random_grid['n_estimators']:\n",
    "    storageDict[n] = {}\n",
    "    for f in random_grid['max_features']:\n",
    "        storageDict[n][f] = {}\n",
    "        for d in random_grid['max_depth']:\n",
    "            storageDict[n][f][d] = {}\n",
    "            for s in random_grid['min_samples_split']:\n",
    "                \n",
    "                rf_clf = RandomForestClassifier(n_estimators=n,\n",
    "                                max_depth=d,\n",
    "                                min_samples_split=s,\n",
    "                                class_weight='balanced',\n",
    "                                max_features = f,\n",
    "                                random_state=0,\n",
    "                                n_jobs=-1,\n",
    "                                verbose=0)\n",
    "                rf_clf.fit(X_train_all,y_train)\n",
    "                pred_prob = rf_clf.predict_proba(X_dev_all)[:,1]\n",
    "\n",
    "                condition = 'n=' + str(n) + 'f=' + str(f) + 'd=' + str(d) + 's=' + str(s)\n",
    "                \n",
    "                p,r,_ = precision_recall_curve(y_dev,pred_prob)\n",
    "                prArea = auc(r, p)\n",
    "                \n",
    "                if(prArea > maxPRArea):\n",
    "                    maxPRArea = prArea\n",
    "                    maxPRConditions = condition\n",
    "                    \n",
    "\n",
    "                tpr,fpr,_ = roc_curve(y_dev,pred_prob)\n",
    "                rocArea = roc_auc_score(y_dev, pred_prob)\n",
    "                \n",
    "                if(rocArea > maxROCArea):\n",
    "                    maxROCArea = rocArea\n",
    "                    maxROCConditions = condition\n",
    "                \n",
    "                storageDict[n][f][d][s] = (p,r,tpr,fpr)\n",
    "                conditions[condition] = (prArea, rocArea)"
   ]
  },
  {
   "cell_type": "code",
   "execution_count": 94,
   "metadata": {},
   "outputs": [
    {
     "name": "stdout",
     "output_type": "stream",
     "text": [
      "Max ROC Area: 0.728\n",
      "Max PR Area: 0.046\n"
     ]
    }
   ],
   "source": [
    "print(\"Max ROC Area: \" + str(round(maxROCArea,3)))\n",
    "print(\"Max PR Area: \" + str(round(maxPRArea,3)))"
   ]
  },
  {
   "cell_type": "code",
   "execution_count": 81,
   "metadata": {},
   "outputs": [
    {
     "name": "stdout",
     "output_type": "stream",
     "text": [
      "Best ROC conditions: n=250f=0.25d=Nones=10\n",
      "Best PR conditions: n=200f=autod=2s=2\n"
     ]
    }
   ],
   "source": [
    "print(\"Best ROC conditions: \" + maxROCConditions)\n",
    "print(\"Best PR conditions: \" + maxPRConditions)"
   ]
  },
  {
   "cell_type": "code",
   "execution_count": 102,
   "metadata": {},
   "outputs": [],
   "source": [
    "optimalN = 200\n",
    "optimalF = 'auto' #72 features and auto is sqrt so ~.11\n",
    "optimalD = 2\n",
    "optimalS = 2"
   ]
  },
  {
   "cell_type": "code",
   "execution_count": 96,
   "metadata": {},
   "outputs": [
    {
     "data": {
      "image/png": "[encoded data removed]",
      "text/plain": [
       "<matplotlib.figure.Figure at 0x1a271da668>"
      ]
     },
     "metadata": {
      "needs_background": "light"
     },
     "output_type": "display_data"
    }
   ],
   "source": [
    "fig = plt.figure(figsize=(15,8))\n",
    "ax1 = fig.add_subplot(1,2,1)\n",
    "ax1.set_xlim([-0.05,1.05])\n",
    "ax1.set_ylim([-0.05,1.05])\n",
    "ax1.set_xlabel('Recall')\n",
    "ax1.set_ylabel('Precision')\n",
    "ax1.set_title('PR Curve, n_estimators')\n",
    "\n",
    "ax2 = fig.add_subplot(1,2,2)\n",
    "ax2.set_xlim([-0.05,1.05])\n",
    "ax2.set_ylim([-0.05,1.05])\n",
    "ax2.set_xlabel('False Positive Rate')\n",
    "ax2.set_ylabel('True Positive Rate')\n",
    "ax2.set_title('ROC Curve, n_estimators')\n",
    "\n",
    "for n,k in zip(random_grid['n_estimators'],'bgrcmykw'):\n",
    "        \n",
    "    p,r,tpr,fpr = storageDict[n][optimalF][optimalD][optimalS]\n",
    "    ax1.plot(r,p,c=k,label=n)\n",
    "    ax2.plot(tpr,fpr,c=k,label=n)\n",
    "    \n",
    "ax1.legend(loc='lower left')    \n",
    "ax2.legend(loc='lower left')\n",
    "\n",
    "plt.show()"
   ]
  },
  {
   "cell_type": "code",
   "execution_count": 97,
   "metadata": {},
   "outputs": [
    {
     "data": {
      "image/png": "[encoded data removed]",
      "text/plain": [
       "<matplotlib.figure.Figure at 0x1092731d0>"
      ]
     },
     "metadata": {
      "needs_background": "light"
     },
     "output_type": "display_data"
    }
   ],
   "source": [
    "fig = plt.figure(figsize=(15,8))\n",
    "ax1 = fig.add_subplot(1,2,1)\n",
    "ax1.set_xlim([-0.05,1.05])\n",
    "ax1.set_ylim([-0.05,1.05])\n",
    "ax1.set_xlabel('Recall')\n",
    "ax1.set_ylabel('Precision')\n",
    "ax1.set_title('PR Curve, max_features')\n",
    "\n",
    "ax2 = fig.add_subplot(1,2,2)\n",
    "ax2.set_xlim([-0.05,1.05])\n",
    "ax2.set_ylim([-0.05,1.05])\n",
    "ax2.set_xlabel('False Positive Rate')\n",
    "ax2.set_ylabel('True Positive Rate')\n",
    "ax2.set_title('ROC Curve, max_features')\n",
    "\n",
    "for f,k in zip(random_grid['max_features'],'bgrcmykw'):\n",
    "        \n",
    "    p,r,tpr,fpr = storageDict[optimalN][f][optimalD][optimalS]\n",
    "    ax1.plot(r,p,c=k,label=f)\n",
    "    ax2.plot(tpr,fpr,c=k,label=f)\n",
    "    \n",
    "ax1.legend(loc='lower left')    \n",
    "ax2.legend(loc='lower left')\n",
    "\n",
    "plt.show()"
   ]
  },
  {
   "cell_type": "code",
   "execution_count": 98,
   "metadata": {},
   "outputs": [
    {
     "data": {
      "image/png": "[encoded data removed]",
      "text/plain": [
       "<matplotlib.figure.Figure at 0x1a4545ccf8>"
      ]
     },
     "metadata": {
      "needs_background": "light"
     },
     "output_type": "display_data"
    }
   ],
   "source": [
    "\n",
    "fig = plt.figure(figsize=(15,8))\n",
    "ax1 = fig.add_subplot(1,2,1)\n",
    "ax1.set_xlim([-0.05,1.05])\n",
    "ax1.set_ylim([-0.05,1.05])\n",
    "ax1.set_xlabel('Recall')\n",
    "ax1.set_ylabel('Precision')\n",
    "ax1.set_title('PR Curve, max_depth')\n",
    "\n",
    "ax2 = fig.add_subplot(1,2,2)\n",
    "ax2.set_xlim([-0.05,1.05])\n",
    "ax2.set_ylim([-0.05,1.05])\n",
    "ax2.set_xlabel('False Positive Rate')\n",
    "ax2.set_ylabel('True Positive Rate')\n",
    "ax2.set_title('ROC Curve, max_depth')\n",
    "\n",
    "for d,k in zip(random_grid['max_depth'],'bgrcmykw'):\n",
    "\n",
    "    p,r,tpr,fpr = storageDict[optimalN][optimalF][d][optimalS]\n",
    "    ax1.plot(r,p,c=k,label=d)\n",
    "    ax2.plot(tpr,fpr,c=k,label=d)\n",
    "    \n",
    "ax1.legend(loc='lower left')    \n",
    "ax2.legend(loc='lower left')\n",
    "\n",
    "plt.show()"
   ]
  },
  {
   "cell_type": "code",
   "execution_count": 99,
   "metadata": {},
   "outputs": [
    {
     "data": {
      "image/png": "[encoded data removed]",
      "text/plain": [
       "<matplotlib.figure.Figure at 0x1a45509160>"
      ]
     },
     "metadata": {
      "needs_background": "light"
     },
     "output_type": "display_data"
    }
   ],
   "source": [
    "fig = plt.figure(figsize=(15,8))\n",
    "ax1 = fig.add_subplot(1,2,1)\n",
    "ax1.set_xlim([-0.05,1.05])\n",
    "ax1.set_ylim([-0.05,1.05])\n",
    "ax1.set_xlabel('Recall')\n",
    "ax1.set_ylabel('Precision')\n",
    "ax1.set_title('PR Curve, min_samples_split')\n",
    "\n",
    "ax2 = fig.add_subplot(1,2,2)\n",
    "ax2.set_xlim([-0.05,1.05])\n",
    "ax2.set_ylim([-0.05,1.05])\n",
    "ax2.set_xlabel('False Positive Rate')\n",
    "ax2.set_ylabel('True Positive Rate')\n",
    "ax2.set_title('ROC Curve, min_samples_split')\n",
    "\n",
    "for s,k in zip(random_grid['min_samples_split'],'bgrcmykw'):\n",
    "\n",
    "    p,r,tpr,fpr = storageDict[optimalN][optimalF][optimalD][s]\n",
    "    ax1.plot(r,p,c=k,label=s)\n",
    "    ax2.plot(tpr,fpr,c=k,label=s)\n",
    "    \n",
    "ax1.legend(loc='lower left')    \n",
    "ax2.legend(loc='lower left')\n",
    "\n",
    "plt.show()"
   ]
  },
  {
   "cell_type": "code",
   "execution_count": 106,
   "metadata": {},
   "outputs": [],
   "source": [
    "storageDict1 = storageDict\n",
    "conditions1 = conditions\n",
    "maxPRArea1 = maxPRArea\n",
    "maxPRConditions1 = maxPRConditions\n",
    "maxROCArea1 = maxROCArea\n",
    "maxROCConditions1 = maxROCConditions"
   ]
  },
  {
   "cell_type": "code",
   "execution_count": 100,
   "metadata": {},
   "outputs": [
    {
     "data": {
      "text/plain": [
       "(34192, 72)"
      ]
     },
     "execution_count": 100,
     "metadata": {},
     "output_type": "execute_result"
    }
   ],
   "source": []
  },
  {
   "cell_type": "code",
   "execution_count": 103,
   "metadata": {},
   "outputs": [],
   "source": [
    "random_grid2 = {'n_estimators': [175, 200, 225],          # default is `10`\n",
    "               'max_features': [0.05, 0.08, 0.11, 0.15], # default is square root of `n_features`\n",
    "               'max_depth': [2, 3, 4, 5, None],             # default is `None`\n",
    "               'min_samples_split': [10, 50, 100]}               # default is `2`\n",
    "storageDict2 = {}\n",
    "conditions2 = {}\n",
    "maxPRArea2 = 0\n",
    "maxPRConditions2 = ''\n",
    "maxROCArea2 = 0\n",
    "maxROCConditions2 = ''\n",
    "for n in random_grid2['n_estimators']:\n",
    "    storageDict2[n] = {}\n",
    "    for f in random_grid2['max_features']:\n",
    "        storageDict2[n][f] = {}\n",
    "        for d in random_grid2['max_depth']:\n",
    "            storageDict2[n][f][d] = {}\n",
    "            for s in random_grid2['min_samples_split']:\n",
    "                \n",
    "                rf_clf = RandomForestClassifier(n_estimators=n,\n",
    "                                max_depth=d,\n",
    "                                min_samples_split=s,\n",
    "                                class_weight='balanced',\n",
    "                                max_features = f,\n",
    "                                random_state=0,\n",
    "                                n_jobs=-1,\n",
    "                                verbose=0)\n",
    "                rf_clf.fit(X_train_all,y_train)\n",
    "                pred_prob = rf_clf.predict_proba(X_dev_all)[:,1]\n",
    "\n",
    "                condition = 'n=' + str(n) + 'f=' + str(f) + 'd=' + str(d) + 's=' + str(s)\n",
    "                \n",
    "                p,r,_ = precision_recall_curve(y_dev,pred_prob)\n",
    "                prArea = auc(r, p)\n",
    "                \n",
    "                if(prArea > maxPRArea2):\n",
    "                    maxPRArea2 = prArea\n",
    "                    maxPRConditions2 = condition\n",
    "                    \n",
    "\n",
    "                tpr,fpr,_ = roc_curve(y_dev,pred_prob)\n",
    "                rocArea = roc_auc_score(y_dev, pred_prob)\n",
    "                \n",
    "                if(rocArea > maxROCArea2):\n",
    "                    maxROCArea2 = rocArea\n",
    "                    maxROCConditions2 = condition\n",
    "                \n",
    "                storageDict2[n][f][d][s] = (p,r,tpr,fpr)\n",
    "                conditions2[condition] = (prArea, rocArea)"
   ]
  },
  {
   "cell_type": "code",
   "execution_count": 104,
   "metadata": {},
   "outputs": [
    {
     "name": "stdout",
     "output_type": "stream",
     "text": [
      "Max ROC Area: 0.734\n",
      "Max PR Area: 0.064\n",
      "Best ROC conditions: n=225f=0.11d=Nones=50\n",
      "Best PR conditions: n=175f=0.11d=4s=50\n"
     ]
    }
   ],
   "source": [
    "print(\"Max ROC Area: \" + str(round(maxROCArea2,3)))\n",
    "print(\"Max PR Area: \" + str(round(maxPRArea2,3)))\n",
    "print(\"Best ROC conditions: \" + maxROCConditions2)\n",
    "print(\"Best PR conditions: \" + maxPRConditions2)"
   ]
  },
  {
   "cell_type": "code",
   "execution_count": 124,
   "metadata": {},
   "outputs": [],
   "source": [
    "def findBestParms(random_grid, verbose = False):\n",
    "    storageDict = {}\n",
    "    conditions = {}\n",
    "    maxPRArea = 0\n",
    "    maxPRConditions = ''\n",
    "    maxROCArea = 0\n",
    "    maxROCConditions = ''\n",
    "    for n in random_grid['n_estimators']:\n",
    "        storageDict[n] = {}\n",
    "        for f in random_grid['max_features']:\n",
    "            storageDict[n][f] = {}\n",
    "            for d in random_grid['max_depth']:\n",
    "                storageDict[n][f][d] = {}\n",
    "                for s in random_grid['min_samples_split']:\n",
    "\n",
    "                    rf_clf = RandomForestClassifier(n_estimators=n,\n",
    "                                    max_depth=d,\n",
    "                                    min_samples_split=s,\n",
    "                                    class_weight='balanced',\n",
    "                                    max_features = f,\n",
    "                                    random_state=0,\n",
    "                                    n_jobs=-1,\n",
    "                                    verbose=0)\n",
    "                    rf_clf.fit(X_train_all,y_train)\n",
    "                    pred_prob = rf_clf.predict_proba(X_dev_all)[:,1]\n",
    "\n",
    "                    condition = 'n=' + str(n) + 'f=' + str(f) + 'd=' + str(d) + 's=' + str(s)\n",
    "\n",
    "                    p,r,_ = precision_recall_curve(y_dev,pred_prob)\n",
    "                    prArea = auc(r, p)\n",
    "\n",
    "                    if(prArea > maxPRArea):\n",
    "                        maxPRArea = prArea\n",
    "                        maxPRConditions = condition\n",
    "\n",
    "\n",
    "                    tpr,fpr,_ = roc_curve(y_dev,pred_prob)\n",
    "                    rocArea = roc_auc_score(y_dev, pred_prob)\n",
    "\n",
    "                    if(rocArea > maxROCArea):\n",
    "                        maxROCArea = rocArea\n",
    "                        maxROCConditions = condition\n",
    "\n",
    "                    if (verbose):\n",
    "                        print(condition + \" ROC: \" + str(rocArea))\n",
    "\n",
    "                    storageDict[n][f][d][s] = (p,r,tpr,fpr)\n",
    "                    conditions[condition] = (prArea, rocArea)\n",
    "    print(\"Max ROC Area: \" + str(round(maxROCArea,3)))\n",
    "    print(\"Max PR Area: \" + str(round(maxPRArea,3)))\n",
    "    print(\"Best ROC conditions: \" + maxROCConditions)\n",
    "    print(\"Best PR conditions: \" + maxPRConditions)\n",
    "    return storageDict, conditions"
   ]
  },
  {
   "cell_type": "code",
   "execution_count": 109,
   "metadata": {},
   "outputs": [
    {
     "name": "stdout",
     "output_type": "stream",
     "text": [
      "Max ROC Area: 0.735\n",
      "Max PR Area: 0.064\n",
      "Best ROC conditions: n=230f=0.11d=Nones=50\n",
      "Best PR conditions: n=230f=0.11d=4s=40\n"
     ]
    }
   ],
   "source": [
    "random_grid3 = {'n_estimators': [220, 225, 230],          # default is `10`\n",
    "               'max_features': [0.08, 0.11, 0.13,  0.15], # default is square root of `n_features`\n",
    "               'max_depth': [2, 3, 4, 5, None],             # default is `None`\n",
    "               'min_samples_split': [40, 50, 60]}               # default is `2`\n",
    "storageDict3, conditions3 = findBestParms(random_grid3)"
   ]
  },
  {
   "cell_type": "code",
   "execution_count": 110,
   "metadata": {},
   "outputs": [
    {
     "name": "stdout",
     "output_type": "stream",
     "text": [
      "Max ROC Area: 0.74\n",
      "Max PR Area: 0.054\n",
      "Best ROC conditions: n=235f=0.12d=Nones=50\n",
      "Best PR conditions: n=235f=0.1d=5s=100\n"
     ]
    }
   ],
   "source": [
    "random_grid4 = {'n_estimators': [225, 230, 235],          # default is `10`\n",
    "               'max_features': [0.10, 0.11, 0.12], # default is square root of `n_features`\n",
    "               'max_depth': [2, 5, 10,  None],             # default is `None`\n",
    "               'min_samples_split': [40, 50, 70, 100]}               # default is `2`\n",
    "storageDict4, conditions4 = findBestParms(random_grid4)"
   ]
  },
  {
   "cell_type": "code",
   "execution_count": 111,
   "metadata": {},
   "outputs": [
    {
     "name": "stdout",
     "output_type": "stream",
     "text": [
      "Max ROC Area: 0.741\n",
      "Max PR Area: 0.062\n",
      "Best ROC conditions: n=240f=0.12d=Nones=50\n",
      "Best PR conditions: n=240f=0.11d=4s=60\n"
     ]
    }
   ],
   "source": [
    "random_grid5 = {'n_estimators': [232, 235, 240],          # default is `10`\n",
    "               'max_features': [0.11, 0.12,  0.13, 0.15], # default is square root of `n_features`\n",
    "               'max_depth': [2, 3, 4, 5, None],             # default is `None`\n",
    "               'min_samples_split': [40, 50, 60]}               # default is `2`\n",
    "storageDict5, conditions5 = findBestParms(random_grid5)"
   ]
  },
  {
   "cell_type": "code",
   "execution_count": 112,
   "metadata": {},
   "outputs": [
    {
     "name": "stdout",
     "output_type": "stream",
     "text": [
      "Max ROC Area: 0.741\n",
      "Max PR Area: 0.062\n",
      "Best ROC conditions: n=245f=0.12d=Nones=50\n",
      "Best PR conditions: n=245f=0.11d=4s=50\n"
     ]
    }
   ],
   "source": [
    "random_grid6 = {'n_estimators': [240, 241, 242, 243, 244, 245],          # default is `10`\n",
    "               'max_features': [0.11, 0.12,  0.13, 0.15], # default is square root of `n_features`\n",
    "               'max_depth': [2, 3, 4, 5, None],             # default is `None`\n",
    "               'min_samples_split': [40, 50, 60]}               # default is `2`\n",
    "storageDict6, conditions6 = findBestParms(random_grid6)"
   ]
  },
  {
   "cell_type": "code",
   "execution_count": 113,
   "metadata": {},
   "outputs": [
    {
     "name": "stdout",
     "output_type": "stream",
     "text": [
      "Max ROC Area: 0.742\n",
      "Max PR Area: 0.062\n",
      "Best ROC conditions: n=250f=0.11d=Nones=50\n",
      "Best PR conditions: n=250f=0.11d=4s=40\n"
     ]
    }
   ],
   "source": [
    "random_grid7 = {'n_estimators': [245, 246, 247, 248, 249, 250],          # default is `10`\n",
    "               'max_features': [0.11, 0.12,  0.13, 0.15], # default is square root of `n_features`\n",
    "               'max_depth': [2, 3, 4, 5, None],             # default is `None`\n",
    "               'min_samples_split': [40, 50, 60]}               # default is `2`\n",
    "storageDict7, conditions7 = findBestParms(random_grid7)"
   ]
  },
  {
   "cell_type": "code",
   "execution_count": 125,
   "metadata": {},
   "outputs": [
    {
     "name": "stdout",
     "output_type": "stream",
     "text": [
      "Max ROC Area: 0.742\n",
      "Max PR Area: 0.065\n",
      "Best ROC conditions: n=250f=0.11d=Nones=50\n",
      "Best PR conditions: n=275f=0.11d=4s=40\n"
     ]
    }
   ],
   "source": [
    "random_grid8 = {'n_estimators': [250, 275, 300],          # default is `10`\n",
    "               'max_features': [0.11, 0.12,  0.13, 0.15], # default is square root of `n_features`\n",
    "               'max_depth': [2, 3, 4, 5, None],             # default is `None`\n",
    "               'min_samples_split': [40, 50, 60]}               # default is `2`\n",
    "storageDict8, conditions8 = findBestParms(random_grid8)"
   ]
  },
  {
   "cell_type": "code",
   "execution_count": 126,
   "metadata": {},
   "outputs": [
    {
     "name": "stdout",
     "output_type": "stream",
     "text": [
      "Max ROC Area: 0.742\n",
      "Max PR Area: 0.064\n",
      "Best ROC conditions: n=325f=0.1d=Nones=50\n",
      "Best PR conditions: n=300f=0.1d=4s=40\n"
     ]
    }
   ],
   "source": [
    "random_grid9 = {'n_estimators': [300, 325, 350],          # default is `10`\n",
    "               'max_features': [0.10, 0.11, 0.12,  0.13, 0.15], # default is square root of `n_features`\n",
    "               'max_depth': [2, 3, 4, 5, None],             # default is `None`\n",
    "               'min_samples_split': [40, 50, 60]}               # default is `2`\n",
    "storageDict9, conditions9 = findBestParms(random_grid9)"
   ]
  },
  {
   "cell_type": "code",
   "execution_count": 127,
   "metadata": {},
   "outputs": [
    {
     "name": "stdout",
     "output_type": "stream",
     "text": [
      "Max ROC Area: 0.742\n",
      "Max PR Area: 0.063\n",
      "Best ROC conditions: n=320f=0.1d=Nones=50\n",
      "Best PR conditions: n=320f=0.1d=4s=40\n"
     ]
    }
   ],
   "source": [
    "random_grid10 = {'n_estimators': [320, 325, 330],          # default is `10`\n",
    "               'max_features': [0.09, 0.10, 0.11, 0.12], # default is square root of `n_features`\n",
    "               'max_depth': [2, 3, 4, 5, None],             # default is `None`\n",
    "               'min_samples_split': [40, 50, 60]}               # default is `2`\n",
    "storageDict10, conditions10 = findBestParms(random_grid10)"
   ]
  },
  {
   "cell_type": "code",
   "execution_count": 128,
   "metadata": {},
   "outputs": [
    {
     "name": "stdout",
     "output_type": "stream",
     "text": [
      "Max ROC Area: 0.743\n",
      "Max PR Area: 0.045\n",
      "Best ROC conditions: n=315f=0.1d=Nones=50\n",
      "Best PR conditions: n=322f=0.09d=5s=60\n"
     ]
    }
   ],
   "source": [
    "random_grid11 = {'n_estimators': [315, 320, 322],          # default is `10`\n",
    "               'max_features': [0.09, 0.10, 0.11], # default is square root of `n_features`\n",
    "               'max_depth': [2, 5, None],             # default is `None`\n",
    "               'min_samples_split': [40, 50, 60]}               # default is `2`\n",
    "storageDict11, conditions11 = findBestParms(random_grid11)"
   ]
  },
  {
   "cell_type": "code",
   "execution_count": 129,
   "metadata": {},
   "outputs": [
    {
     "name": "stdout",
     "output_type": "stream",
     "text": [
      "Max ROC Area: 0.743\n",
      "Max PR Area: 0.044\n",
      "Best ROC conditions: n=315f=0.1d=Nones=50\n",
      "Best PR conditions: n=315f=0.09d=5s=40\n"
     ]
    }
   ],
   "source": [
    "random_grid12 = {'n_estimators': [305, 310, 315],          # default is `10`\n",
    "               'max_features': [0.09, 0.10, 0.11], # default is square root of `n_features`\n",
    "               'max_depth': [2, 5, None],             # default is `None`\n",
    "               'min_samples_split': [40, 50, 60]}               # default is `2`\n",
    "storageDict12, conditions12 = findBestParms(random_grid12)"
   ]
  },
  {
   "cell_type": "code",
   "execution_count": 130,
   "metadata": {},
   "outputs": [
    {
     "name": "stdout",
     "output_type": "stream",
     "text": [
      "Max ROC Area: 0.743\n",
      "Max PR Area: 0.04\n",
      "Best ROC conditions: n=315f=0.1d=Nones=50\n",
      "Best PR conditions: n=315f=0.1d=Nones=50\n"
     ]
    }
   ],
   "source": [
    "random_grid13 = {'n_estimators': [315],          # default is `10`\n",
    "               'max_features': [ 0.10], # default is square root of `n_features`\n",
    "               'max_depth': [None],             # default is `None`\n",
    "               'min_samples_split': [45, 50, 55]}               # default is `2`\n",
    "storageDict13, conditions13 = findBestParms(random_grid13)"
   ]
  },
  {
   "cell_type": "markdown",
   "metadata": {},
   "source": [
    "Best conditions are n = 315, f = 0.1, d = None, and s = 50"
   ]
  },
  {
   "cell_type": "markdown",
   "metadata": {},
   "source": [
    "Let's make some plots to show how varying factors around this affects AUC"
   ]
  },
  {
   "cell_type": "code",
   "execution_count": 147,
   "metadata": {},
   "outputs": [],
   "source": [
    "def plotCurves(random_grid, storageDict, variable, optimals):\n",
    "    optimalN, optimalF, optimalD, optimalS = optimals\n",
    "    fig = plt.figure(figsize=(15,8))\n",
    "    ax1 = fig.add_subplot(1,2,1)\n",
    "    ax1.set_xlim([-0.05,1.05])\n",
    "    ax1.set_ylim([-0.05,1.05])\n",
    "    ax1.set_xlabel('Recall')\n",
    "    ax1.set_ylabel('Precision')\n",
    "    ax1.set_title('PR Curve, ' + variable)\n",
    "\n",
    "    ax2 = fig.add_subplot(1,2,2)\n",
    "    ax2.set_xlim([-0.05,1.05])\n",
    "    ax2.set_ylim([-0.05,1.05])\n",
    "    ax2.set_xlabel('False Positive Rate')\n",
    "    ax2.set_ylabel('True Positive Rate')\n",
    "    ax2.set_title('ROC Curve,  ' + variable)\n",
    "\n",
    "    for v,k in zip(random_grid[variable],'bgrcmykw'):\n",
    "        if(variable == 'n_estimators'):\n",
    "            p,r,tpr,fpr = storageDict[v][optimalF][optimalD][optimalS]\n",
    "        if(variable == 'max_features'):\n",
    "            p,r,tpr,fpr = storageDict[optimalN][v][optimalD][optimalS]\n",
    "        if(variable == 'max_depth'):\n",
    "            p,r,tpr,fpr = storageDict[optimalN][optimalF][v][optimalS]\n",
    "        if(variable == 'min_samples_split'):\n",
    "            p,r,tpr,fpr = storageDict[optimalN][optimalF][optimalD][v]\n",
    "        ax1.plot(r,p,c=k,label=v)\n",
    "        ax2.plot(tpr,fpr,c=k,label=v)\n",
    "\n",
    "    ax1.legend(loc='lower left')    \n",
    "    ax2.legend(loc='lower left')\n",
    "\n",
    "    plt.show()"
   ]
  },
  {
   "cell_type": "code",
   "execution_count": 148,
   "metadata": {},
   "outputs": [],
   "source": [
    "optimals = (315, 0.1, None, 50)"
   ]
  },
  {
   "cell_type": "code",
   "execution_count": 149,
   "metadata": {},
   "outputs": [
    {
     "name": "stdout",
     "output_type": "stream",
     "text": [
      "Max ROC Area: 0.743\n",
      "Max PR Area: 0.04\n",
      "Best ROC conditions: n=315f=0.1d=Nones=50\n",
      "Best PR conditions: n=315f=0.1d=Nones=50\n"
     ]
    },
    {
     "data": {
      "image/png": "[encoded data removed]",
      "text/plain": [
       "<matplotlib.figure.Figure at 0x1a453e4358>"
      ]
     },
     "metadata": {
      "needs_background": "light"
     },
     "output_type": "display_data"
    }
   ],
   "source": [
    "random_grid14 = {'n_estimators': [315],          # default is `10`\n",
    "               'max_features': [ 0.10], # default is square root of `n_features`\n",
    "               'max_depth': [None],             # default is `None`\n",
    "               'min_samples_split': [20, 40, 50, 60, 100]}               # default is `2`\n",
    "storageDict14, conditions14 = findBestParms(random_grid14)\n",
    "plotCurves(random_grid14, storageDict14, 'min_samples_split', optimals)"
   ]
  },
  {
   "cell_type": "code",
   "execution_count": 150,
   "metadata": {},
   "outputs": [
    {
     "name": "stdout",
     "output_type": "stream",
     "text": [
      "Max ROC Area: 0.743\n",
      "Max PR Area: 0.043\n",
      "Best ROC conditions: n=315f=0.1d=Nones=50\n",
      "Best PR conditions: n=315f=0.1d=2s=50\n"
     ]
    },
    {
     "data": {
      "image/png": "[encoded data removed]",
      "text/plain": [
       "<matplotlib.figure.Figure at 0x1a26e82208>"
      ]
     },
     "metadata": {
      "needs_background": "light"
     },
     "output_type": "display_data"
    }
   ],
   "source": [
    "random_grid15 = {'n_estimators': [315],          # default is `10`\n",
    "               'max_features': [ 0.10], # default is square root of `n_features`\n",
    "               'max_depth': [2, 5, 10, 20, None],             # default is `None`\n",
    "               'min_samples_split': [50]}               # default is `2`\n",
    "storageDict15, conditions15 = findBestParms(random_grid15)\n",
    "plotCurves(random_grid15, storageDict15, 'max_depth', optimals)"
   ]
  },
  {
   "cell_type": "code",
   "execution_count": 151,
   "metadata": {},
   "outputs": [
    {
     "name": "stdout",
     "output_type": "stream",
     "text": [
      "Max ROC Area: 0.743\n",
      "Max PR Area: 0.04\n",
      "Best ROC conditions: n=315f=0.1d=Nones=50\n",
      "Best PR conditions: n=315f=0.1d=Nones=50\n"
     ]
    },
    {
     "data": {
      "image/png": "[encoded data removed]",
      "text/plain": [
       "<matplotlib.figure.Figure at 0x1a4588b828>"
      ]
     },
     "metadata": {
      "needs_background": "light"
     },
     "output_type": "display_data"
    }
   ],
   "source": [
    "random_grid16 = {'n_estimators': [315],          # default is `10`\n",
    "               'max_features': [0.05, 0.10, 0.15, 0.20], # default is square root of `n_features`\n",
    "               'max_depth': [None],             # default is `None`\n",
    "               'min_samples_split': [50]}               # default is `2`\n",
    "storageDict16, conditions16 = findBestParms(random_grid16)\n",
    "plotCurves(random_grid16, storageDict16, 'max_features', optimals)"
   ]
  },
  {
   "cell_type": "code",
   "execution_count": 152,
   "metadata": {},
   "outputs": [
    {
     "name": "stdout",
     "output_type": "stream",
     "text": [
      "Max ROC Area: 0.743\n",
      "Max PR Area: 0.04\n",
      "Best ROC conditions: n=315f=0.1d=Nones=50\n",
      "Best PR conditions: n=315f=0.1d=Nones=50\n"
     ]
    },
    {
     "data": {
      "image/png": "[encoded data removed]",
      "text/plain": [
       "<matplotlib.figure.Figure at 0x1a4568abe0>"
      ]
     },
     "metadata": {
      "needs_background": "light"
     },
     "output_type": "display_data"
    }
   ],
   "source": [
    "random_grid17 = {'n_estimators': [250, 300, 315, 350],          # default is `10`\n",
    "               'max_features': [0.10], # default is square root of `n_features`\n",
    "               'max_depth': [None],             # default is `None`\n",
    "               'min_samples_split': [50]}               # default is `2`\n",
    "storageDict17, conditions17 = findBestParms(random_grid17)\n",
    "plotCurves(random_grid17, storageDict17, 'n_estimators', optimals)"
   ]
  },
  {
   "cell_type": "code",
   "execution_count": 38,
   "metadata": {},
   "outputs": [],
   "source": [
    "from sklearn.preprocessing import OneHotEncoder\n",
    "enc = OneHotEncoder(n_values='auto',handle_unknown='ignore', categorical_features = np.arange(11,72))"
   ]
  },
  {
   "cell_type": "code",
   "execution_count": 39,
   "metadata": {},
   "outputs": [
    {
     "name": "stderr",
     "output_type": "stream",
     "text": [
      "/anaconda/lib/python3.6/site-packages/sklearn/preprocessing/_encoders.py:391: DeprecationWarning: Passing 'n_values' is deprecated in version 0.20 and will be removed in 0.22. n_values='auto' can be replaced with categories='auto'.\n",
      "  warnings.warn(msg, DeprecationWarning)\n",
      "/anaconda/lib/python3.6/site-packages/sklearn/preprocessing/_encoders.py:451: DeprecationWarning: The 'categorical_features' keyword is deprecated in version 0.20 and will be removed in 0.22. You can use the ColumnTransformer instead.\n",
      "  \"use the ColumnTransformer instead.\", DeprecationWarning)\n"
     ]
    }
   ],
   "source": [
    "X_transform = enc.fit_transform(X_train_all)"
   ]
  },
  {
   "cell_type": "code",
   "execution_count": 43,
   "metadata": {},
   "outputs": [],
   "source": [
    "X_dev_transform = enc.transform(X_dev_all)"
   ]
  },
  {
   "cell_type": "code",
   "execution_count": 27,
   "metadata": {},
   "outputs": [],
   "source": [
    "import xgboost as xgb\n",
    "from xgboost import XGBClassifier"
   ]
  },
  {
   "cell_type": "code",
   "execution_count": 40,
   "metadata": {},
   "outputs": [
    {
     "data": {
      "text/plain": [
       "XGBClassifier(base_score=0.5, booster='gbtree', colsample_bylevel=1,\n",
       "              colsample_bytree=1, gamma=0, learning_rate=0.1, max_delta_step=0,\n",
       "              max_depth=3, min_child_weight=1, missing=None, n_estimators=100,\n",
       "              n_jobs=1, nthread=None, objective='binary:logistic',\n",
       "              random_state=0, reg_alpha=0, reg_lambda=1, scale_pos_weight=1,\n",
       "              seed=None, silent=True, subsample=1)"
      ]
     },
     "execution_count": 40,
     "metadata": {},
     "output_type": "execute_result"
    }
   ],
   "source": [
    "model = XGBClassifier()\n",
    "model.fit(X_transform, y_train)"
   ]
  },
  {
   "cell_type": "code",
   "execution_count": 44,
   "metadata": {},
   "outputs": [],
   "source": [
    "y_pred = model.predict(X_dev_transform)"
   ]
  },
  {
   "cell_type": "code",
   "execution_count": 49,
   "metadata": {},
   "outputs": [],
   "source": [
    "pred = pd.DataFrame(y_pred)"
   ]
  },
  {
   "cell_type": "code",
   "execution_count": 51,
   "metadata": {},
   "outputs": [
    {
     "name": "stdout",
     "output_type": "stream",
     "text": [
      "0.5\n"
     ]
    }
   ],
   "source": [
    "tpr,fpr,_ = roc_curve(y_dev,pred)\n",
    "rocArea = roc_auc_score(y_dev, pred)\n",
    "print(rocArea)"
   ]
  },
  {
   "cell_type": "code",
   "execution_count": 41,
   "metadata": {},
   "outputs": [],
   "source": [
    "data_dmatrix = xgb.DMatrix(data=X_transform,label=y_train)"
   ]
  },
  {
   "cell_type": "code",
   "execution_count": 52,
   "metadata": {},
   "outputs": [],
   "source": [
    "# A parameter grid for XGBoost\n",
    "params = {\n",
    "        'min_child_weight': [1, 5, 10],\n",
    "        'gamma': [0.5, 1, 1.5, 2, 5],\n",
    "        'subsample': [0.6, 0.8, 1.0],\n",
    "        'colsample_bytree': [0.6, 0.8, 1.0],\n",
    "        'max_depth': [3, 4, 5]\n",
    "        }"
   ]
  },
  {
   "cell_type": "code",
   "execution_count": 57,
   "metadata": {},
   "outputs": [],
   "source": [
    "from datetime import datetime\n",
    "def timer(start_time=None):\n",
    "    if not start_time:\n",
    "        start_time = datetime.now()\n",
    "        return start_time\n",
    "    elif start_time:\n",
    "        thour, temp_sec = divmod((datetime.now() - start_time).total_seconds(), 3600)\n",
    "        tmin, tsec = divmod(temp_sec, 60)\n",
    "        print('\\n Time taken: %i hours %i minutes and %s seconds.' % (thour, tmin, round(tsec, 2)))"
   ]
  },
  {
   "cell_type": "code",
   "execution_count": 58,
   "metadata": {},
   "outputs": [],
   "source": [
    "model = XGBClassifier(learning_rate=0.02, n_estimators=600, objective='binary:logistic',\n",
    "                    silent=True, nthread=1)"
   ]
  },
  {
   "cell_type": "code",
   "execution_count": 60,
   "metadata": {},
   "outputs": [
    {
     "name": "stdout",
     "output_type": "stream",
     "text": [
      "Fitting 3 folds for each of 5 candidates, totalling 15 fits\n"
     ]
    },
    {
     "name": "stderr",
     "output_type": "stream",
     "text": [
      "[Parallel(n_jobs=4)]: Using backend LokyBackend with 4 concurrent workers.\n",
      "[Parallel(n_jobs=4)]: Done  15 out of  15 | elapsed:  4.5min finished\n"
     ]
    },
    {
     "name": "stdout",
     "output_type": "stream",
     "text": [
      "\n",
      " Time taken: 0 hours 5 minutes and 27.77 seconds.\n"
     ]
    }
   ],
   "source": [
    "folds = 3\n",
    "param_comb = 5\n",
    "\n",
    "skf = StratifiedKFold(n_splits=folds, shuffle = True, random_state = 1001)\n",
    "\n",
    "random_search = RandomizedSearchCV(model, param_distributions=params, n_iter=param_comb, scoring='roc_auc', n_jobs=4, cv=skf.split(X_transform,y_train), verbose=3, random_state=1001 )\n",
    "\n",
    "# Here we go\n",
    "start_time = timer(None) # timing starts from this point for \"start_time\" variable\n",
    "random_search.fit(X_transform, y_train)\n",
    "timer(start_time) # timing ends here for \"start_time\" variable"
   ]
  },
  {
   "cell_type": "code",
   "execution_count": 61,
   "metadata": {},
   "outputs": [
    {
     "name": "stdout",
     "output_type": "stream",
     "text": [
      "\n",
      " Best estimator:\n",
      "XGBClassifier(base_score=0.5, booster='gbtree', colsample_bylevel=1,\n",
      "              colsample_bytree=0.6, gamma=5, learning_rate=0.02,\n",
      "              max_delta_step=0, max_depth=5, min_child_weight=5, missing=None,\n",
      "              n_estimators=600, n_jobs=1, nthread=1,\n",
      "              objective='binary:logistic', random_state=0, reg_alpha=0,\n",
      "              reg_lambda=1, scale_pos_weight=1, seed=None, silent=True,\n",
      "              subsample=1.0)\n",
      "\n",
      " Best hyperparameters:\n",
      "{'subsample': 1.0, 'min_child_weight': 5, 'max_depth': 5, 'gamma': 5, 'colsample_bytree': 0.6}\n"
     ]
    }
   ],
   "source": [
    "print('\\n Best estimator:')\n",
    "print(random_search.best_estimator_)\n",
    "print('\\n Best hyperparameters:')\n",
    "print(random_search.best_params_)"
   ]
  },
  {
   "cell_type": "code",
   "execution_count": 63,
   "metadata": {},
   "outputs": [
    {
     "name": "stdout",
     "output_type": "stream",
     "text": [
      "0.6701474884877272\n"
     ]
    }
   ],
   "source": [
    "print(random_search.best_score_)"
   ]
  },
  {
   "cell_type": "code",
   "execution_count": null,
   "metadata": {},
   "outputs": [],
   "source": [
    "grid = GridSearchCV(estimator=xgb, param_grid=params, scoring='roc_auc', n_jobs=4, cv=skf.split(X,Y), verbose=3 )\n",
    "grid.fit(X, Y)\n",
    "print('\\n Best estimator:')\n",
    "print(grid.best_estimator_)\n",
    "print('\\n Best score:')\n",
    "print(grid.best_score_)\n",
    "print('\\n Best parameters:')\n",
    "print(grid.best_params_)"
   ]
  },
  {
   "cell_type": "code",
   "execution_count": 86,
   "metadata": {},
   "outputs": [],
   "source": [
    "def modelfit(alg, dtrain, ytrain,useTrainCV=True, cv_folds=5, early_stopping_rounds=50):\n",
    "    \n",
    "    if useTrainCV:\n",
    "        xgb_param = alg.get_xgb_params()\n",
    "        xgtrain = xgb.DMatrix(dtrain, label=ytrain)\n",
    "        cvresult = xgb.cv(xgb_param, xgtrain, num_boost_round=alg.get_params()['n_estimators'], nfold=cv_folds,\n",
    "            metrics='auc', early_stopping_rounds=early_stopping_rounds)\n",
    "        alg.set_params(n_estimators=cvresult.shape[0])\n",
    "        print(cvresult.shape[0])\n",
    "    \n",
    "    #Fit the algorithm on the data\n",
    "    alg.fit(dtrain, ytrain,eval_metric='auc')\n",
    "        \n",
    "    #Predict training set:\n",
    "    dtrain_predictions = alg.predict(dtrain)\n",
    "    dtrain_predprob = alg.predict_proba(dtrain)[:,1]\n",
    "        \n",
    "    #Print model report:\n",
    "    print(\"\\nModel Report\")\n",
    "    print(\"Accuracy : %.4g\" % metrics.accuracy_score(ytrain, dtrain_predictions))\n",
    "    print(\"AUC Score (Train): %f\" % metrics.roc_auc_score(ytrain, dtrain_predprob))"
   ]
  },
  {
   "cell_type": "code",
   "execution_count": 77,
   "metadata": {},
   "outputs": [
    {
     "name": "stdout",
     "output_type": "stream",
     "text": [
      "51\n",
      "\n",
      "Model Report\n",
      "Accuracy : 0.983\n",
      "AUC Score (Train): 0.844844\n"
     ]
    },
    {
     "ename": "TypeError",
     "evalue": "'str' object is not callable",
     "output_type": "error",
     "traceback": [
      "\u001b[0;31m---------------------------------------------------------------------------\u001b[0m",
      "\u001b[0;31mTypeError\u001b[0m                                 Traceback (most recent call last)",
      "\u001b[0;32m<ipython-input-77-c844100edf3d>\u001b[0m in \u001b[0;36m<module>\u001b[0;34m\u001b[0m\n\u001b[1;32m     11\u001b[0m  \u001b[0mscale_pos_weight\u001b[0m\u001b[0;34m=\u001b[0m\u001b[0;36m1\u001b[0m\u001b[0;34m,\u001b[0m\u001b[0;34m\u001b[0m\u001b[0;34m\u001b[0m\u001b[0m\n\u001b[1;32m     12\u001b[0m  seed=27)\n\u001b[0;32m---> 13\u001b[0;31m \u001b[0mmodelfit\u001b[0m\u001b[0;34m(\u001b[0m\u001b[0mxgb1\u001b[0m\u001b[0;34m,\u001b[0m \u001b[0mX_transform\u001b[0m\u001b[0;34m,\u001b[0m \u001b[0my_train\u001b[0m\u001b[0;34m)\u001b[0m\u001b[0;34m\u001b[0m\u001b[0;34m\u001b[0m\u001b[0m\n\u001b[0m",
      "\u001b[0;32m<ipython-input-76-97bb91af045b>\u001b[0m in \u001b[0;36mmodelfit\u001b[0;34m(alg, dtrain, ytrain, useTrainCV, cv_folds, early_stopping_rounds)\u001b[0m\n\u001b[1;32m     21\u001b[0m     \u001b[0mprint\u001b[0m\u001b[0;34m(\u001b[0m\u001b[0;34m\"AUC Score (Train): %f\"\u001b[0m \u001b[0;34m%\u001b[0m \u001b[0mmetrics\u001b[0m\u001b[0;34m.\u001b[0m\u001b[0mroc_auc_score\u001b[0m\u001b[0;34m(\u001b[0m\u001b[0mytrain\u001b[0m\u001b[0;34m,\u001b[0m \u001b[0mdtrain_predprob\u001b[0m\u001b[0;34m)\u001b[0m\u001b[0;34m)\u001b[0m\u001b[0;34m\u001b[0m\u001b[0;34m\u001b[0m\u001b[0m\n\u001b[1;32m     22\u001b[0m \u001b[0;34m\u001b[0m\u001b[0m\n\u001b[0;32m---> 23\u001b[0;31m     \u001b[0mfeat_imp\u001b[0m \u001b[0;34m=\u001b[0m \u001b[0mpd\u001b[0m\u001b[0;34m.\u001b[0m\u001b[0mSeries\u001b[0m\u001b[0;34m(\u001b[0m\u001b[0malg\u001b[0m\u001b[0;34m.\u001b[0m\u001b[0mbooster\u001b[0m\u001b[0;34m(\u001b[0m\u001b[0;34m)\u001b[0m\u001b[0;34m.\u001b[0m\u001b[0mget_fscore\u001b[0m\u001b[0;34m(\u001b[0m\u001b[0;34m)\u001b[0m\u001b[0;34m)\u001b[0m\u001b[0;34m.\u001b[0m\u001b[0msort_values\u001b[0m\u001b[0;34m(\u001b[0m\u001b[0mascending\u001b[0m\u001b[0;34m=\u001b[0m\u001b[0;32mFalse\u001b[0m\u001b[0;34m)\u001b[0m\u001b[0;34m\u001b[0m\u001b[0;34m\u001b[0m\u001b[0m\n\u001b[0m\u001b[1;32m     24\u001b[0m     \u001b[0mfeat_imp\u001b[0m\u001b[0;34m.\u001b[0m\u001b[0mplot\u001b[0m\u001b[0;34m(\u001b[0m\u001b[0mkind\u001b[0m\u001b[0;34m=\u001b[0m\u001b[0;34m'bar'\u001b[0m\u001b[0;34m,\u001b[0m \u001b[0mtitle\u001b[0m\u001b[0;34m=\u001b[0m\u001b[0;34m'Feature Importances'\u001b[0m\u001b[0;34m)\u001b[0m\u001b[0;34m\u001b[0m\u001b[0;34m\u001b[0m\u001b[0m\n\u001b[1;32m     25\u001b[0m     \u001b[0mplt\u001b[0m\u001b[0;34m.\u001b[0m\u001b[0mylabel\u001b[0m\u001b[0;34m(\u001b[0m\u001b[0;34m'Feature Importance Score'\u001b[0m\u001b[0;34m)\u001b[0m\u001b[0;34m\u001b[0m\u001b[0;34m\u001b[0m\u001b[0m\n",
      "\u001b[0;31mTypeError\u001b[0m: 'str' object is not callable"
     ]
    }
   ],
   "source": [
    "xgb1 = XGBClassifier(\n",
    " learning_rate =0.1,\n",
    " n_estimators=1000,\n",
    " max_depth=5,\n",
    " min_child_weight=1,\n",
    " gamma=0,\n",
    " subsample=0.8,\n",
    " colsample_bytree=0.8,\n",
    " objective= 'binary:logistic',\n",
    " nthread=4,\n",
    " scale_pos_weight=1,\n",
    " seed=27)\n",
    "modelfit(xgb1, X_transform, y_train)"
   ]
  },
  {
   "cell_type": "code",
   "execution_count": 82,
   "metadata": {},
   "outputs": [
    {
     "name": "stdout",
     "output_type": "stream",
     "text": [
      "{'max_depth': 7, 'min_child_weight': 3} 0.6753624656728464\n"
     ]
    }
   ],
   "source": [
    "param_test1 = {\n",
    " 'max_depth':range(3,10,2),\n",
    " 'min_child_weight':range(1,6,2)\n",
    "}\n",
    "gsearch1 = GridSearchCV(estimator = XGBClassifier( learning_rate =0.1, n_estimators=51, max_depth=5,\n",
    " min_child_weight=1, gamma=0, subsample=0.8, colsample_bytree=0.8,\n",
    " objective= 'binary:logistic', scale_pos_weight=1, seed=27), \n",
    " param_grid = param_test1, scoring='roc_auc',n_jobs=4,iid=False, cv=5)\n",
    "gsearch1.fit(X_transform,y_train)\n",
    "print(gsearch1.best_params_, gsearch1.best_score_)"
   ]
  },
  {
   "cell_type": "code",
   "execution_count": 81,
   "metadata": {},
   "outputs": [
    {
     "name": "stdout",
     "output_type": "stream",
     "text": [
      "{'max_depth': 7, 'min_child_weight': 3} 0.6753624656728464\n"
     ]
    }
   ],
   "source": [
    "param_test2 = {\n",
    " 'max_depth':[6,7,8],\n",
    " 'min_child_weight':[2,3,4]\n",
    "}\n",
    "gsearch2 = GridSearchCV(estimator = XGBClassifier( learning_rate =0.1, n_estimators=51, max_depth=5,\n",
    " min_child_weight=1, gamma=0, subsample=0.8, colsample_bytree=0.8,\n",
    " objective= 'binary:logistic', scale_pos_weight=1, seed=27), \n",
    " param_grid = param_test2, scoring='roc_auc',n_jobs=4,iid=False, cv=5)\n",
    "gsearch2.fit(X_transform,y_train)\n",
    "print(gsearch2.best_params_, gsearch2.best_score_)"
   ]
  },
  {
   "cell_type": "code",
   "execution_count": 83,
   "metadata": {},
   "outputs": [
    {
     "name": "stdout",
     "output_type": "stream",
     "text": [
      "{'gamma': 0.0} 0.6753624656728464\n"
     ]
    }
   ],
   "source": [
    "param_test3 = {\n",
    " 'gamma':[i/10.0 for i in range(0,5)]\n",
    "}\n",
    "gsearch3 = GridSearchCV(estimator = XGBClassifier( learning_rate =0.1, n_estimators=51, max_depth=7,\n",
    " min_child_weight=3, gamma=0, subsample=0.8, colsample_bytree=0.8,\n",
    " objective= 'binary:logistic', nthread=4, scale_pos_weight=1,seed=27), \n",
    " param_grid = param_test3, scoring='roc_auc',n_jobs=4,iid=False, cv=5)\n",
    "gsearch3.fit(X_transform,y_train)\n",
    "print(gsearch3.best_params_, gsearch3.best_score_)"
   ]
  },
  {
   "cell_type": "code",
   "execution_count": 84,
   "metadata": {},
   "outputs": [
    {
     "name": "stdout",
     "output_type": "stream",
     "text": [
      "33\n",
      "\n",
      "Model Report\n",
      "Accuracy : 0.983\n",
      "AUC Score (Train): 0.843132\n"
     ]
    },
    {
     "ename": "TypeError",
     "evalue": "'str' object is not callable",
     "output_type": "error",
     "traceback": [
      "\u001b[0;31m---------------------------------------------------------------------------\u001b[0m",
      "\u001b[0;31mTypeError\u001b[0m                                 Traceback (most recent call last)",
      "\u001b[0;32m<ipython-input-84-04633344b139>\u001b[0m in \u001b[0;36m<module>\u001b[0;34m\u001b[0m\n\u001b[1;32m     11\u001b[0m  \u001b[0mscale_pos_weight\u001b[0m\u001b[0;34m=\u001b[0m\u001b[0;36m1\u001b[0m\u001b[0;34m,\u001b[0m\u001b[0;34m\u001b[0m\u001b[0;34m\u001b[0m\u001b[0m\n\u001b[1;32m     12\u001b[0m  seed=27)\n\u001b[0;32m---> 13\u001b[0;31m \u001b[0mmodelfit\u001b[0m\u001b[0;34m(\u001b[0m\u001b[0mxgb2\u001b[0m\u001b[0;34m,\u001b[0m \u001b[0mX_transform\u001b[0m\u001b[0;34m,\u001b[0m \u001b[0my_train\u001b[0m\u001b[0;34m)\u001b[0m\u001b[0;34m\u001b[0m\u001b[0;34m\u001b[0m\u001b[0m\n\u001b[0m",
      "\u001b[0;32m<ipython-input-76-97bb91af045b>\u001b[0m in \u001b[0;36mmodelfit\u001b[0;34m(alg, dtrain, ytrain, useTrainCV, cv_folds, early_stopping_rounds)\u001b[0m\n\u001b[1;32m     21\u001b[0m     \u001b[0mprint\u001b[0m\u001b[0;34m(\u001b[0m\u001b[0;34m\"AUC Score (Train): %f\"\u001b[0m \u001b[0;34m%\u001b[0m \u001b[0mmetrics\u001b[0m\u001b[0;34m.\u001b[0m\u001b[0mroc_auc_score\u001b[0m\u001b[0;34m(\u001b[0m\u001b[0mytrain\u001b[0m\u001b[0;34m,\u001b[0m \u001b[0mdtrain_predprob\u001b[0m\u001b[0;34m)\u001b[0m\u001b[0;34m)\u001b[0m\u001b[0;34m\u001b[0m\u001b[0;34m\u001b[0m\u001b[0m\n\u001b[1;32m     22\u001b[0m \u001b[0;34m\u001b[0m\u001b[0m\n\u001b[0;32m---> 23\u001b[0;31m     \u001b[0mfeat_imp\u001b[0m \u001b[0;34m=\u001b[0m \u001b[0mpd\u001b[0m\u001b[0;34m.\u001b[0m\u001b[0mSeries\u001b[0m\u001b[0;34m(\u001b[0m\u001b[0malg\u001b[0m\u001b[0;34m.\u001b[0m\u001b[0mbooster\u001b[0m\u001b[0;34m(\u001b[0m\u001b[0;34m)\u001b[0m\u001b[0;34m.\u001b[0m\u001b[0mget_fscore\u001b[0m\u001b[0;34m(\u001b[0m\u001b[0;34m)\u001b[0m\u001b[0;34m)\u001b[0m\u001b[0;34m.\u001b[0m\u001b[0msort_values\u001b[0m\u001b[0;34m(\u001b[0m\u001b[0mascending\u001b[0m\u001b[0;34m=\u001b[0m\u001b[0;32mFalse\u001b[0m\u001b[0;34m)\u001b[0m\u001b[0;34m\u001b[0m\u001b[0;34m\u001b[0m\u001b[0m\n\u001b[0m\u001b[1;32m     24\u001b[0m     \u001b[0mfeat_imp\u001b[0m\u001b[0;34m.\u001b[0m\u001b[0mplot\u001b[0m\u001b[0;34m(\u001b[0m\u001b[0mkind\u001b[0m\u001b[0;34m=\u001b[0m\u001b[0;34m'bar'\u001b[0m\u001b[0;34m,\u001b[0m \u001b[0mtitle\u001b[0m\u001b[0;34m=\u001b[0m\u001b[0;34m'Feature Importances'\u001b[0m\u001b[0;34m)\u001b[0m\u001b[0;34m\u001b[0m\u001b[0;34m\u001b[0m\u001b[0m\n\u001b[1;32m     25\u001b[0m     \u001b[0mplt\u001b[0m\u001b[0;34m.\u001b[0m\u001b[0mylabel\u001b[0m\u001b[0;34m(\u001b[0m\u001b[0;34m'Feature Importance Score'\u001b[0m\u001b[0;34m)\u001b[0m\u001b[0;34m\u001b[0m\u001b[0;34m\u001b[0m\u001b[0m\n",
      "\u001b[0;31mTypeError\u001b[0m: 'str' object is not callable"
     ]
    }
   ],
   "source": [
    "xgb2 = XGBClassifier(\n",
    " learning_rate =0.1,\n",
    " n_estimators=1000,\n",
    " max_depth=7,\n",
    " min_child_weight=3,\n",
    " gamma=0,\n",
    " subsample=0.8,\n",
    " colsample_bytree=0.8,\n",
    " objective= 'binary:logistic',\n",
    " nthread=4,\n",
    " scale_pos_weight=1,\n",
    " seed=27)\n",
    "modelfit(xgb2, X_transform, y_train)"
   ]
  },
  {
   "cell_type": "code",
   "execution_count": 85,
   "metadata": {},
   "outputs": [
    {
     "name": "stdout",
     "output_type": "stream",
     "text": [
      "{'colsample_bytree': 0.8, 'subsample': 0.9} 0.6702444248546086\n"
     ]
    }
   ],
   "source": [
    "param_test4 = {\n",
    " 'subsample':[i/10.0 for i in range(6,10)],\n",
    " 'colsample_bytree':[i/10.0 for i in range(6,10)]\n",
    "}\n",
    "gsearch4 = GridSearchCV(estimator = XGBClassifier( learning_rate =0.1, n_estimators=33, max_depth=7,\n",
    " min_child_weight=3, gamma=0, subsample=0.8, colsample_bytree=0.8,\n",
    " objective= 'binary:logistic', nthread=4, scale_pos_weight=1,seed=27), \n",
    " param_grid = param_test4, scoring='roc_auc',n_jobs=4,iid=False, cv=5)\n",
    "gsearch4.fit(X_transform,y_train)\n",
    "print(gsearch4.best_params_, gsearch4.best_score_)"
   ]
  },
  {
   "cell_type": "code",
   "execution_count": 88,
   "metadata": {},
   "outputs": [
    {
     "name": "stdout",
     "output_type": "stream",
     "text": [
      "{'colsample_bytree': 0.75, 'subsample': 0.95} 0.6717478943337934\n"
     ]
    }
   ],
   "source": [
    "param_test5 = {\n",
    " 'subsample':[i/100.0 for i in range(85,100,5)],\n",
    " 'colsample_bytree':[i/100.0 for i in range(75,90,5)]\n",
    "}\n",
    "gsearch5 = GridSearchCV(estimator = XGBClassifier( learning_rate =0.1, n_estimators=33, max_depth=7,\n",
    " min_child_weight=3, gamma=0, subsample=0.8, colsample_bytree=0.8,\n",
    " objective= 'binary:logistic', nthread=4, scale_pos_weight=1,seed=27), \n",
    " param_grid = param_test5, scoring='roc_auc',n_jobs=4,iid=False, cv=5)\n",
    "gsearch5.fit(X_transform,y_train)\n",
    "print(gsearch5.best_params_, gsearch5.best_score_)"
   ]
  },
  {
   "cell_type": "code",
   "execution_count": 89,
   "metadata": {},
   "outputs": [
    {
     "name": "stdout",
     "output_type": "stream",
     "text": [
      "{'max_depth': 7, 'min_child_weight': 5} 0.6704685033321575\n"
     ]
    }
   ],
   "source": [
    "param_test6 = {\n",
    " 'max_depth':range(3,10,2),\n",
    " 'min_child_weight':range(1,6,2)\n",
    "}\n",
    "gsearch6 = GridSearchCV(estimator = XGBClassifier( learning_rate =0.1, n_estimators=33, max_depth=5,\n",
    " min_child_weight=1, gamma=0, subsample=0.8, colsample_bytree=0.8,\n",
    " objective= 'binary:logistic', scale_pos_weight=1, seed=27), \n",
    " param_grid = param_test6, scoring='roc_auc',n_jobs=4,iid=False, cv=5)\n",
    "gsearch6.fit(X_transform,y_train)\n",
    "print(gsearch6.best_params_, gsearch6.best_score_)"
   ]
  },
  {
   "cell_type": "code",
   "execution_count": 90,
   "metadata": {},
   "outputs": [
    {
     "name": "stdout",
     "output_type": "stream",
     "text": [
      "{'n_estimators': 51} 0.6641009955565096\n"
     ]
    }
   ],
   "source": [
    "param_test7 = {\n",
    "    'n_estimators':[33,51,100]\n",
    "}\n",
    "gsearch7 = GridSearchCV(estimator = XGBClassifier( learning_rate =0.1, n_estimators=33, max_depth=5,\n",
    " min_child_weight=1, gamma=0, subsample=0.8, colsample_bytree=0.8,\n",
    " objective= 'binary:logistic', scale_pos_weight=1, seed=27), \n",
    " param_grid = param_test7, scoring='roc_auc',n_jobs=4,iid=False, cv=5)\n",
    "gsearch7.fit(X_transform,y_train)\n",
    "print(gsearch7.best_params_, gsearch7.best_score_)"
   ]
  },
  {
   "cell_type": "code",
   "execution_count": 92,
   "metadata": {},
   "outputs": [
    {
     "name": "stdout",
     "output_type": "stream",
     "text": [
      "{'n_estimators': 55} 0.6669230006332059\n"
     ]
    }
   ],
   "source": [
    "param_test7 = {\n",
    "    'n_estimators':[53,55,57]\n",
    "}\n",
    "gsearch7 = GridSearchCV(estimator = XGBClassifier( learning_rate =0.1, n_estimators=33, max_depth=5,\n",
    " min_child_weight=1, gamma=0, subsample=0.8, colsample_bytree=0.8,\n",
    " objective= 'binary:logistic', scale_pos_weight=1, seed=27), \n",
    " param_grid = param_test7, scoring='roc_auc',n_jobs=4,iid=False, cv=5)\n",
    "gsearch7.fit(X_transform,y_train)\n",
    "print(gsearch7.best_params_, gsearch7.best_score_)"
   ]
  },
  {
   "cell_type": "code",
   "execution_count": 94,
   "metadata": {},
   "outputs": [
    {
     "name": "stdout",
     "output_type": "stream",
     "text": [
      "{'max_depth': 5, 'min_child_weight': 5} 0.6763702954250718\n"
     ]
    }
   ],
   "source": [
    "param_test8 = {\n",
    " 'max_depth':range(3,10,2),\n",
    " 'min_child_weight':range(1,6,2)\n",
    "}\n",
    "gsearch8 = GridSearchCV(estimator = XGBClassifier( learning_rate =0.1, n_estimators=55, max_depth=5,\n",
    " min_child_weight=1, gamma=0, subsample=0.8, colsample_bytree=0.8,\n",
    " objective= 'binary:logistic', scale_pos_weight=1, seed=27), \n",
    " param_grid = param_test8, scoring='roc_auc',n_jobs=4,iid=False, cv=5)\n",
    "gsearch8.fit(X_transform,y_train)\n",
    "print(gsearch8.best_params_, gsearch8.best_score_)"
   ]
  },
  {
   "cell_type": "code",
   "execution_count": 97,
   "metadata": {},
   "outputs": [
    {
     "name": "stdout",
     "output_type": "stream",
     "text": [
      "{'n_estimators': 85} 0.6660269475992936\n"
     ]
    }
   ],
   "source": [
    "param_test7 = {\n",
    "    'n_estimators':[85,90,95]\n",
    "    #.668449 - 65\n",
    "}\n",
    "gsearch7 = GridSearchCV(estimator = XGBClassifier( learning_rate =0.1, n_estimators=33, max_depth=5,\n",
    " min_child_weight=1, gamma=0, subsample=0.8, colsample_bytree=0.8,\n",
    " objective= 'binary:logistic', scale_pos_weight=1, seed=27), \n",
    " param_grid = param_test7, scoring='roc_auc',n_jobs=4,iid=False, cv=5)\n",
    "gsearch7.fit(X_transform,y_train)\n",
    "print(gsearch7.best_params_, gsearch7.best_score_)"
   ]
  },
  {
   "cell_type": "code",
   "execution_count": 98,
   "metadata": {},
   "outputs": [
    {
     "name": "stdout",
     "output_type": "stream",
     "text": [
      "{'max_depth': 5, 'min_child_weight': 5} 0.6766614421258461\n"
     ]
    }
   ],
   "source": [
    "param_test8 = {\n",
    " 'max_depth':range(3,10,2),\n",
    " 'min_child_weight':range(1,6,2)\n",
    "}\n",
    "gsearch8 = GridSearchCV(estimator = XGBClassifier( learning_rate =0.1, n_estimators=65, max_depth=5,\n",
    " min_child_weight=1, gamma=0, subsample=0.8, colsample_bytree=0.8,\n",
    " objective= 'binary:logistic', scale_pos_weight=1, seed=27), \n",
    " param_grid = param_test8, scoring='roc_auc',n_jobs=4,iid=False, cv=5)\n",
    "gsearch8.fit(X_transform,y_train)\n",
    "print(gsearch8.best_params_, gsearch8.best_score_)"
   ]
  },
  {
   "cell_type": "code",
   "execution_count": null,
   "metadata": {},
   "outputs": [],
   "source": []
  }
 ],
 "metadata": {
  "kernelspec": {
   "display_name": "Python 3",
   "language": "python",
   "name": "python3"
  },
  "language_info": {
   "codemirror_mode": {
    "name": "ipython",
    "version": 3
   },
   "file_extension": ".py",
   "mimetype": "text/x-python",
   "name": "python",
   "nbconvert_exporter": "python",
   "pygments_lexer": "ipython3",
   "version": "3.6.9"
  }
 },
 "nbformat": 4,
 "nbformat_minor": 4
}
